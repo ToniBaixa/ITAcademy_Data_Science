{
 "cells": [
  {
   "cell_type": "markdown",
   "id": "2056e70e",
   "metadata": {},
   "source": [
    "# Tasca M6 T01"
   ]
  },
  {
   "cell_type": "markdown",
   "id": "2279cd19",
   "metadata": {},
   "source": [
    "### Ex1\n",
    "##### Crea almenys dos models de regressió diferents per intentar predir el millor possible el preu de les vivendes (MEDV) de l'arxiu adjunt.\n",
    "##### Usarem: Linear Regression & Polynomial Regression!"
   ]
  },
  {
   "cell_type": "code",
   "execution_count": 31,
   "id": "3d24cd69",
   "metadata": {
    "ExecuteTime": {
     "end_time": "2022-05-04T15:35:55.570459Z",
     "start_time": "2022-05-04T15:35:55.497935Z"
    }
   },
   "outputs": [
    {
     "name": "stdout",
     "output_type": "stream",
     "text": [
      "      CRIM    ZN  INDUS  CHAS    NOX     RM   AGE     DIS  RAD    TAX  \\\n",
      "0  0.00632  18.0   2.31     0  0.538  6.575  65.2  4.0900    1  296.0   \n",
      "1  0.02731   0.0   7.07     0  0.469  6.421  78.9  4.9671    2  242.0   \n",
      "2  0.02729   0.0   7.07     0  0.469  7.185  61.1  4.9671    2  242.0   \n",
      "3  0.03237   0.0   2.18     0  0.458  6.998  45.8  6.0622    3  222.0   \n",
      "4  0.06905   0.0   2.18     0  0.458  7.147  54.2  6.0622    3  222.0   \n",
      "\n",
      "   PTRATIO       B  LSTAT  MEDV  \n",
      "0     15.3  396.90   4.98  24.0  \n",
      "1     17.8  396.90   9.14  21.6  \n",
      "2     17.8  392.83   4.03  34.7  \n",
      "3     18.7  394.63   2.94  33.4  \n",
      "4     18.7  396.90   5.33  36.2  \n"
     ]
    }
   ],
   "source": [
    "%matplotlib inline\n",
    "import numpy as np\n",
    "import pandas as pd\n",
    "from sklearn import linear_model\n",
    "\n",
    "columnes= ['CRIM', 'ZN', 'INDUS','CHAS', 'NOX', 'RM', 'AGE', 'DIS', 'RAD', 'TAX', 'PTRATIO', 'B', 'LSTAT', 'MEDV']\n",
    "df = pd.read_csv(r\"housing data.csv\", names=columnes)\n",
    "# data = openFileTable(path_name, \"housing data.csv\", separator, columnes)\n",
    "print (df.head())\n"
   ]
  },
  {
   "cell_type": "code",
   "execution_count": 32,
   "id": "816f063d",
   "metadata": {},
   "outputs": [
    {
     "data": {
      "text/plain": [
       "(506, 14)"
      ]
     },
     "execution_count": 32,
     "metadata": {},
     "output_type": "execute_result"
    }
   ],
   "source": [
    "df.shape"
   ]
  },
  {
   "cell_type": "code",
   "execution_count": 33,
   "id": "e4b9e585",
   "metadata": {},
   "outputs": [
    {
     "data": {
      "text/plain": [
       "CRIM       0\n",
       "ZN         0\n",
       "INDUS      0\n",
       "CHAS       0\n",
       "NOX        0\n",
       "RM         0\n",
       "AGE        0\n",
       "DIS        0\n",
       "RAD        0\n",
       "TAX        0\n",
       "PTRATIO    0\n",
       "B          0\n",
       "LSTAT      0\n",
       "MEDV       0\n",
       "dtype: int64"
      ]
     },
     "execution_count": 33,
     "metadata": {},
     "output_type": "execute_result"
    }
   ],
   "source": [
    "df.isnull().sum()\n",
    "# Wonderful, no Nulls!"
   ]
  },
  {
   "cell_type": "code",
   "execution_count": 34,
   "id": "4d40457a",
   "metadata": {},
   "outputs": [
    {
     "data": {
      "text/html": [
       "<div>\n",
       "<style scoped>\n",
       "    .dataframe tbody tr th:only-of-type {\n",
       "        vertical-align: middle;\n",
       "    }\n",
       "\n",
       "    .dataframe tbody tr th {\n",
       "        vertical-align: top;\n",
       "    }\n",
       "\n",
       "    .dataframe thead th {\n",
       "        text-align: right;\n",
       "    }\n",
       "</style>\n",
       "<table border=\"1\" class=\"dataframe\">\n",
       "  <thead>\n",
       "    <tr style=\"text-align: right;\">\n",
       "      <th></th>\n",
       "      <th>CRIM</th>\n",
       "      <th>ZN</th>\n",
       "      <th>INDUS</th>\n",
       "      <th>CHAS</th>\n",
       "      <th>NOX</th>\n",
       "      <th>RM</th>\n",
       "      <th>AGE</th>\n",
       "      <th>DIS</th>\n",
       "      <th>RAD</th>\n",
       "      <th>TAX</th>\n",
       "      <th>PTRATIO</th>\n",
       "      <th>B</th>\n",
       "      <th>LSTAT</th>\n",
       "      <th>MEDV</th>\n",
       "    </tr>\n",
       "  </thead>\n",
       "  <tbody>\n",
       "    <tr>\n",
       "      <th>count</th>\n",
       "      <td>506.000000</td>\n",
       "      <td>506.000000</td>\n",
       "      <td>506.000000</td>\n",
       "      <td>506.000000</td>\n",
       "      <td>506.000000</td>\n",
       "      <td>506.000000</td>\n",
       "      <td>506.000000</td>\n",
       "      <td>506.000000</td>\n",
       "      <td>506.000000</td>\n",
       "      <td>506.000000</td>\n",
       "      <td>506.000000</td>\n",
       "      <td>506.000000</td>\n",
       "      <td>506.000000</td>\n",
       "      <td>506.000000</td>\n",
       "    </tr>\n",
       "    <tr>\n",
       "      <th>mean</th>\n",
       "      <td>3.613524</td>\n",
       "      <td>11.363636</td>\n",
       "      <td>11.136779</td>\n",
       "      <td>0.069170</td>\n",
       "      <td>0.554695</td>\n",
       "      <td>6.284634</td>\n",
       "      <td>68.574901</td>\n",
       "      <td>3.795043</td>\n",
       "      <td>9.549407</td>\n",
       "      <td>408.237154</td>\n",
       "      <td>18.455534</td>\n",
       "      <td>356.674032</td>\n",
       "      <td>12.653063</td>\n",
       "      <td>22.532806</td>\n",
       "    </tr>\n",
       "    <tr>\n",
       "      <th>std</th>\n",
       "      <td>8.601545</td>\n",
       "      <td>23.322453</td>\n",
       "      <td>6.860353</td>\n",
       "      <td>0.253994</td>\n",
       "      <td>0.115878</td>\n",
       "      <td>0.702617</td>\n",
       "      <td>28.148861</td>\n",
       "      <td>2.105710</td>\n",
       "      <td>8.707259</td>\n",
       "      <td>168.537116</td>\n",
       "      <td>2.164946</td>\n",
       "      <td>91.294864</td>\n",
       "      <td>7.141062</td>\n",
       "      <td>9.197104</td>\n",
       "    </tr>\n",
       "    <tr>\n",
       "      <th>min</th>\n",
       "      <td>0.006320</td>\n",
       "      <td>0.000000</td>\n",
       "      <td>0.460000</td>\n",
       "      <td>0.000000</td>\n",
       "      <td>0.385000</td>\n",
       "      <td>3.561000</td>\n",
       "      <td>2.900000</td>\n",
       "      <td>1.129600</td>\n",
       "      <td>1.000000</td>\n",
       "      <td>187.000000</td>\n",
       "      <td>12.600000</td>\n",
       "      <td>0.320000</td>\n",
       "      <td>1.730000</td>\n",
       "      <td>5.000000</td>\n",
       "    </tr>\n",
       "    <tr>\n",
       "      <th>25%</th>\n",
       "      <td>0.082045</td>\n",
       "      <td>0.000000</td>\n",
       "      <td>5.190000</td>\n",
       "      <td>0.000000</td>\n",
       "      <td>0.449000</td>\n",
       "      <td>5.885500</td>\n",
       "      <td>45.025000</td>\n",
       "      <td>2.100175</td>\n",
       "      <td>4.000000</td>\n",
       "      <td>279.000000</td>\n",
       "      <td>17.400000</td>\n",
       "      <td>375.377500</td>\n",
       "      <td>6.950000</td>\n",
       "      <td>17.025000</td>\n",
       "    </tr>\n",
       "    <tr>\n",
       "      <th>50%</th>\n",
       "      <td>0.256510</td>\n",
       "      <td>0.000000</td>\n",
       "      <td>9.690000</td>\n",
       "      <td>0.000000</td>\n",
       "      <td>0.538000</td>\n",
       "      <td>6.208500</td>\n",
       "      <td>77.500000</td>\n",
       "      <td>3.207450</td>\n",
       "      <td>5.000000</td>\n",
       "      <td>330.000000</td>\n",
       "      <td>19.050000</td>\n",
       "      <td>391.440000</td>\n",
       "      <td>11.360000</td>\n",
       "      <td>21.200000</td>\n",
       "    </tr>\n",
       "    <tr>\n",
       "      <th>75%</th>\n",
       "      <td>3.677083</td>\n",
       "      <td>12.500000</td>\n",
       "      <td>18.100000</td>\n",
       "      <td>0.000000</td>\n",
       "      <td>0.624000</td>\n",
       "      <td>6.623500</td>\n",
       "      <td>94.075000</td>\n",
       "      <td>5.188425</td>\n",
       "      <td>24.000000</td>\n",
       "      <td>666.000000</td>\n",
       "      <td>20.200000</td>\n",
       "      <td>396.225000</td>\n",
       "      <td>16.955000</td>\n",
       "      <td>25.000000</td>\n",
       "    </tr>\n",
       "    <tr>\n",
       "      <th>max</th>\n",
       "      <td>88.976200</td>\n",
       "      <td>100.000000</td>\n",
       "      <td>27.740000</td>\n",
       "      <td>1.000000</td>\n",
       "      <td>0.871000</td>\n",
       "      <td>8.780000</td>\n",
       "      <td>100.000000</td>\n",
       "      <td>12.126500</td>\n",
       "      <td>24.000000</td>\n",
       "      <td>711.000000</td>\n",
       "      <td>22.000000</td>\n",
       "      <td>396.900000</td>\n",
       "      <td>37.970000</td>\n",
       "      <td>50.000000</td>\n",
       "    </tr>\n",
       "  </tbody>\n",
       "</table>\n",
       "</div>"
      ],
      "text/plain": [
       "             CRIM          ZN       INDUS        CHAS         NOX          RM  \\\n",
       "count  506.000000  506.000000  506.000000  506.000000  506.000000  506.000000   \n",
       "mean     3.613524   11.363636   11.136779    0.069170    0.554695    6.284634   \n",
       "std      8.601545   23.322453    6.860353    0.253994    0.115878    0.702617   \n",
       "min      0.006320    0.000000    0.460000    0.000000    0.385000    3.561000   \n",
       "25%      0.082045    0.000000    5.190000    0.000000    0.449000    5.885500   \n",
       "50%      0.256510    0.000000    9.690000    0.000000    0.538000    6.208500   \n",
       "75%      3.677083   12.500000   18.100000    0.000000    0.624000    6.623500   \n",
       "max     88.976200  100.000000   27.740000    1.000000    0.871000    8.780000   \n",
       "\n",
       "              AGE         DIS         RAD         TAX     PTRATIO           B  \\\n",
       "count  506.000000  506.000000  506.000000  506.000000  506.000000  506.000000   \n",
       "mean    68.574901    3.795043    9.549407  408.237154   18.455534  356.674032   \n",
       "std     28.148861    2.105710    8.707259  168.537116    2.164946   91.294864   \n",
       "min      2.900000    1.129600    1.000000  187.000000   12.600000    0.320000   \n",
       "25%     45.025000    2.100175    4.000000  279.000000   17.400000  375.377500   \n",
       "50%     77.500000    3.207450    5.000000  330.000000   19.050000  391.440000   \n",
       "75%     94.075000    5.188425   24.000000  666.000000   20.200000  396.225000   \n",
       "max    100.000000   12.126500   24.000000  711.000000   22.000000  396.900000   \n",
       "\n",
       "            LSTAT        MEDV  \n",
       "count  506.000000  506.000000  \n",
       "mean    12.653063   22.532806  \n",
       "std      7.141062    9.197104  \n",
       "min      1.730000    5.000000  \n",
       "25%      6.950000   17.025000  \n",
       "50%     11.360000   21.200000  \n",
       "75%     16.955000   25.000000  \n",
       "max     37.970000   50.000000  "
      ]
     },
     "execution_count": 34,
     "metadata": {},
     "output_type": "execute_result"
    }
   ],
   "source": [
    "df.describe()"
   ]
  },
  {
   "cell_type": "markdown",
   "id": "53065300",
   "metadata": {},
   "source": [
    "1. Title: Boston Housing Data\n",
    "\n",
    "2. Sources:\n",
    "   (a) Origin:  This dataset was taken from the StatLib library which is\n",
    "                maintained at Carnegie Mellon University.\n",
    "   (b) Creator:  Harrison, D. and Rubinfeld, D.L. 'Hedonic prices and the \n",
    "                 demand for clean air', J. Environ. Economics & Management,\n",
    "                 vol.5, 81-102, 1978.\n",
    "   (c) Date: July 7, 1993\n",
    "\n",
    "3. Past Usage:\n",
    "   -   Used in Belsley, Kuh & Welsch, 'Regression diagnostics ...', Wiley, \n",
    "       1980.   N.B. Various transformations are used in the table on\n",
    "       pages 244-261.\n",
    "    -  Quinlan,R. (1993). Combining Instance-Based and Model-Based Learning.\n",
    "       In Proceedings on the Tenth International Conference of Machine \n",
    "       Learning, 236-243, University of Massachusetts, Amherst. Morgan\n",
    "       Kaufmann.\n",
    "\n",
    "4. Relevant Information:\n",
    "\n",
    "   Concerns housing values in suburbs of Boston.\n",
    "\n",
    "5. Number of Instances: 506\n",
    "\n",
    "6. Number of Attributes: 13 continuous attributes (including \"class\"\n",
    "                         attribute \"MEDV\"), 1 binary-valued attribute.\n",
    "\n",
    "7. Attribute Information:\n",
    "\n",
    "    1. CRIM      per capita crime rate by town\n",
    "    2. ZN        proportion of residential land zoned for lots over \n",
    "                 25,000 sq.ft.\n",
    "    3. INDUS     proportion of non-retail business acres per town\n",
    "    4. CHAS      Charles River dummy variable (= 1 if tract bounds \n",
    "                 river; 0 otherwise)\n",
    "    5. NOX       nitric oxides concentration (parts per 10 million)\n",
    "    6. RM        average number of rooms per dwelling\n",
    "    7. AGE       proportion of owner-occupied units built prior to 1940\n",
    "    8. DIS       weighted distances to five Boston employment centres\n",
    "    9. RAD       index of accessibility to radial highways\n",
    "    10. TAX      full-value property-tax rate per $10,000\n",
    "    11. PTRATIO  pupil-teacher ratio by town\n",
    "    12. B        1000(Bk - 0.63)^2 where Bk is the proportion of blacks \n",
    "                 by town\n",
    "    13. LSTAT    % lower status of the population\n",
    "    14. MEDV     Median value of owner-occupied homes in $1000's\n",
    "\n",
    "8. Missing Attribute Values:  None.\n"
   ]
  },
  {
   "cell_type": "code",
   "execution_count": 35,
   "id": "fdc175fa",
   "metadata": {},
   "outputs": [
    {
     "data": {
      "text/plain": [
       "<AxesSubplot:>"
      ]
     },
     "execution_count": 35,
     "metadata": {},
     "output_type": "execute_result"
    },
    {
     "data": {
      "image/png": "[encoded data removed]",
      "text/plain": [
       "<Figure size 1080x576 with 2 Axes>"
      ]
     },
     "metadata": {
      "needs_background": "light"
     },
     "output_type": "display_data"
    }
   ],
   "source": [
    "# check correlation\n",
    "import seaborn as sns\n",
    "import matplotlib.pyplot as plt\n",
    "df.corr()\n",
    "plt.figure(figsize=(15,8))\n",
    "sns.heatmap(df.corr() , annot=True , lw=1 )"
   ]
  },
  {
   "cell_type": "markdown",
   "id": "f3b0f24e",
   "metadata": {},
   "source": [
    "##### Seems MEDV has a very strong correlation to RM (Average number of rooms per dwelling) and a pretty significant negative correlations between LSTAT, PTRATIO, INDUS, and TAX"
   ]
  },
  {
   "cell_type": "markdown",
   "id": "7fbeef28",
   "metadata": {},
   "source": [
    "#### Set Train/Test"
   ]
  },
  {
   "cell_type": "code",
   "execution_count": 36,
   "id": "2591f582",
   "metadata": {},
   "outputs": [],
   "source": [
    "from sklearn.model_selection import train_test_split\n",
    "\n",
    "#dataset & Prepare Target\n",
    "# X, y = datasets.load_iris(return_X_y=True)\n",
    "y = np.array(df['MEDV'])\n",
    "X= df.drop('MEDV', axis = 1)\n",
    "X_list = list(X.columns)\n",
    "\n",
    "\n",
    "# 40% for test\n",
    "X_train, X_test, y_train, y_test = train_test_split(X, y, test_size=0.4, random_state=0)"
   ]
  },
  {
   "cell_type": "code",
   "execution_count": 37,
   "id": "a169595a",
   "metadata": {},
   "outputs": [
    {
     "name": "stdout",
     "output_type": "stream",
     "text": [
      "(303, 13)\n",
      "(203, 13)\n",
      "(303,)\n",
      "(203,)\n"
     ]
    }
   ],
   "source": [
    "print(X_train.shape)\n",
    "print(X_test.shape)\n",
    "print(y_train.shape)\n",
    "print(y_test.shape)"
   ]
  },
  {
   "cell_type": "markdown",
   "id": "ee8c21df",
   "metadata": {},
   "source": [
    "#### Model 1 = Linear Regression"
   ]
  },
  {
   "cell_type": "code",
   "execution_count": 38,
   "id": "137e3c08",
   "metadata": {},
   "outputs": [
    {
     "name": "stdout",
     "output_type": "stream",
     "text": [
      "coefficient of determination: 0.7668160223286261\n"
     ]
    }
   ],
   "source": [
    "from sklearn.linear_model import LinearRegression\n",
    "\n",
    "#instance of our model\n",
    "model = LinearRegression().fit(X_train, y_train)\n",
    "# coefficient of determinatios = .score\n",
    "r_sq = model.score(X_train, y_train)\n",
    "print(f\"coefficient of determination: {r_sq}\")"
   ]
  },
  {
   "cell_type": "code",
   "execution_count": 39,
   "id": "f9bf05f1",
   "metadata": {},
   "outputs": [
    {
     "name": "stdout",
     "output_type": "stream",
     "text": [
      "intercept b0: 45.48141959325112\n",
      "slope b1: [-1.03747356e-01  5.58589924e-02  5.88240770e-02  2.50523544e+00\n",
      " -1.90284888e+01  3.25353601e+00 -3.22150522e-03 -1.57603462e+00\n",
      "  2.58716068e-01 -1.14681299e-02 -1.10777478e+00  5.50051783e-03\n",
      " -5.59569992e-01]\n"
     ]
    }
   ],
   "source": [
    "print(f\"intercept b0: {model.intercept_}\")\n",
    "print(f\"slope b1: {model.coef_}\")"
   ]
  },
  {
   "cell_type": "code",
   "execution_count": 40,
   "id": "08c43906",
   "metadata": {},
   "outputs": [
    {
     "name": "stdout",
     "output_type": "stream",
     "text": [
      "predicted response:\n",
      "[24.58155243 24.51629253 29.71379915 12.51132696 21.34965428 19.05443022\n",
      " 20.94614567 20.95753329 19.54644456 20.53025981  6.96153725 17.1707288\n",
      " 16.85608802  5.74921859 40.74378524 32.62964196 22.88997064 37.11387241\n",
      " 30.94054261 23.12796161 24.54411122 25.50446659 20.37697803 30.82455449\n",
      " 22.42949559 12.45993818 17.10212725 18.52819406 34.91024736 20.63587192\n",
      " 18.38567423 17.65503994 19.39633993 23.8814007  29.06559846 19.49721361\n",
      " 10.81151906 25.66712254 18.47597465 15.40207099 26.55714333 20.56301083\n",
      " 21.8661955  16.10102382 22.05244625 24.87100697 19.97650209 22.98518884\n",
      "  9.46781454 23.96350651 21.66355147 16.95911711 24.48952338 28.692406\n",
      " 13.80788563 21.35149553 20.72525415 14.54282452 16.61385208 22.02338757\n",
      " 17.15670419 21.27690041 33.12409276 31.40070549 18.22591067 33.35335507\n",
      " 18.26583607 18.69440702 19.46223051 23.01614743 23.08383927 24.24060449\n",
      " 31.46365924 28.75560967 26.32535083  4.94498016 36.16174377 23.6119604\n",
      " 27.09367373 19.04866966 28.60456874 19.16670874 19.8980694  37.3779521\n",
      " 38.54326523 23.44222536 24.71260439 17.36345744 26.24309463 16.46001101\n",
      " 15.49549173 12.99892537 24.90156151 31.31906531 22.32389602 19.77147408\n",
      "  0.39563905 25.35932868 15.92697707 17.42665161 25.33097699 22.03853346\n",
      " 32.48171655 22.05967751 27.07700961 23.35404531  7.2956865  15.69000905\n",
      " 22.30144799 29.36865198 34.1291138  13.23745802 19.40592666 20.75448625\n",
      " 11.33021991 23.29624296  4.74027428 20.02009615  9.31551538 45.20568188\n",
      " 30.89908863 12.25262113 17.16550684 21.22328782 23.73552003 21.03387818\n",
      " 34.93370572 12.98540543 20.76915899 35.40308195 19.24125193 13.28884198\n",
      " 14.36643852 23.90294596 14.52270294 31.07774479 25.26970849 14.95700671\n",
      " 23.66302972  9.55785281 14.70899341 20.65791202 32.60450194 27.86887317\n",
      " 25.99433831 14.93280205 31.26889799 27.12710604 14.39292898  7.22447485\n",
      " 28.56228159 24.83574781  3.9319552  28.53645996 17.02474435 30.18463196\n",
      " 20.98060755 14.97401238 17.58046178 11.97364144  9.01221584 18.78596\n",
      " 34.54755408 32.69375742 22.35908781 18.94042058 22.71561523 26.7503581\n",
      " 21.88243156 17.241734   32.55638286 11.11432479 19.15932632 33.87025984\n",
      " 19.07203575 15.83715892 18.5275603  13.93356225 24.6112186  24.10822119\n",
      " 16.62901342 14.88029584 19.73198007 25.86917969 16.75148456 24.46774899\n",
      " 21.67865126 27.92069012 35.11212005 17.07584017 11.94679816 34.42681871\n",
      " 30.51034425 20.6905864  39.68629868 29.91706802 29.21514166 17.6301969\n",
      " 27.2195486  40.06507642 29.48926372 16.58871089 37.21015438]\n"
     ]
    }
   ],
   "source": [
    "#predict new data -> b0+b1*x\n",
    "y_pred_model1 = model.predict(X_test)\n",
    "print(f\"predicted response:\\n{y_pred_model1}\")"
   ]
  },
  {
   "cell_type": "code",
   "execution_count": 41,
   "id": "17de466a",
   "metadata": {},
   "outputs": [
    {
     "data": {
      "text/plain": [
       "<matplotlib.collections.PathCollection at 0x2039e3796d0>"
      ]
     },
     "execution_count": 41,
     "metadata": {},
     "output_type": "execute_result"
    },
    {
     "data": {
      "image/png": "[encoded data removed]",
      "text/plain": [
       "<Figure size 432x288 with 1 Axes>"
      ]
     },
     "metadata": {
      "needs_background": "light"
     },
     "output_type": "display_data"
    }
   ],
   "source": [
    "#Visualizing the test set results: \n",
    "plt.scatter(y_test,y_pred_model1)"
   ]
  },
  {
   "cell_type": "code",
   "execution_count": 42,
   "id": "958dd550",
   "metadata": {},
   "outputs": [
    {
     "data": {
      "text/plain": [
       "<AxesSubplot:ylabel='Count'>"
      ]
     },
     "execution_count": 42,
     "metadata": {},
     "output_type": "execute_result"
    },
    {
     "data": {
      "image/png": "[encoded data removed]",
      "text/plain": [
       "<Figure size 432x288 with 1 Axes>"
      ]
     },
     "metadata": {
      "needs_background": "light"
     },
     "output_type": "display_data"
    }
   ],
   "source": [
    "sns.histplot(y_test-y_pred_model1, kde=True)"
   ]
  },
  {
   "cell_type": "markdown",
   "id": "e2810e47",
   "metadata": {},
   "source": [
    "#### Model 2 = Polynomial Regression"
   ]
  },
  {
   "cell_type": "code",
   "execution_count": 43,
   "id": "4e4dc7bb",
   "metadata": {},
   "outputs": [],
   "source": [
    "from sklearn.preprocessing import PolynomialFeatures\n",
    "#transform to include some X2...\n",
    "transformer = PolynomialFeatures(degree=2, include_bias=False)\n"
   ]
  },
  {
   "cell_type": "code",
   "execution_count": 44,
   "id": "4480255b",
   "metadata": {},
   "outputs": [
    {
     "name": "stdout",
     "output_type": "stream",
     "text": [
      "[[3.76800000e-02 8.00000000e+01 1.52000000e+00 ... 1.53820840e+05\n",
      "  2.59636400e+03 4.38244000e+01]\n",
      " [2.37934000e+00 0.00000000e+00 1.95800000e+01 ... 2.98978681e+04\n",
      "  4.80689800e+03 7.72840000e+02]\n",
      " [1.34284000e+00 0.00000000e+00 1.95800000e+01 ... 1.25238132e+05\n",
      "  2.27551270e+03 4.13449000e+01]\n",
      " ...\n",
      " [1.50980000e-01 0.00000000e+00 1.00100000e+01 ... 1.55638140e+05\n",
      "  4.06345300e+03 1.06090000e+02]\n",
      " [2.29270000e-01 0.00000000e+00 6.91000000e+00 ... 1.54244708e+05\n",
      "  7.38351200e+03 3.53440000e+02]\n",
      " [1.39140000e-01 0.00000000e+00 4.05000000e+00 ... 1.57529610e+05\n",
      "  5.83046100e+03 2.15796100e+02]]\n"
     ]
    }
   ],
   "source": [
    "# modified array\n",
    "X_train_trans = transformer.fit_transform(X_train)\n",
    "X_test_trans = transformer.fit_transform(X_test)\n",
    "print (X_train_trans)"
   ]
  },
  {
   "cell_type": "code",
   "execution_count": 45,
   "id": "be5e14b6",
   "metadata": {},
   "outputs": [
    {
     "name": "stdout",
     "output_type": "stream",
     "text": [
      "coefficient of determination: 0.9597608327938121\n",
      "intercept: 0.29697542897940465\n",
      "coefficients: [ 3.84568256e+00  4.58976975e-01 -6.83390427e+00  4.81707786e+01\n",
      " -1.14396214e+02  1.49087859e+00  1.86209955e+00 -8.08627072e+00\n",
      "  5.39036137e-01  2.31935837e-01  2.72060626e+00 -1.83939615e-01\n",
      " -2.71082317e+00  2.27396567e-03  4.56337324e-01  6.45070380e-01\n",
      "  7.45434678e-01  1.72291855e-01  4.15382926e-02 -5.58341307e-03\n",
      "  1.03919340e-01  9.47490810e-01 -6.97774028e-02  3.72974844e-01\n",
      "  4.12679437e-04  1.11016633e-02 -1.67400884e-03 -1.03730638e-02\n",
      "  7.71789041e-03 -1.84100057e+00  2.57512400e-02  1.22867594e-03\n",
      "  7.26640280e-03 -1.65545877e-03  5.96446312e-04 -1.17222095e-02\n",
      "  8.31737828e-04 -7.21793513e-03  4.89672705e-02  3.51046356e-01\n",
      "  1.39610030e+00  4.46473124e-01  4.62714397e-03  1.82508629e-01\n",
      " -3.32174248e-02  1.78826382e-03 -2.87771516e-02  4.32520251e-03\n",
      " -1.69200283e-02  4.81707787e+01 -6.87565091e+01 -7.26936287e+00\n",
      "  7.30831445e-02 -1.01488488e+00  2.70741076e-01  1.85778783e-02\n",
      " -1.23265401e+00  4.70893999e-03 -4.48858113e-01  4.30515813e+01\n",
      "  1.55913002e+01 -5.11273145e-01  2.15318505e+01 -1.59949100e+00\n",
      "  1.04599937e-01 -1.00306666e+01  1.28507964e-01  2.19000519e+00\n",
      "  8.50111306e-01 -1.23204851e-01  1.30713789e-01  6.60349139e-02\n",
      " -3.17795798e-02 -2.92539046e-01  1.20611677e-02  3.84864760e-02\n",
      "  1.21284243e-04 -2.14336488e-02  2.00678478e-02 -6.96604519e-04\n",
      "  5.03582410e-05 -1.64075420e-03 -1.20162730e-02  3.24147156e-01\n",
      " -8.73813186e-02 -3.24757681e-03 -1.50862269e-01 -9.84754316e-03\n",
      "  7.92992844e-02 -1.77772277e-01  1.10474868e-02 -1.15853094e-01\n",
      "  2.52881172e-04 -2.28424210e-02 -1.16036684e-04  4.35391333e-03\n",
      " -2.62908169e-04 -6.97101054e-04 -3.58683323e-02  1.24461805e-02\n",
      "  5.07908715e-02  2.68100113e-05  1.13868835e-03  2.93965420e-02]\n"
     ]
    }
   ],
   "source": [
    "model2 = LinearRegression().fit(X_train_trans,  y_train)\n",
    "r_sq = model2.score(X_train_trans,  y_train)\n",
    "print(f\"coefficient of determination: {r_sq}\")\n",
    "print(f\"intercept: {model2.intercept_}\")\n",
    "print(f\"coefficients: {model2.coef_}\")"
   ]
  },
  {
   "cell_type": "code",
   "execution_count": 46,
   "id": "c2cf5158",
   "metadata": {},
   "outputs": [
    {
     "name": "stdout",
     "output_type": "stream",
     "text": [
      "predicted response:\n",
      "[23.60145018 25.90490375 28.92627369 10.57591944 20.29473244 19.64635707\n",
      " 21.1041783  20.14441932  9.70306582 15.68405583 -0.61882962 13.94312746\n",
      " 14.07294798  8.8160176  50.42607108 36.95759273 23.11778932 36.93443061\n",
      " 31.47436995 21.9034941  25.33086468 21.01320917 20.52548595 27.45409553\n",
      " 18.41407007 38.47269085 16.73177596 17.75316215 34.42144849 13.83810952\n",
      " 16.2884213  19.06500313 18.77846189 19.7926713  26.58114986 20.13767986\n",
      "  7.58816838 41.24199452 16.91105698 14.02743632 22.95704456 20.46805959\n",
      " 19.811087   19.90153465 11.09818069 21.72618428 16.7300815  15.78820085\n",
      " 11.83840743 22.94340399  5.69600153 24.22927819 21.69000333 52.39134917\n",
      "  7.02135946 22.69549444 16.7888438  16.28501737 18.61327852 20.54787398\n",
      " 25.54023188 22.44665787 33.95426353 28.34699024 19.30663426 32.20890429\n",
      " 15.5775762  18.16015095 12.95559805 21.58829596 19.45190862 22.86332312\n",
      " 28.19897449 30.00914845 27.32718396 10.89657239 41.21013069 24.67385759\n",
      " 26.10691721 18.53231675 26.75602756 19.41014287 21.48377832 41.61714196\n",
      " 43.86288145 25.60343804 23.34088507  4.53652899 33.58184505 15.82106797\n",
      " 16.38181406  7.18216895 22.36481468 30.59009058 17.0045807  22.31516675\n",
      " 13.29361171 26.04307806 11.90340438 15.15131037 25.84546532 19.32205549\n",
      " 28.94550261 18.66500339 26.81346953 20.72499051  4.69669843 19.67065753\n",
      " 17.56985595 26.11780686 37.09682566 13.72843462 15.7658677  18.49477594\n",
      " 14.62715307 21.4036745   1.97263675 21.21545595 11.75106798 49.16107008\n",
      " 30.22755156 11.41942768 16.8867533  20.6304276  20.3495774  18.64902226\n",
      " 38.00459546 15.67676185 16.36127566 32.89970272 14.82686072  3.73299487\n",
      " 12.42036718 21.12532933 -0.83485144 34.35319782 22.22540849  7.18555311\n",
      " 28.28127594  4.93657128  8.84839095 22.80181728 37.39501948 27.76840299\n",
      " 27.25710631 15.488642   34.84839314 31.14068876  5.8189707   9.24507117\n",
      " 27.26004721 25.0849039  11.62689801 27.81013136 18.19390113 29.23720013\n",
      " 19.69794308 16.80694614 17.25803981 14.35331785  5.72921327 17.86685716\n",
      " 34.33374032 33.34531129 27.14269471 23.00230306 22.3784469  25.83496583\n",
      " 23.92059189 14.85419627 29.18434745 13.40340221 19.30410007 42.97692919\n",
      " 17.93138233  9.82337289 17.62900768 16.87123914 23.53888587 20.30924256\n",
      " 16.21912285  2.01660567 19.27808103 20.85617186 18.03060608 27.34382605\n",
      " 23.65473662 27.23570275 45.62132259 13.87614708  5.83655872 33.83348708\n",
      " 31.02436282 17.89334955 47.29459863 21.38865325 25.66230337 15.89362498\n",
      " 24.64426863 40.19883684 24.43143349  7.51160763 37.82875724]\n"
     ]
    }
   ],
   "source": [
    "#predict new data -> b0+b1*x\n",
    "y_pred_model2 = model2.predict(X_test_trans)\n",
    "print(f\"predicted response:\\n{y_pred_model2}\")"
   ]
  },
  {
   "cell_type": "code",
   "execution_count": 47,
   "id": "4b292d08",
   "metadata": {},
   "outputs": [
    {
     "data": {
      "text/plain": [
       "<matplotlib.collections.PathCollection at 0x2039e010f10>"
      ]
     },
     "execution_count": 47,
     "metadata": {},
     "output_type": "execute_result"
    },
    {
     "data": {
      "image/png": "[encoded data removed]",
      "text/plain": [
       "<Figure size 432x288 with 1 Axes>"
      ]
     },
     "metadata": {
      "needs_background": "light"
     },
     "output_type": "display_data"
    }
   ],
   "source": [
    "#Visualizing the predictive results: \n",
    "plt.scatter(y_test,y_pred_model2)"
   ]
  },
  {
   "cell_type": "code",
   "execution_count": 48,
   "id": "c420e2a5",
   "metadata": {},
   "outputs": [
    {
     "data": {
      "text/plain": [
       "<AxesSubplot:ylabel='Count'>"
      ]
     },
     "execution_count": 48,
     "metadata": {},
     "output_type": "execute_result"
    },
    {
     "data": {
      "image/png": "[encoded data removed]",
      "text/plain": [
       "<Figure size 432x288 with 1 Axes>"
      ]
     },
     "metadata": {
      "needs_background": "light"
     },
     "output_type": "display_data"
    }
   ],
   "source": [
    "sns.histplot(y_test-y_pred_model2, kde=True)"
   ]
  },
  {
   "cell_type": "markdown",
   "id": "cd199929",
   "metadata": {},
   "source": [
    "### Ex2\n",
    "##### Compara’ls en base al MSE i al R2."
   ]
  },
  {
   "cell_type": "code",
   "execution_count": 49,
   "id": "b5d19692",
   "metadata": {
    "ExecuteTime": {
     "end_time": "2022-05-04T15:35:55.637818Z",
     "start_time": "2022-05-04T15:35:55.604920Z"
    }
   },
   "outputs": [],
   "source": [
    "from sklearn.metrics import mean_squared_error, r2_score"
   ]
  },
  {
   "cell_type": "markdown",
   "id": "45250a31",
   "metadata": {},
   "source": [
    "##### model 1 = linear regression"
   ]
  },
  {
   "cell_type": "code",
   "execution_count": 50,
   "id": "18b36fbc",
   "metadata": {},
   "outputs": [
    {
     "name": "stdout",
     "output_type": "stream",
     "text": [
      "Mean_Squared_Error :  25.79036215070244\n",
      "Root_Mean_Squared_Error :  0.688260714253802\n"
     ]
    }
   ],
   "source": [
    "print('Mean_Squared_Error : ' , mean_squared_error(y_test,y_pred_model1) )\n",
    "print('Root_Mean_Squared_Error : ', r2_score(y_test,y_pred_model1))"
   ]
  },
  {
   "cell_type": "markdown",
   "id": "b6f069a4",
   "metadata": {},
   "source": [
    "R2=.68 => 68% of the variance in houses prices is explained by our Linear regression model!! "
   ]
  },
  {
   "cell_type": "markdown",
   "id": "afdf6a03",
   "metadata": {},
   "source": [
    "##### model 2 = Polynomial  regression"
   ]
  },
  {
   "cell_type": "code",
   "execution_count": 51,
   "id": "a359ff52",
   "metadata": {},
   "outputs": [
    {
     "name": "stdout",
     "output_type": "stream",
     "text": [
      "Mean_Squared_Error :  20.091802977504646\n",
      "Root_Mean_Squared_Error :  0.7571416689319331\n"
     ]
    }
   ],
   "source": [
    "print('Mean_Squared_Error : ' , mean_squared_error(y_test,y_pred_model2) )\n",
    "print('Root_Mean_Squared_Error : ', r2_score(y_test,y_pred_model2))"
   ]
  },
  {
   "cell_type": "markdown",
   "id": "0b40e87a",
   "metadata": {},
   "source": [
    "R2=.75 => 75% of the variance in houses prices is explained by our Polynomial regression model!! \n",
    "#### Seems Polynomial has better accuracy than linear one here!!!"
   ]
  },
  {
   "cell_type": "markdown",
   "id": "6c6d60f9",
   "metadata": {},
   "source": [
    "### Ex3  \n",
    "##### Entrena’ls utilitzant els diferents paràmetres que admeten per intentar millorar-ne la predicció."
   ]
  },
  {
   "cell_type": "code",
   "execution_count": 52,
   "id": "15c201b3",
   "metadata": {},
   "outputs": [
    {
     "name": "stdout",
     "output_type": "stream",
     "text": [
      "Mean_Absolute_Error Train :  3.118896450030043\n",
      "Mean_Squared_Error Train:  19.922603269113182\n",
      "Mean_Absolute_Error Test :  3.633127374024626\n",
      "Mean_Squared_Error Test:  25.79036215070244\n"
     ]
    }
   ],
   "source": [
    "from sklearn.metrics import accuracy_score, mean_absolute_error, mean_squared_error\n",
    "# linear model\n",
    "model = LinearRegression().fit(X_train, y_train)\n",
    "predi_train = model.predict(X_train)\n",
    "predi_test = model.predict(X_test)\n",
    "\n",
    "print('Mean_Absolute_Error Train : ' , mean_absolute_error(predi_train, y_train))\n",
    "print('Mean_Squared_Error Train: ' , mean_squared_error(predi_train, y_train))\n",
    "print('Mean_Absolute_Error Test : ' ,mean_absolute_error(predi_test, y_test))\n",
    "print('Mean_Squared_Error Test: ' ,mean_squared_error(predi_test, y_test))"
   ]
  },
  {
   "cell_type": "code",
   "execution_count": 53,
   "id": "6c2ad68f",
   "metadata": {},
   "outputs": [
    {
     "name": "stdout",
     "output_type": "stream",
     "text": [
      "Mean_Absolute_Error Train :  5.089549685129569\n",
      "Mean_Squared_Error Train:  49.828649207064274\n",
      "Mean_Absolute_Error Test :  5.074376676382752\n",
      "Mean_Squared_Error Test:  51.44998488085785\n"
     ]
    }
   ],
   "source": [
    "# linear model MODIFICATED\n",
    "model_modif = LinearRegression(fit_intercept=False, copy_X=True, n_jobs=2, positive=True ).fit(X_train, y_train)\n",
    "predi_train_modif = model_modif.predict(X_train)\n",
    "predi_test_modif = model_modif.predict(X_test)\n",
    "\n",
    "print('Mean_Absolute_Error Train : ' ,  mean_absolute_error(predi_train_modif, y_train))\n",
    "print('Mean_Squared_Error Train: ' , mean_squared_error(predi_train_modif, y_train))\n",
    "print('Mean_Absolute_Error Test : ' , mean_absolute_error(predi_test_modif, y_test))\n",
    "print('Mean_Squared_Error Test: ' , mean_squared_error(predi_test_modif, y_test))"
   ]
  },
  {
   "cell_type": "markdown",
   "metadata": {},
   "source": [
    "#### So Params has a huge impact in the results; in this case, results and Accuracy has worsen a lot: wrong params here!!"
   ]
  },
  {
   "cell_type": "markdown",
   "id": "92c3e5da",
   "metadata": {},
   "source": [
    "### Ex4 \n",
    "##### Compara el seu rendiment emprant l’aproximació traint/test o emprant totes les dades (validació interna)."
   ]
  },
  {
   "cell_type": "code",
   "execution_count": 54,
   "id": "a8023b70",
   "metadata": {},
   "outputs": [
    {
     "name": "stdout",
     "output_type": "stream",
     "text": [
      "Mean_Absolute_Error Train :  3.118896450030043\n",
      "Mean_Squared_Error Train:  19.922603269113182\n",
      "Mean_Absolute_Error Test :  3.633127374024626\n",
      "Mean_Squared_Error Test:  25.79036215070244\n"
     ]
    }
   ],
   "source": [
    "# our original linear model\n",
    "model = LinearRegression().fit(X_train, y_train)\n",
    "predi_train = model.predict(X_train)\n",
    "predi_test = model.predict(X_test)\n",
    "\n",
    "print('Mean_Absolute_Error Train : ' , mean_absolute_error(predi_train, y_train))\n",
    "print('Mean_Squared_Error Train: ' , mean_squared_error(predi_train, y_train))\n",
    "print('Mean_Absolute_Error Test : ' ,mean_absolute_error(predi_test, y_test))\n",
    "print('Mean_Squared_Error Test: ' ,mean_squared_error(predi_test, y_test))"
   ]
  },
  {
   "cell_type": "code",
   "execution_count": 55,
   "id": "2745c0bd",
   "metadata": {},
   "outputs": [
    {
     "name": "stdout",
     "output_type": "stream",
     "text": [
      "Mean_Absolute_Error Train :  0.8068668866886699\n",
      "Mean_Squared_Error Train:  1.2518354719471954\n",
      "Mean_Absolute_Error Test :  2.430259441707716\n",
      "Mean_Squared_Error Test:  16.963931923371636\n"
     ]
    }
   ],
   "source": [
    "# aplicar cross-validation: GridSearchCV\n",
    "from sklearn import svm\n",
    "from sklearn.model_selection import GridSearchCV\n",
    "from sklearn.ensemble import RandomForestRegressor\n",
    "\n",
    "param_grid={'n_estimators': range(100, 500, 50),'max_features': range(2, 5, 1) }\n",
    "gsc = GridSearchCV(estimator=RandomForestRegressor(), param_grid=param_grid, scoring='r2', cv=5)\n",
    "\n",
    "grid_model = gsc.fit(X_train, y_train)\n",
    "predi_grid_train = grid_model.predict(X_train)\n",
    "predi_grid_test = grid_model.predict(X_test)\n",
    "\n",
    "print('Mean_Absolute_Error Train : ' , mean_absolute_error(predi_grid_train, y_train))\n",
    "print('Mean_Squared_Error Train: ' , mean_squared_error(predi_grid_train, y_train))\n",
    "print('Mean_Absolute_Error Test : ' ,mean_absolute_error(predi_grid_test, y_test))\n",
    "print('Mean_Squared_Error Test: ' ,mean_squared_error(predi_grid_test, y_test))"
   ]
  },
  {
   "cell_type": "markdown",
   "id": "ae8ac50f",
   "metadata": {},
   "source": [
    "#### With cross-validation seems Accuracy is better! Perhaps is right... or not?"
   ]
  },
  {
   "cell_type": "markdown",
   "id": "22f0f93a",
   "metadata": {},
   "source": [
    "### Ex5 \n",
    "##### No facis servir la variable del nombre d'habitacions (RM) a l’hora de fer prediccions."
   ]
  },
  {
   "cell_type": "code",
   "execution_count": 56,
   "id": "f63b6b3d",
   "metadata": {},
   "outputs": [],
   "source": [
    "X_noRM= df.drop('RM', axis = 1)\n",
    "X_train_noRM, X_test_noRM, y_train_noRM, y_test_noRM = train_test_split(X_noRM, y, test_size=0.4, random_state=0)"
   ]
  },
  {
   "cell_type": "code",
   "execution_count": 57,
   "id": "a5c91058",
   "metadata": {},
   "outputs": [
    {
     "name": "stdout",
     "output_type": "stream",
     "text": [
      "coefficient of determination: 1.0\n"
     ]
    }
   ],
   "source": [
    "model = LinearRegression().fit(X_train_noRM, y_train_noRM)\n",
    "# coefficient of determinatios = .score\n",
    "r_sq = model.score(X_train_noRM, y_train_noRM)\n",
    "print(f\"coefficient of determination: {r_sq}\")"
   ]
  },
  {
   "cell_type": "markdown",
   "id": "f089668c",
   "metadata": {},
   "source": [
    "### Model perfecte!!!!!!!!!"
   ]
  },
  {
   "cell_type": "code",
   "execution_count": 58,
   "id": "fd9b7ef7",
   "metadata": {},
   "outputs": [
    {
     "name": "stdout",
     "output_type": "stream",
     "text": [
      "predicted response:\n",
      "[22.6 50.  23.   8.3 21.2 19.9 20.6 18.7 16.1 18.6  8.8 17.2 14.9 10.5\n",
      " 50.  29.  23.  33.3 29.4 21.  23.8 19.1 20.4 29.1 19.3 23.1 19.6 19.4\n",
      " 38.7 18.7 14.6 20.  20.5 20.1 23.6 16.8  5.6 50.  14.5 13.3 23.9 20.\n",
      " 19.8 13.8 16.5 21.6 20.3 17.  11.8 27.5 15.6 23.1 24.3 42.8 15.6 21.7\n",
      " 17.1 17.2 15.  21.7 18.6 21.  33.1 31.5 20.1 29.8 15.2 15.  27.5 22.6\n",
      " 20.  21.4 23.5 31.2 23.7  7.4 48.3 24.4 22.6 18.3 23.3 17.1 27.9 44.8\n",
      " 50.  23.  21.4 10.2 23.3 23.2 18.9 13.4 21.9 24.8 11.9 24.3 13.8 24.7\n",
      " 14.1 18.7 28.1 19.8 26.7 21.7 22.  22.9 10.4 21.9 20.6 26.4 41.3 17.2\n",
      " 27.1 20.4 16.5 24.4  8.4 23.   9.7 50.  30.5 12.3 19.4 21.2 20.3 18.8\n",
      " 33.4 18.5 19.6 33.2 13.1  7.5 13.6 17.4  8.4 35.4 24.  13.4 26.2  7.2\n",
      " 13.1 24.5 37.2 25.  24.1 16.6 32.9 36.2 11.   7.2 22.8 28.7 14.4 24.4\n",
      " 18.1 22.5 20.5 15.2 17.4 13.6  8.7 18.2 35.4 31.7 33.  22.2 20.4 23.9\n",
      " 25.  12.7 29.1 12.  17.7 27.  20.6 10.2 17.5 19.7 29.8 20.5 14.9 10.9\n",
      " 19.5 22.7 19.5 24.6 25.  24.5 50.  14.3 11.8 31.  28.7 16.2 43.5 25.\n",
      " 22.  19.9 22.1 46.  22.9 20.2 43.1]\n"
     ]
    }
   ],
   "source": [
    "#predict new data -> b0+b1*x\n",
    "y_pred_noRM = model.predict(X_test_noRM)\n",
    "print(f\"predicted response:\\n{y_pred_noRM}\")"
   ]
  },
  {
   "cell_type": "code",
   "execution_count": 59,
   "id": "3274f9df",
   "metadata": {},
   "outputs": [
    {
     "data": {
      "text/plain": [
       "<matplotlib.collections.PathCollection at 0x2039ce14dc0>"
      ]
     },
     "execution_count": 59,
     "metadata": {},
     "output_type": "execute_result"
    },
    {
     "data": {
      "image/png": "[encoded data removed]",
      "text/plain": [
       "<Figure size 432x288 with 1 Axes>"
      ]
     },
     "metadata": {
      "needs_background": "light"
     },
     "output_type": "display_data"
    }
   ],
   "source": [
    "plt.scatter(y_test_noRM,y_pred_noRM)"
   ]
  }
 ],
 "metadata": {
  "kernelspec": {
   "display_name": "Python 3.9.5 64-bit",
   "language": "python",
   "name": "python3"
  },
  "language_info": {
   "codemirror_mode": {
    "name": "ipython",
    "version": 3
   },
   "file_extension": ".py",
   "mimetype": "text/x-python",
   "name": "python",
   "nbconvert_exporter": "python",
   "pygments_lexer": "ipython3",
   "version": "3.9.5"
  },
  "vscode": {
   "interpreter": {
    "hash": "c347c8f9a7ef94e4c9e03b4513be7835ed18f45b99a2a817fb579f408b867b16"
   }
  }
 },
 "nbformat": 4,
 "nbformat_minor": 5
}

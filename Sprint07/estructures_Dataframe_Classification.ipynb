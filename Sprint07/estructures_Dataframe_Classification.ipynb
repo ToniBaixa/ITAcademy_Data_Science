{
 "cells": [
  {
   "cell_type": "markdown",
   "id": "2056e70e",
   "metadata": {},
   "source": [
    "# Tasca M7 T01"
   ]
  },
  {
   "cell_type": "markdown",
   "id": "2279cd19",
   "metadata": {},
   "source": [
    "### Ex1\n",
    "##### Crea almenys dos models de classificació diferents per intentar predir el millor les classes de l'arxiu adjunt\n",
    "##### We choose: KNN & SVM Classifications!"
   ]
  },
  {
   "cell_type": "code",
   "execution_count": 19,
   "id": "3d24cd69",
   "metadata": {
    "ExecuteTime": {
     "end_time": "2022-05-04T15:35:55.570459Z",
     "start_time": "2022-05-04T15:35:55.497935Z"
    }
   },
   "outputs": [
    {
     "name": "stdout",
     "output_type": "stream",
     "text": [
      "   Class  Alcohol  Malic acid   Ash  Alcalinity of ash  Magnesium  \\\n",
      "0      1    14.23        1.71  2.43               15.6        127   \n",
      "1      1    13.20        1.78  2.14               11.2        100   \n",
      "2      1    13.16        2.36  2.67               18.6        101   \n",
      "3      1    14.37        1.95  2.50               16.8        113   \n",
      "4      1    13.24        2.59  2.87               21.0        118   \n",
      "\n",
      "   Total phenols  Flavanoids  Nonflavanoid phenols  Proanthocyanins  \\\n",
      "0           2.80        3.06                  0.28             2.29   \n",
      "1           2.65        2.76                  0.26             1.28   \n",
      "2           2.80        3.24                  0.30             2.81   \n",
      "3           3.85        3.49                  0.24             2.18   \n",
      "4           2.80        2.69                  0.39             1.82   \n",
      "\n",
      "   Color intensity   Hue  OD280/OD315 of diluted wines  Proline  \n",
      "0             5.64  1.04                          3.92     1065  \n",
      "1             4.38  1.05                          3.40     1050  \n",
      "2             5.68  1.03                          3.17     1185  \n",
      "3             7.80  0.86                          3.45     1480  \n",
      "4             4.32  1.04                          2.93      735  \n"
     ]
    }
   ],
   "source": [
    "%matplotlib inline\n",
    "import numpy as np\n",
    "import pandas as pd\n",
    "\n",
    "columnes= ['Class','Alcohol', 'Malic acid', 'Ash','Alcalinity of ash', 'Magnesium', 'Total phenols', 'Flavanoids', 'Nonflavanoid phenols', 'Proanthocyanins', 'Color intensity', 'Hue', 'OD280/OD315 of diluted wines', 'Proline']\n",
    "df = pd.read_csv(r\"wineData.csv\", names=columnes)\n",
    "# data = openFileTable(path_name, \"housing data.csv\", separator, columnes)\n",
    "print (df.head())\n"
   ]
  },
  {
   "cell_type": "code",
   "execution_count": 20,
   "id": "816f063d",
   "metadata": {},
   "outputs": [
    {
     "data": {
      "text/plain": [
       "(178, 14)"
      ]
     },
     "execution_count": 20,
     "metadata": {},
     "output_type": "execute_result"
    }
   ],
   "source": [
    "df.shape"
   ]
  },
  {
   "cell_type": "code",
   "execution_count": 21,
   "id": "e4b9e585",
   "metadata": {},
   "outputs": [
    {
     "data": {
      "text/plain": [
       "Class                           0\n",
       "Alcohol                         0\n",
       "Malic acid                      0\n",
       "Ash                             0\n",
       "Alcalinity of ash               0\n",
       "Magnesium                       0\n",
       "Total phenols                   0\n",
       "Flavanoids                      0\n",
       "Nonflavanoid phenols            0\n",
       "Proanthocyanins                 0\n",
       "Color intensity                 0\n",
       "Hue                             0\n",
       "OD280/OD315 of diluted wines    0\n",
       "Proline                         0\n",
       "dtype: int64"
      ]
     },
     "execution_count": 21,
     "metadata": {},
     "output_type": "execute_result"
    }
   ],
   "source": [
    "df.isnull().sum()\n",
    "# Wonderful, no Nulls!"
   ]
  },
  {
   "cell_type": "code",
   "execution_count": 22,
   "id": "4d40457a",
   "metadata": {},
   "outputs": [
    {
     "data": {
      "text/html": [
       "<div>\n",
       "<style scoped>\n",
       "    .dataframe tbody tr th:only-of-type {\n",
       "        vertical-align: middle;\n",
       "    }\n",
       "\n",
       "    .dataframe tbody tr th {\n",
       "        vertical-align: top;\n",
       "    }\n",
       "\n",
       "    .dataframe thead th {\n",
       "        text-align: right;\n",
       "    }\n",
       "</style>\n",
       "<table border=\"1\" class=\"dataframe\">\n",
       "  <thead>\n",
       "    <tr style=\"text-align: right;\">\n",
       "      <th></th>\n",
       "      <th>Class</th>\n",
       "      <th>Alcohol</th>\n",
       "      <th>Malic acid</th>\n",
       "      <th>Ash</th>\n",
       "      <th>Alcalinity of ash</th>\n",
       "      <th>Magnesium</th>\n",
       "      <th>Total phenols</th>\n",
       "      <th>Flavanoids</th>\n",
       "      <th>Nonflavanoid phenols</th>\n",
       "      <th>Proanthocyanins</th>\n",
       "      <th>Color intensity</th>\n",
       "      <th>Hue</th>\n",
       "      <th>OD280/OD315 of diluted wines</th>\n",
       "      <th>Proline</th>\n",
       "    </tr>\n",
       "  </thead>\n",
       "  <tbody>\n",
       "    <tr>\n",
       "      <th>count</th>\n",
       "      <td>178.000000</td>\n",
       "      <td>178.000000</td>\n",
       "      <td>178.000000</td>\n",
       "      <td>178.000000</td>\n",
       "      <td>178.000000</td>\n",
       "      <td>178.000000</td>\n",
       "      <td>178.000000</td>\n",
       "      <td>178.000000</td>\n",
       "      <td>178.000000</td>\n",
       "      <td>178.000000</td>\n",
       "      <td>178.000000</td>\n",
       "      <td>178.000000</td>\n",
       "      <td>178.000000</td>\n",
       "      <td>178.000000</td>\n",
       "    </tr>\n",
       "    <tr>\n",
       "      <th>mean</th>\n",
       "      <td>1.938202</td>\n",
       "      <td>13.000618</td>\n",
       "      <td>2.336348</td>\n",
       "      <td>2.366517</td>\n",
       "      <td>19.494944</td>\n",
       "      <td>99.741573</td>\n",
       "      <td>2.295112</td>\n",
       "      <td>2.029270</td>\n",
       "      <td>0.361854</td>\n",
       "      <td>1.590899</td>\n",
       "      <td>5.058090</td>\n",
       "      <td>0.957449</td>\n",
       "      <td>2.611685</td>\n",
       "      <td>746.893258</td>\n",
       "    </tr>\n",
       "    <tr>\n",
       "      <th>std</th>\n",
       "      <td>0.775035</td>\n",
       "      <td>0.811827</td>\n",
       "      <td>1.117146</td>\n",
       "      <td>0.274344</td>\n",
       "      <td>3.339564</td>\n",
       "      <td>14.282484</td>\n",
       "      <td>0.625851</td>\n",
       "      <td>0.998859</td>\n",
       "      <td>0.124453</td>\n",
       "      <td>0.572359</td>\n",
       "      <td>2.318286</td>\n",
       "      <td>0.228572</td>\n",
       "      <td>0.709990</td>\n",
       "      <td>314.907474</td>\n",
       "    </tr>\n",
       "    <tr>\n",
       "      <th>min</th>\n",
       "      <td>1.000000</td>\n",
       "      <td>11.030000</td>\n",
       "      <td>0.740000</td>\n",
       "      <td>1.360000</td>\n",
       "      <td>10.600000</td>\n",
       "      <td>70.000000</td>\n",
       "      <td>0.980000</td>\n",
       "      <td>0.340000</td>\n",
       "      <td>0.130000</td>\n",
       "      <td>0.410000</td>\n",
       "      <td>1.280000</td>\n",
       "      <td>0.480000</td>\n",
       "      <td>1.270000</td>\n",
       "      <td>278.000000</td>\n",
       "    </tr>\n",
       "    <tr>\n",
       "      <th>25%</th>\n",
       "      <td>1.000000</td>\n",
       "      <td>12.362500</td>\n",
       "      <td>1.602500</td>\n",
       "      <td>2.210000</td>\n",
       "      <td>17.200000</td>\n",
       "      <td>88.000000</td>\n",
       "      <td>1.742500</td>\n",
       "      <td>1.205000</td>\n",
       "      <td>0.270000</td>\n",
       "      <td>1.250000</td>\n",
       "      <td>3.220000</td>\n",
       "      <td>0.782500</td>\n",
       "      <td>1.937500</td>\n",
       "      <td>500.500000</td>\n",
       "    </tr>\n",
       "    <tr>\n",
       "      <th>50%</th>\n",
       "      <td>2.000000</td>\n",
       "      <td>13.050000</td>\n",
       "      <td>1.865000</td>\n",
       "      <td>2.360000</td>\n",
       "      <td>19.500000</td>\n",
       "      <td>98.000000</td>\n",
       "      <td>2.355000</td>\n",
       "      <td>2.135000</td>\n",
       "      <td>0.340000</td>\n",
       "      <td>1.555000</td>\n",
       "      <td>4.690000</td>\n",
       "      <td>0.965000</td>\n",
       "      <td>2.780000</td>\n",
       "      <td>673.500000</td>\n",
       "    </tr>\n",
       "    <tr>\n",
       "      <th>75%</th>\n",
       "      <td>3.000000</td>\n",
       "      <td>13.677500</td>\n",
       "      <td>3.082500</td>\n",
       "      <td>2.557500</td>\n",
       "      <td>21.500000</td>\n",
       "      <td>107.000000</td>\n",
       "      <td>2.800000</td>\n",
       "      <td>2.875000</td>\n",
       "      <td>0.437500</td>\n",
       "      <td>1.950000</td>\n",
       "      <td>6.200000</td>\n",
       "      <td>1.120000</td>\n",
       "      <td>3.170000</td>\n",
       "      <td>985.000000</td>\n",
       "    </tr>\n",
       "    <tr>\n",
       "      <th>max</th>\n",
       "      <td>3.000000</td>\n",
       "      <td>14.830000</td>\n",
       "      <td>5.800000</td>\n",
       "      <td>3.230000</td>\n",
       "      <td>30.000000</td>\n",
       "      <td>162.000000</td>\n",
       "      <td>3.880000</td>\n",
       "      <td>5.080000</td>\n",
       "      <td>0.660000</td>\n",
       "      <td>3.580000</td>\n",
       "      <td>13.000000</td>\n",
       "      <td>1.710000</td>\n",
       "      <td>4.000000</td>\n",
       "      <td>1680.000000</td>\n",
       "    </tr>\n",
       "  </tbody>\n",
       "</table>\n",
       "</div>"
      ],
      "text/plain": [
       "            Class     Alcohol  Malic acid         Ash  Alcalinity of ash  \\\n",
       "count  178.000000  178.000000  178.000000  178.000000         178.000000   \n",
       "mean     1.938202   13.000618    2.336348    2.366517          19.494944   \n",
       "std      0.775035    0.811827    1.117146    0.274344           3.339564   \n",
       "min      1.000000   11.030000    0.740000    1.360000          10.600000   \n",
       "25%      1.000000   12.362500    1.602500    2.210000          17.200000   \n",
       "50%      2.000000   13.050000    1.865000    2.360000          19.500000   \n",
       "75%      3.000000   13.677500    3.082500    2.557500          21.500000   \n",
       "max      3.000000   14.830000    5.800000    3.230000          30.000000   \n",
       "\n",
       "        Magnesium  Total phenols  Flavanoids  Nonflavanoid phenols  \\\n",
       "count  178.000000     178.000000  178.000000            178.000000   \n",
       "mean    99.741573       2.295112    2.029270              0.361854   \n",
       "std     14.282484       0.625851    0.998859              0.124453   \n",
       "min     70.000000       0.980000    0.340000              0.130000   \n",
       "25%     88.000000       1.742500    1.205000              0.270000   \n",
       "50%     98.000000       2.355000    2.135000              0.340000   \n",
       "75%    107.000000       2.800000    2.875000              0.437500   \n",
       "max    162.000000       3.880000    5.080000              0.660000   \n",
       "\n",
       "       Proanthocyanins  Color intensity         Hue  \\\n",
       "count       178.000000       178.000000  178.000000   \n",
       "mean          1.590899         5.058090    0.957449   \n",
       "std           0.572359         2.318286    0.228572   \n",
       "min           0.410000         1.280000    0.480000   \n",
       "25%           1.250000         3.220000    0.782500   \n",
       "50%           1.555000         4.690000    0.965000   \n",
       "75%           1.950000         6.200000    1.120000   \n",
       "max           3.580000        13.000000    1.710000   \n",
       "\n",
       "       OD280/OD315 of diluted wines      Proline  \n",
       "count                    178.000000   178.000000  \n",
       "mean                       2.611685   746.893258  \n",
       "std                        0.709990   314.907474  \n",
       "min                        1.270000   278.000000  \n",
       "25%                        1.937500   500.500000  \n",
       "50%                        2.780000   673.500000  \n",
       "75%                        3.170000   985.000000  \n",
       "max                        4.000000  1680.000000  "
      ]
     },
     "execution_count": 22,
     "metadata": {},
     "output_type": "execute_result"
    }
   ],
   "source": [
    "df.describe()"
   ]
  },
  {
   "cell_type": "markdown",
   "id": "53065300",
   "metadata": {},
   "source": [
    "1. Title of Database: Wine recognition data\n",
    "\tUpdated Sept 21, 1998 by C.Blake : Added attribute information\n",
    "\n",
    "2. Sources:\n",
    "   (a) Forina, M. et al, PARVUS - An Extendible Package for Data\n",
    "       Exploration, Classification and Correlation. Institute of Pharmaceutical\n",
    "       and Food Analysis and Technologies, Via Brigata Salerno, \n",
    "       16147 Genoa, Italy.\n",
    "\n",
    "   (b) Stefan Aeberhard, email: stefan@coral.cs.jcu.edu.au\n",
    "   (c) July 1991\n",
    "3. Past Usage:\n",
    "\n",
    "   (1)\n",
    "   S. Aeberhard, D. Coomans and O. de Vel,\n",
    "   Comparison of Classifiers in High Dimensional Settings,\n",
    "   Tech. Rep. no. 92-02, (1992), Dept. of Computer Science and Dept. of\n",
    "   Mathematics and Statistics, James Cook University of North Queensland.\n",
    "   (Also submitted to Technometrics).\n",
    "\n",
    "   The data was used with many others for comparing various \n",
    "   classifiers. The classes are separable, though only RDA \n",
    "   has achieved 100% correct classification.\n",
    "   (RDA : 100%, QDA 99.4%, LDA 98.9%, 1NN 96.1% (z-transformed data))\n",
    "   (All results using the leave-one-out technique)\n",
    "\n",
    "   In a classification context, this is a well posed problem \n",
    "   with \"well behaved\" class structures. A good data set \n",
    "   for first testing of a new classifier, but not very \n",
    "   challenging.\n",
    "\n",
    "   (2) \n",
    "   S. Aeberhard, D. Coomans and O. de Vel,\n",
    "   \"THE CLASSIFICATION PERFORMANCE OF RDA\"\n",
    "   Tech. Rep. no. 92-01, (1992), Dept. of Computer Science and Dept. of\n",
    "   Mathematics and Statistics, James Cook University of North Queensland.\n",
    "   (Also submitted to Journal of Chemometrics).\n",
    "\n",
    "   Here, the data was used to illustrate the superior performance of\n",
    "   the use of a new appreciation function with RDA. \n",
    "\n",
    "4. Relevant Information:\n",
    "\n",
    "   -- These data are the results of a chemical analysis of\n",
    "      wines grown in the same region in Italy but derived from three\n",
    "      different cultivars.\n",
    "      The analysis determined the quantities of 13 constituents\n",
    "      found in each of the three types of wines. \n",
    "\n",
    "   -- I think that the initial data set had around 30 variables, but \n",
    "      for some reason I only have the 13 dimensional version. \n",
    "      I had a list of what the 30 or so variables were, but a.) \n",
    "      I lost it, and b.), I would not know which 13 variables\n",
    "      are included in the set.\n",
    "\n",
    "   -- The attributes are (dontated by Riccardo Leardi, \n",
    "\triclea@anchem.unige.it )\n",
    " \t1) Alcohol\n",
    " \t2) Malic acid\n",
    " \t3) Ash\n",
    "\t4) Alcalinity of ash  \n",
    " \t5) Magnesium\n",
    "\t6) Total phenols\n",
    " \t7) Flavanoids\n",
    " \t8) Nonflavanoid phenols\n",
    " \t9) Proanthocyanins\n",
    "\t10)Color intensity\n",
    " \t11)Hue\n",
    " \t12)OD280/OD315 of diluted wines\n",
    " \t13)Proline            \n",
    "\n",
    "5. Number of Instances\n",
    "\n",
    "   class 1 59\n",
    "\tclass 2 71\n",
    "\tclass 3 48\n",
    "\n",
    "6. Number of Attributes \n",
    "\t\n",
    "\t13\n",
    "\n",
    "7. For Each Attribute:\n",
    "\n",
    "\tAll attributes are continuous\n",
    "\t\n",
    "\tNo statistics available, but suggest to standardise\n",
    "\tvariables for certain uses (e.g. for us with classifiers\n",
    "\twhich are NOT scale invariant)\n",
    "\n",
    "\tNOTE: 1st attribute is class identifier (1-3)\n",
    "\n",
    "8. Missing Attribute Values:\n",
    "\n",
    "\tNone\n",
    "\n",
    "9. Class Distribution: number of instances per class\n",
    "\n",
    "   class 1 59\n",
    "\tclass 2 71\n",
    "\tclass 3 48\n"
   ]
  },
  {
   "cell_type": "code",
   "execution_count": 23,
   "id": "fdc175fa",
   "metadata": {},
   "outputs": [
    {
     "data": {
      "text/plain": [
       "<AxesSubplot:>"
      ]
     },
     "execution_count": 23,
     "metadata": {},
     "output_type": "execute_result"
    },
    {
     "data": {
      "image/png": "[encoded data removed]",
      "text/plain": [
       "<Figure size 1080x576 with 2 Axes>"
      ]
     },
     "metadata": {
      "needs_background": "light"
     },
     "output_type": "display_data"
    }
   ],
   "source": [
    "# check correlation\n",
    "import seaborn as sns\n",
    "import matplotlib.pyplot as plt\n",
    "df.corr()\n",
    "plt.figure(figsize=(15,8))\n",
    "sns.heatmap(df.corr() , annot=True , lw=1 )"
   ]
  },
  {
   "cell_type": "markdown",
   "id": "f3b0f24e",
   "metadata": {},
   "source": [
    "###### Just a interesting possitive correlation between Class and Alcalinity & Nonflavanoid, plus a lot of non correlation and negative values."
   ]
  },
  {
   "cell_type": "markdown",
   "id": "7fbeef28",
   "metadata": {},
   "source": [
    "#### Load Libraries"
   ]
  },
  {
   "cell_type": "code",
   "execution_count": 24,
   "id": "2591f582",
   "metadata": {},
   "outputs": [],
   "source": [
    "from sklearn.tree import DecisionTreeClassifier # Import Decision Tree Classifier\n",
    "from sklearn.model_selection import train_test_split # Import train_test_split function\n",
    "from sklearn import metrics #Import scikit-learn metrics module for accuracy calculation\n",
    "\n",
    "#dataset & Prepare Target\n",
    "X = df.iloc[:, 1:14].values\n",
    "y = df.iloc[:, 0].values\n",
    "# print (X)\n",
    "# 40% for test\n",
    "X_train, X_test, y_train, y_test = train_test_split(X, y, test_size=0.4, random_state=0)"
   ]
  },
  {
   "cell_type": "code",
   "execution_count": 25,
   "id": "7e169627",
   "metadata": {},
   "outputs": [
    {
     "name": "stdout",
     "output_type": "stream",
     "text": [
      "(106, 13)\n",
      "(72, 13)\n",
      "(106,)\n",
      "(72,)\n"
     ]
    }
   ],
   "source": [
    "print(X_train.shape)\n",
    "print(X_test.shape)\n",
    "print(y_train.shape)\n",
    "print(y_test.shape)"
   ]
  },
  {
   "cell_type": "markdown",
   "id": "b399bfc6",
   "metadata": {},
   "source": [
    "##### Model 1= KNN Classification"
   ]
  },
  {
   "cell_type": "code",
   "execution_count": 26,
   "id": "f9bf05f1",
   "metadata": {},
   "outputs": [],
   "source": [
    "from sklearn.neighbors import KNeighborsClassifier\n",
    "\n",
    "classifierKNN = KNeighborsClassifier()\n",
    "classifierKNN.fit(X_train, y_train)\n",
    "\n",
    "# Predicting the Test set results\n",
    "y_predKNN = classifierKNN.predict(X_test)"
   ]
  },
  {
   "cell_type": "markdown",
   "id": "75b2aacf",
   "metadata": {},
   "source": [
    "##### Model 2= SVM Classification"
   ]
  },
  {
   "cell_type": "code",
   "execution_count": 27,
   "id": "4b6c9dd7",
   "metadata": {},
   "outputs": [],
   "source": [
    "from sklearn.svm import SVC\n",
    "classifierSVM = SVC(kernel = 'linear', random_state = 0)\n",
    "trained_model=classifierSVM.fit(X_train,y_train)\n",
    "trained_model.fit(X_train,y_train )\n",
    "\n",
    "# Predicting the Test set results\n",
    "y_predSVM = classifierSVM.predict(X_test)"
   ]
  },
  {
   "cell_type": "markdown",
   "id": "cd199929",
   "metadata": {},
   "source": [
    "### Ex2\n",
    "##### Compara els models de classificació utilitzant la precisió (accuracy), una matriu de confiança i d’altres mètriques més avançades."
   ]
  },
  {
   "cell_type": "markdown",
   "id": "d66e0ba2",
   "metadata": {},
   "source": [
    "##### Model 1= KNN Classification"
   ]
  },
  {
   "cell_type": "code",
   "execution_count": 28,
   "id": "b2ddba77",
   "metadata": {},
   "outputs": [
    {
     "name": "stdout",
     "output_type": "stream",
     "text": [
      "0.6666666666666666\n"
     ]
    }
   ],
   "source": [
    "#Evaluating KNN for Classification\n",
    "accuracy =  classifierKNN.score(X_test, y_test)\n",
    "print(accuracy)"
   ]
  },
  {
   "cell_type": "markdown",
   "id": "610e30c6",
   "metadata": {},
   "source": [
    "###### 66% right!!!\n",
    "###### Let's check if we have unbalanced classes, so calculate for each class using confusion_matrix() and classification_report()"
   ]
  },
  {
   "cell_type": "code",
   "execution_count": 29,
   "id": "460b4a54",
   "metadata": {},
   "outputs": [
    {
     "name": "stdout",
     "output_type": "stream",
     "text": [
      "              precision    recall  f1-score   support\n",
      "\n",
      "           1       0.72      0.95      0.82        22\n",
      "           2       0.72      0.68      0.70        31\n",
      "           3       0.43      0.32      0.36        19\n",
      "\n",
      "    accuracy                           0.67        72\n",
      "   macro avg       0.63      0.65      0.63        72\n",
      "weighted avg       0.65      0.67      0.65        72\n",
      "\n"
     ]
    },
    {
     "data": {
      "image/png": "[encoded data removed]",
      "text/plain": [
       "<Figure size 432x288 with 2 Axes>"
      ]
     },
     "metadata": {
      "needs_background": "light"
     },
     "output_type": "display_data"
    }
   ],
   "source": [
    "from sklearn.metrics import classification_report, confusion_matrix\n",
    "#importing Seaborn's to use the heatmap \n",
    "import seaborn as sns\n",
    "\n",
    "# Adding classes names for better interpretation\n",
    "classes_names = ['class 1','class 2','class 3']\n",
    "cm = pd.DataFrame(confusion_matrix(y_test, y_predKNN), \n",
    "                  columns=classes_names, index = classes_names)\n",
    "                  \n",
    "# Seaborn's heatmap to better visualize the confusion matrix\n",
    "sns.heatmap(cm, annot=True, fmt='d');\n",
    "\n",
    "print(classification_report(y_test, y_predKNN))"
   ]
  },
  {
   "cell_type": "markdown",
   "id": "dbed4d9a",
   "metadata": {},
   "source": [
    "###### Plenty of false positive and negative cases in class 2 and huge % in class 3!"
   ]
  },
  {
   "cell_type": "markdown",
   "id": "937bf382",
   "metadata": {},
   "source": [
    "##### Model 2= SVM Classification"
   ]
  },
  {
   "cell_type": "code",
   "execution_count": 30,
   "id": "f52e523b",
   "metadata": {},
   "outputs": [
    {
     "name": "stdout",
     "output_type": "stream",
     "text": [
      "0.9583333333333334\n"
     ]
    }
   ],
   "source": [
    "accuracySVM =  classifierSVM.score(X_test, y_test)\n",
    "print(accuracySVM)"
   ]
  },
  {
   "cell_type": "markdown",
   "id": "07f96b06",
   "metadata": {},
   "source": [
    "###### 95% right!!!\n",
    "###### Let's check if we have unbalanced classes, so calculate for each class using confusion_matrix() and classification_report()"
   ]
  },
  {
   "cell_type": "code",
   "execution_count": 31,
   "id": "78f1dbdd",
   "metadata": {},
   "outputs": [
    {
     "name": "stdout",
     "output_type": "stream",
     "text": [
      "              precision    recall  f1-score   support\n",
      "\n",
      "           1       1.00      1.00      1.00        22\n",
      "           2       1.00      0.90      0.95        31\n",
      "           3       0.86      1.00      0.93        19\n",
      "\n",
      "    accuracy                           0.96        72\n",
      "   macro avg       0.95      0.97      0.96        72\n",
      "weighted avg       0.96      0.96      0.96        72\n",
      "\n"
     ]
    },
    {
     "data": {
      "image/png": "[encoded data removed]",
      "text/plain": [
       "<Figure size 432x288 with 2 Axes>"
      ]
     },
     "metadata": {
      "needs_background": "light"
     },
     "output_type": "display_data"
    }
   ],
   "source": [
    "# Adding classes names for better interpretation\n",
    "classes_names = ['class 1','class 2','class 3']\n",
    "cm = pd.DataFrame(confusion_matrix(y_test, y_predSVM), \n",
    "                  columns=classes_names, index = classes_names)\n",
    "                  \n",
    "# Seaborn's heatmap to better visualize the confusion matrix\n",
    "sns.heatmap(cm, annot=True, fmt='d');\n",
    "\n",
    "print(classification_report(y_test, y_predSVM))"
   ]
  },
  {
   "cell_type": "markdown",
   "id": "c4b21c83",
   "metadata": {},
   "source": [
    "###### Now Class 1 & 3 has 100%!! But class 2 had 3 wrongly classified! Not bad results!"
   ]
  },
  {
   "cell_type": "markdown",
   "id": "6c6d60f9",
   "metadata": {},
   "source": [
    "### Ex3  \n",
    "##### Entrena’ls utilitzant els diferents paràmetres que admeten per intentar millorar-ne la predicció.\n",
    "##### Let's try with KNN"
   ]
  },
  {
   "cell_type": "code",
   "execution_count": 32,
   "id": "15c201b3",
   "metadata": {},
   "outputs": [],
   "source": [
    "classifierKNN2 = KNeighborsClassifier(n_neighbors=6)\n",
    "classifierKNN2.fit(X_train, y_train)\n",
    "\n",
    "# Predicting the Test set results\n",
    "y_predKNN = classifierKNN2.predict(X_test)"
   ]
  },
  {
   "cell_type": "code",
   "execution_count": 33,
   "id": "6c2ad68f",
   "metadata": {},
   "outputs": [
    {
     "name": "stdout",
     "output_type": "stream",
     "text": [
      "0.7361111111111112\n"
     ]
    }
   ],
   "source": [
    "#Evaluating KNN for Classification\n",
    "accuracy =  classifierKNN2.score(X_test, y_test)\n",
    "print(accuracy)"
   ]
  },
  {
   "cell_type": "markdown",
   "metadata": {},
   "source": [
    "###### Accuracy before was 66% now is 73%. Here we just play changing the number of neighbors, increasing from 5 (default) to 6.\n",
    "###### So Params has a huge impact in the results!"
   ]
  },
  {
   "cell_type": "markdown",
   "id": "92c3e5da",
   "metadata": {},
   "source": [
    "### Ex4 \n",
    "##### Compara el seu rendiment fent servir l’aproximació traint/test o cross-validation."
   ]
  },
  {
   "cell_type": "code",
   "execution_count": 35,
   "id": "2745c0bd",
   "metadata": {},
   "outputs": [
    {
     "name": "stdout",
     "output_type": "stream",
     "text": [
      "Mean_Absolute_Error Train :  0.03954177897574126\n",
      "Mean_Squared_Error Train:  0.004562418174817096\n",
      "Mean_Absolute_Error Test :  0.12710317460317463\n",
      "Mean_Squared_Error Test:  0.039775396825396825\n"
     ]
    }
   ],
   "source": [
    "# aplicar cross-validation: GridSearchCV\n",
    "from sklearn import svm\n",
    "from sklearn.model_selection import GridSearchCV\n",
    "from sklearn.ensemble import RandomForestRegressor\n",
    "from sklearn.metrics import mean_absolute_error, mean_squared_error\n",
    "\n",
    "param_grid={'n_estimators': range(100, 500, 50),'max_features': range(2, 5, 1) }\n",
    "gsc = GridSearchCV(estimator=RandomForestRegressor(), param_grid=param_grid, scoring='r2', cv=5)\n",
    "\n",
    "grid_model = gsc.fit(X_train, y_train)\n",
    "predi_grid_train = grid_model.predict(X_train)\n",
    "predi_grid_test = grid_model.predict(X_test)\n",
    "\n",
    "print('Mean_Absolute_Error Train : ' , mean_absolute_error(predi_grid_train, y_train))\n",
    "print('Mean_Squared_Error Train: ' , mean_squared_error(predi_grid_train, y_train))\n",
    "print('Mean_Absolute_Error Test : ' ,mean_absolute_error(predi_grid_test, y_test))\n",
    "print('Mean_Squared_Error Test: ' ,mean_squared_error(predi_grid_test, y_test))"
   ]
  },
  {
   "cell_type": "markdown",
   "id": "ae8ac50f",
   "metadata": {},
   "source": [
    "####  "
   ]
  },
  {
   "cell_type": "markdown",
   "id": "22f0f93a",
   "metadata": {},
   "source": [
    "### Ex5 \n",
    "##### Aplica algun procés d'enginyeria per millorar els resultats (normalització, estandardització, mostreig...)\n",
    "##### Aplying Feature Scaling"
   ]
  },
  {
   "cell_type": "code",
   "execution_count": 36,
   "id": "f63b6b3d",
   "metadata": {},
   "outputs": [
    {
     "data": {
      "text/html": [
       "<div>\n",
       "<style scoped>\n",
       "    .dataframe tbody tr th:only-of-type {\n",
       "        vertical-align: middle;\n",
       "    }\n",
       "\n",
       "    .dataframe tbody tr th {\n",
       "        vertical-align: top;\n",
       "    }\n",
       "\n",
       "    .dataframe thead th {\n",
       "        text-align: right;\n",
       "    }\n",
       "</style>\n",
       "<table border=\"1\" class=\"dataframe\">\n",
       "  <thead>\n",
       "    <tr style=\"text-align: right;\">\n",
       "      <th></th>\n",
       "      <th>Alcohol</th>\n",
       "      <th>Malic acid</th>\n",
       "      <th>Ash</th>\n",
       "      <th>Alcalinity of ash</th>\n",
       "      <th>Magnesium</th>\n",
       "      <th>Total phenols</th>\n",
       "      <th>Flavanoids</th>\n",
       "      <th>Nonflavanoid phenols</th>\n",
       "      <th>Proanthocyanins</th>\n",
       "      <th>Color intensity</th>\n",
       "      <th>Hue</th>\n",
       "      <th>OD280/OD315 of diluted wines</th>\n",
       "      <th>Proline</th>\n",
       "    </tr>\n",
       "  </thead>\n",
       "  <tbody>\n",
       "    <tr>\n",
       "      <th>count</th>\n",
       "      <td>1.060000e+02</td>\n",
       "      <td>1.060000e+02</td>\n",
       "      <td>1.060000e+02</td>\n",
       "      <td>1.060000e+02</td>\n",
       "      <td>1.060000e+02</td>\n",
       "      <td>1.060000e+02</td>\n",
       "      <td>1.060000e+02</td>\n",
       "      <td>1.060000e+02</td>\n",
       "      <td>1.060000e+02</td>\n",
       "      <td>1.060000e+02</td>\n",
       "      <td>1.060000e+02</td>\n",
       "      <td>1.060000e+02</td>\n",
       "      <td>1.060000e+02</td>\n",
       "    </tr>\n",
       "    <tr>\n",
       "      <th>mean</th>\n",
       "      <td>-3.502439e-15</td>\n",
       "      <td>-3.733910e-16</td>\n",
       "      <td>-2.359224e-15</td>\n",
       "      <td>1.402311e-15</td>\n",
       "      <td>-2.199498e-16</td>\n",
       "      <td>6.116700e-16</td>\n",
       "      <td>-3.142141e-17</td>\n",
       "      <td>2.241394e-16</td>\n",
       "      <td>-7.865825e-16</td>\n",
       "      <td>-1.068328e-16</td>\n",
       "      <td>-8.232408e-16</td>\n",
       "      <td>-3.351617e-17</td>\n",
       "      <td>-1.183540e-16</td>\n",
       "    </tr>\n",
       "    <tr>\n",
       "      <th>std</th>\n",
       "      <td>1.004751e+00</td>\n",
       "      <td>1.004751e+00</td>\n",
       "      <td>1.004751e+00</td>\n",
       "      <td>1.004751e+00</td>\n",
       "      <td>1.004751e+00</td>\n",
       "      <td>1.004751e+00</td>\n",
       "      <td>1.004751e+00</td>\n",
       "      <td>1.004751e+00</td>\n",
       "      <td>1.004751e+00</td>\n",
       "      <td>1.004751e+00</td>\n",
       "      <td>1.004751e+00</td>\n",
       "      <td>1.004751e+00</td>\n",
       "      <td>1.004751e+00</td>\n",
       "    </tr>\n",
       "    <tr>\n",
       "      <th>min</th>\n",
       "      <td>-2.360510e+00</td>\n",
       "      <td>-1.313404e+00</td>\n",
       "      <td>-2.637202e+00</td>\n",
       "      <td>-2.329447e+00</td>\n",
       "      <td>-2.224967e+00</td>\n",
       "      <td>-1.955725e+00</td>\n",
       "      <td>-1.620990e+00</td>\n",
       "      <td>-1.817263e+00</td>\n",
       "      <td>-2.090506e+00</td>\n",
       "      <td>-1.607573e+00</td>\n",
       "      <td>-1.802198e+00</td>\n",
       "      <td>-1.910245e+00</td>\n",
       "      <td>-1.419139e+00</td>\n",
       "    </tr>\n",
       "    <tr>\n",
       "      <th>25%</th>\n",
       "      <td>-7.895106e-01</td>\n",
       "      <td>-6.615223e-01</td>\n",
       "      <td>-4.707213e-01</td>\n",
       "      <td>-6.960775e-01</td>\n",
       "      <td>-7.421219e-01</td>\n",
       "      <td>-7.869790e-01</td>\n",
       "      <td>-8.149791e-01</td>\n",
       "      <td>-8.361261e-01</td>\n",
       "      <td>-6.542830e-01</td>\n",
       "      <td>-8.470915e-01</td>\n",
       "      <td>-7.227585e-01</td>\n",
       "      <td>-9.507277e-01</td>\n",
       "      <td>-7.898811e-01</td>\n",
       "    </tr>\n",
       "    <tr>\n",
       "      <th>50%</th>\n",
       "      <td>6.383447e-02</td>\n",
       "      <td>-4.368873e-01</td>\n",
       "      <td>1.090053e-03</td>\n",
       "      <td>-4.135114e-02</td>\n",
       "      <td>-1.489839e-01</td>\n",
       "      <td>-1.103365e-01</td>\n",
       "      <td>1.150329e-01</td>\n",
       "      <td>-1.820348e-01</td>\n",
       "      <td>-1.265143e-01</td>\n",
       "      <td>-2.049074e-01</td>\n",
       "      <td>1.468021e-02</td>\n",
       "      <td>2.660516e-01</td>\n",
       "      <td>-2.520057e-01</td>\n",
       "    </tr>\n",
       "    <tr>\n",
       "      <th>75%</th>\n",
       "      <td>8.206882e-01</td>\n",
       "      <td>6.840855e-01</td>\n",
       "      <td>7.328791e-01</td>\n",
       "      <td>6.478345e-01</td>\n",
       "      <td>5.182963e-01</td>\n",
       "      <td>7.467442e-01</td>\n",
       "      <td>7.763749e-01</td>\n",
       "      <td>7.173407e-01</td>\n",
       "      <td>5.872712e-01</td>\n",
       "      <td>7.055575e-01</td>\n",
       "      <td>6.773063e-01</td>\n",
       "      <td>7.840519e-01</td>\n",
       "      <td>8.053082e-01</td>\n",
       "    </tr>\n",
       "    <tr>\n",
       "      <th>max</th>\n",
       "      <td>2.126336e+00</td>\n",
       "      <td>2.879783e+00</td>\n",
       "      <td>3.217110e+00</td>\n",
       "      <td>2.853228e+00</td>\n",
       "      <td>3.780555e+00</td>\n",
       "      <td>2.604436e+00</td>\n",
       "      <td>1.758054e+00</td>\n",
       "      <td>2.434330e+00</td>\n",
       "      <td>3.377524e+00</td>\n",
       "      <td>2.815893e+00</td>\n",
       "      <td>3.199560e+00</td>\n",
       "      <td>1.774858e+00</td>\n",
       "      <td>2.531159e+00</td>\n",
       "    </tr>\n",
       "  </tbody>\n",
       "</table>\n",
       "</div>"
      ],
      "text/plain": [
       "            Alcohol    Malic acid           Ash  Alcalinity of ash  \\\n",
       "count  1.060000e+02  1.060000e+02  1.060000e+02       1.060000e+02   \n",
       "mean  -3.502439e-15 -3.733910e-16 -2.359224e-15       1.402311e-15   \n",
       "std    1.004751e+00  1.004751e+00  1.004751e+00       1.004751e+00   \n",
       "min   -2.360510e+00 -1.313404e+00 -2.637202e+00      -2.329447e+00   \n",
       "25%   -7.895106e-01 -6.615223e-01 -4.707213e-01      -6.960775e-01   \n",
       "50%    6.383447e-02 -4.368873e-01  1.090053e-03      -4.135114e-02   \n",
       "75%    8.206882e-01  6.840855e-01  7.328791e-01       6.478345e-01   \n",
       "max    2.126336e+00  2.879783e+00  3.217110e+00       2.853228e+00   \n",
       "\n",
       "          Magnesium  Total phenols    Flavanoids  Nonflavanoid phenols  \\\n",
       "count  1.060000e+02   1.060000e+02  1.060000e+02          1.060000e+02   \n",
       "mean  -2.199498e-16   6.116700e-16 -3.142141e-17          2.241394e-16   \n",
       "std    1.004751e+00   1.004751e+00  1.004751e+00          1.004751e+00   \n",
       "min   -2.224967e+00  -1.955725e+00 -1.620990e+00         -1.817263e+00   \n",
       "25%   -7.421219e-01  -7.869790e-01 -8.149791e-01         -8.361261e-01   \n",
       "50%   -1.489839e-01  -1.103365e-01  1.150329e-01         -1.820348e-01   \n",
       "75%    5.182963e-01   7.467442e-01  7.763749e-01          7.173407e-01   \n",
       "max    3.780555e+00   2.604436e+00  1.758054e+00          2.434330e+00   \n",
       "\n",
       "       Proanthocyanins  Color intensity           Hue  \\\n",
       "count     1.060000e+02     1.060000e+02  1.060000e+02   \n",
       "mean     -7.865825e-16    -1.068328e-16 -8.232408e-16   \n",
       "std       1.004751e+00     1.004751e+00  1.004751e+00   \n",
       "min      -2.090506e+00    -1.607573e+00 -1.802198e+00   \n",
       "25%      -6.542830e-01    -8.470915e-01 -7.227585e-01   \n",
       "50%      -1.265143e-01    -2.049074e-01  1.468021e-02   \n",
       "75%       5.872712e-01     7.055575e-01  6.773063e-01   \n",
       "max       3.377524e+00     2.815893e+00  3.199560e+00   \n",
       "\n",
       "       OD280/OD315 of diluted wines       Proline  \n",
       "count                  1.060000e+02  1.060000e+02  \n",
       "mean                  -3.351617e-17 -1.183540e-16  \n",
       "std                    1.004751e+00  1.004751e+00  \n",
       "min                   -1.910245e+00 -1.419139e+00  \n",
       "25%                   -9.507277e-01 -7.898811e-01  \n",
       "50%                    2.660516e-01 -2.520057e-01  \n",
       "75%                    7.840519e-01  8.053082e-01  \n",
       "max                    1.774858e+00  2.531159e+00  "
      ]
     },
     "execution_count": 36,
     "metadata": {},
     "output_type": "execute_result"
    }
   ],
   "source": [
    "from sklearn.preprocessing import StandardScaler\n",
    "sc = StandardScaler()\n",
    "X_train_sc = sc.fit_transform(X_train)\n",
    "X_test_sc = sc.transform(X_test)\n",
    "\n",
    "#Scaler removes column names, so re-organize df\n",
    "columnes= ['Alcohol', 'Malic acid', 'Ash','Alcalinity of ash', 'Magnesium', 'Total phenols', 'Flavanoids', 'Nonflavanoid phenols', 'Proanthocyanins', 'Color intensity', 'Hue', 'OD280/OD315 of diluted wines', 'Proline']\n",
    "scaled_df = pd.DataFrame(X_train_sc, columns=columnes)\n",
    "scaled_df.describe()"
   ]
  },
  {
   "cell_type": "markdown",
   "id": "b0a98398",
   "metadata": {},
   "source": [
    "##### Model 1= KNN Classification"
   ]
  },
  {
   "cell_type": "code",
   "execution_count": 37,
   "id": "0cdd89a2",
   "metadata": {},
   "outputs": [
    {
     "name": "stdout",
     "output_type": "stream",
     "text": [
      "0.9722222222222222\n"
     ]
    }
   ],
   "source": [
    "classifierKNN_sc = KNeighborsClassifier()\n",
    "classifierKNN_sc.fit(X_train_sc, y_train)\n",
    "\n",
    "# Predicting the Test set results\n",
    "y_predKNN_sc = classifierKNN_sc.predict(X_test_sc)\n",
    "#Evaluating KNN for Classification\n",
    "accuracy =  classifierKNN_sc.score(X_test_sc, y_test)\n",
    "print(accuracy)"
   ]
  },
  {
   "cell_type": "markdown",
   "id": "aebb0610",
   "metadata": {},
   "source": [
    "##### KNN before was 66% only, now 97% !!!!!!!!!!!!"
   ]
  },
  {
   "cell_type": "code",
   "execution_count": 38,
   "id": "4ba57aa6",
   "metadata": {},
   "outputs": [
    {
     "name": "stdout",
     "output_type": "stream",
     "text": [
      "              precision    recall  f1-score   support\n",
      "\n",
      "           1       0.96      1.00      0.98        22\n",
      "           2       1.00      0.94      0.97        31\n",
      "           3       0.95      1.00      0.97        19\n",
      "\n",
      "    accuracy                           0.97        72\n",
      "   macro avg       0.97      0.98      0.97        72\n",
      "weighted avg       0.97      0.97      0.97        72\n",
      "\n"
     ]
    },
    {
     "data": {
      "image/png": "[encoded data removed]",
      "text/plain": [
       "<Figure size 432x288 with 2 Axes>"
      ]
     },
     "metadata": {
      "needs_background": "light"
     },
     "output_type": "display_data"
    }
   ],
   "source": [
    "# Adding classes names for better interpretation\n",
    "classes_names = ['class 1','class 2','class 3']\n",
    "cm = pd.DataFrame(confusion_matrix(y_test, y_predKNN_sc), \n",
    "                  columns=classes_names, index = classes_names)\n",
    "                  \n",
    "# Seaborn's heatmap to better visualize the confusion matrix\n",
    "sns.heatmap(cm, annot=True, fmt='d');\n",
    "\n",
    "print(classification_report(y_test, y_predKNN_sc))"
   ]
  },
  {
   "cell_type": "markdown",
   "id": "c4d732c7",
   "metadata": {},
   "source": [
    "###### Great improve! Just 2 false positive in class 2."
   ]
  },
  {
   "cell_type": "markdown",
   "id": "d61f81fc",
   "metadata": {},
   "source": [
    "##### Model 2= SVM Classification"
   ]
  },
  {
   "cell_type": "code",
   "execution_count": 39,
   "id": "34da3965",
   "metadata": {},
   "outputs": [
    {
     "name": "stdout",
     "output_type": "stream",
     "text": [
      "0.9722222222222222\n"
     ]
    }
   ],
   "source": [
    "classifierSVM_sc = SVC(kernel = 'linear', random_state = 0)\n",
    "trained_model_sc=classifierSVM_sc.fit(X_train_sc,y_train)\n",
    "trained_model_sc.fit(X_train_sc,y_train )\n",
    "\n",
    "# Predicting the Test set results\n",
    "y_predSVM_sc = classifierSVM_sc.predict(X_test_sc)\n",
    "accuracySVM_sc =  classifierSVM_sc.score(X_test_sc, y_test)\n",
    "print(accuracySVM_sc)\n"
   ]
  },
  {
   "cell_type": "markdown",
   "id": "637c9659",
   "metadata": {},
   "source": [
    "##### SVM was 95%, now improve to 97%!!!!\n",
    "##### Let's evaluate each class using confusion_matrix() and classification_report()"
   ]
  },
  {
   "cell_type": "code",
   "execution_count": 44,
   "id": "358734bc",
   "metadata": {},
   "outputs": [
    {
     "data": {
      "image/png": "[encoded data removed]",
      "text/plain": [
       "<Figure size 648x648 with 2 Axes>"
      ]
     },
     "metadata": {
      "needs_background": "light"
     },
     "output_type": "display_data"
    }
   ],
   "source": [
    "cm = metrics.confusion_matrix(y_test, y_predSVM_sc)\n",
    "plt.figure(figsize=(9,9))\n",
    "sns.heatmap(cm, annot=True, fmt=\".3f\", linewidths=.5, square = True, cmap = 'Blues_r');\n",
    "plt.ylabel('Actual label');\n",
    "plt.xlabel('Predicted label');\n",
    "all_sample_title = 'Accuracy Score: {0}'.format(accuracySVM_sc)\n",
    "plt.title(all_sample_title, size = 12);"
   ]
  },
  {
   "cell_type": "markdown",
   "id": "94094452",
   "metadata": {},
   "source": [
    "###### Now just one wrong in class 2 and in class 3. Pretty improve!"
   ]
  },
  {
   "cell_type": "markdown",
   "id": "a8851644",
   "metadata": {},
   "source": [
    "#### Scaling data provides better results. \n",
    "#### And with this data, SVM build much better predictions than KNN (not the best to work well with categorical features!)"
   ]
  }
 ],
 "metadata": {
  "kernelspec": {
   "display_name": "Python 3.9.5 64-bit",
   "language": "python",
   "name": "python3"
  },
  "language_info": {
   "codemirror_mode": {
    "name": "ipython",
    "version": 3
   },
   "file_extension": ".py",
   "mimetype": "text/x-python",
   "name": "python",
   "nbconvert_exporter": "python",
   "pygments_lexer": "ipython3",
   "version": "3.9.5"
  },
  "vscode": {
   "interpreter": {
    "hash": "c347c8f9a7ef94e4c9e03b4513be7835ed18f45b99a2a817fb579f408b867b16"
   }
  }
 },
 "nbformat": 4,
 "nbformat_minor": 5
}

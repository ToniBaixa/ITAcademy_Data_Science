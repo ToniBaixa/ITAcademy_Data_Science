{
 "cells": [
  {
   "cell_type": "markdown",
   "id": "2056e70e",
   "metadata": {},
   "source": [
    "# Tasca M10 T01"
   ]
  },
  {
   "cell_type": "markdown",
   "id": "2279cd19",
   "metadata": {},
   "source": [
    "### Ex1\n",
    "##### Realitza web scraping de dues de les tres pàgines web proposades utilitzant BeautifulSoup primer i Selenium després. "
   ]
  },
  {
   "cell_type": "code",
   "execution_count": 322,
   "id": "3d24cd69",
   "metadata": {
    "ExecuteTime": {
     "end_time": "2022-05-04T15:35:55.570459Z",
     "start_time": "2022-05-04T15:35:55.497935Z"
    }
   },
   "outputs": [],
   "source": [
    "%matplotlib inline\n",
    "import numpy as np\n",
    "import pandas as pd\n",
    "from bs4 import BeautifulSoup\n",
    "import requests\n",
    "import re\n"
   ]
  },
  {
   "cell_type": "markdown",
   "id": "b6f269c3",
   "metadata": {},
   "source": [
    "#### BeatifulSoup"
   ]
  },
  {
   "cell_type": "code",
   "execution_count": 323,
   "id": "74ad89b9",
   "metadata": {},
   "outputs": [],
   "source": [
    "#URL 1\n",
    "URL = \"http://quotes.toscrape.com\"\n",
    "page = requests.get(URL)\n",
    "soup = BeautifulSoup(page.content, \"html.parser\")\n",
    "title1 = soup.find('title').text.strip()"
   ]
  },
  {
   "cell_type": "code",
   "execution_count": 324,
   "id": "7b913191",
   "metadata": {},
   "outputs": [
    {
     "data": {
      "text/plain": [
       "bs4.element.ResultSet"
      ]
     },
     "execution_count": 324,
     "metadata": {},
     "output_type": "execute_result"
    }
   ],
   "source": [
    "#print(results.prettify())\n",
    "quotes = soup.find_all(\"div\", class_ = \"quote\")\n",
    "type(quotes)\n",
    "# len (quotes)"
   ]
  },
  {
   "cell_type": "code",
   "execution_count": 325,
   "id": "986c487a",
   "metadata": {},
   "outputs": [],
   "source": [
    "#quotes"
   ]
  },
  {
   "cell_type": "code",
   "execution_count": 326,
   "id": "01dbf8b6",
   "metadata": {},
   "outputs": [
    {
     "name": "stdout",
     "output_type": "stream",
     "text": [
      "“The world as we have created it is a process of our thinking. It cannot be changed without changing our thinking.”\n",
      "Albert Einstein\n",
      "\n",
      "“It is our choices, Harry, that show what we truly are, far more than our abilities.”\n",
      "J.K. Rowling\n",
      "\n",
      "“There are only two ways to live your life. One is as though nothing is a miracle. The other is as though everything is a miracle.”\n",
      "Albert Einstein\n",
      "\n",
      "“The person, be it gentleman or lady, who has not pleasure in a good novel, must be intolerably stupid.”\n",
      "Jane Austen\n",
      "\n",
      "“Imperfection is beauty, madness is genius and it's better to be absolutely ridiculous than absolutely boring.”\n",
      "Marilyn Monroe\n",
      "\n",
      "“Try not to become a man of success. Rather become a man of value.”\n",
      "Albert Einstein\n",
      "\n",
      "“It is better to be hated for what you are than to be loved for what you are not.”\n",
      "André Gide\n",
      "\n",
      "“I have not failed. I've just found 10,000 ways that won't work.”\n",
      "Thomas A. Edison\n",
      "\n",
      "“A woman is like a tea bag; you never know how strong it is until it's in hot water.”\n",
      "Eleanor Roosevelt\n",
      "\n",
      "“A day without sunshine is like, you know, night.”\n",
      "Steve Martin\n",
      "\n"
     ]
    }
   ],
   "source": [
    "ideas = []\n",
    "for x in quotes:\n",
    "    quote = x.find(\"span\", {'class':'text'})\n",
    "    author = x.find(\"small\", class_ ='author')\n",
    "    quote_ok = quote.text.strip()\n",
    "    author_ok = author.text.strip()\n",
    "    print(quote_ok)\n",
    "    print(author_ok)\n",
    "    ideas.append([quote_ok, author_ok])\n",
    "    print()"
   ]
  },
  {
   "cell_type": "code",
   "execution_count": 327,
   "id": "20307760",
   "metadata": {},
   "outputs": [],
   "source": [
    "#URL 2\n",
    "URL2 = \"https://ca.wikipedia.org/wiki/Rugbi\"\n",
    "page = requests.get(URL2)\n",
    "soup2 = BeautifulSoup(page.content, \"html.parser\")\n",
    "title2 = soup2.find('title').text.strip()"
   ]
  },
  {
   "cell_type": "code",
   "execution_count": 328,
   "id": "96a0632e",
   "metadata": {},
   "outputs": [],
   "source": [
    "elements = soup2.find(id = \"mw-content-text\")"
   ]
  },
  {
   "cell_type": "code",
   "execution_count": 329,
   "id": "08936b75",
   "metadata": {},
   "outputs": [
    {
     "name": "stdout",
     "output_type": "stream",
     "text": [
      "\n",
      "==============================\n",
      "Wikipedia texts about Rugby\n",
      "==============================\n",
      "\n",
      "El rugbi és un esport d'equip de contacte, que en la seva modalitat a quinze consta de dos equips amb quinze jugadors cadascun; cada partit consta de dues parts de 40 minuts amb un descans de 10 en mig. Els jugadors lluiten per la possessió de la pilota per aconseguir plantar-la a terra a la zona de marca o d'assaig de l'equip rival, amb una o dues mans i sense deixar-la anar. Aquesta acció suma cinc punts (un assaig) i dona una oportunitat o intent per fer un xut directe entre pals (una transformació) i aconseguir-ne dos més. Igualment, l'equip atacant també pot marcar tres punts xutant la pilota entre els pals del rival, ja sigui amb un xut col·locat (cop de càstig) amb el joc detingut per una falta xiulada per l'àrbitre, o ja sigui amb un xut de sobrebot (un drop) amb el joc en acció en qualsevol moment.\n",
      "\n",
      "Des dels orígens mateixos del rugbi i del futbol, quan tots dos esports es van separar a mitjans del segle xix, ambdós es van presentar en oposició l'un de l'altre: força contra habilitat; joc net contra joc deslleial, etc.[1] Una antiga dita britànica diu que \"el futbol és un joc de cavallers jugat per pinxos i el rugbi és un joc de pinxos jugat per cavallers\" [2] i en el rugbi és característic el respecte per les regles, pels contraris i per l'àrbitre. Les decisions de l'àrbitre poques vegades són discutides pels jugadors. En els partits internacionals entre seleccions i en molts dels campionats europeus i de l'hemisferi sud es pot recórrer, a sol·licitud de l'àrbitre principal, a la repetició en vídeo de les jugades produïdes dins de la zona d'assaig en cas de dubte. La revisió d'aquestes jugades està a càrrec d'un quart àrbitre anomenat TMO (Television Match Official) encara que la decisió final sempre correspon a l'àrbitre principal. Una peculiaritat d'aquest esport és que, tradicionalment, es fomenta la sociabilitat entre companys d'equips i els oponents amb una cordial reunió després dels partits, anomenada tercer temps, que els aplega amb els àrbitres, els entrenadors i part del públic, per parlar sobre el partit. Aquest apel·latiu s'empra també en les seccions dels mitjans de comunicació que cobreixen esdeveniments d'aquest esport.\n",
      "\n",
      "Les principals característiques del rugbi són l'ús d'una pilota ovalada i la prohibició de passar la pilota endavant amb les mans. La forma de guanyar terreny és, per tant, avançar corrent amb la pilota a la mà o xutant-la.\n",
      "\n",
      "És un dels esports amb més jugadors entre els dos equips dins d'un mateix terreny de joc, 15 per equip, cosa que fa 30 en total presents alhora sobre el terreny de joc.\n",
      "\n",
      "L'esport del rugbi té com a característica principal l'honor i la valentia que els jugadors han de tenir, ja que és un esport en el qual hi ha contacte físic, de manera que si no hi hagués un ordre i un respecte previ i continuat no seria possible la pràctica d'aquest esport en condicions òptimes. Quan un partit finalitza, acaba la rivalitat i el caràcter competitiu, és a dir, tots els jugadors es reuneixen i parlen sobre el partit i les jugades més rellevants succeïdes.\n",
      "\n",
      "Per puntuar, cal fer un toc amb la pilota terra a la zona d'assaig de l'adversari, o fer passar la pilota a través dels seus pals, amb la finalitat d'aconseguir el màxim nombre de punts. Un assaig val 5 punts i la seva transformació 2 punts més. Els cops de càstig (o faltes) i els xuts a sobre bot (o \"drops\") valen 3 punts.\n",
      "\n",
      "Durant el segle xix es va desenvolupar en els col·legis privats d'Anglaterra un procés de definició de les regles del futbol de carnaval, àmpliament practicat, en les seves múltiples variants, pels estudiants. En aquest procés de reglamentació sorgirien en rugbi i el futbol moderns, així com altres esports emparentats. La tradició atribueix la invenció del rugbi a un estudiant de teologia. Segons el relat tradicional, en 1823, durant un partit de futbol, William Webb Ellis, \"amb fina desobediència de les regles del futbol\" va prendre la pilota amb les mans i la va dur fins a la meta contrària, obtenint un gol. La historicitat del fet ha estat reiteradament posada en dubte, però és acceptat oficialment per la International Rugby Board (IRB) com primer antecedent del rugbi modern, fins al punt que el trofeu que es lliura als guanyadors de la Copa del Món de Rugbi duu el seu nom. Tot i que els contrincants acordaven abans de cada trobada les regles en què se subjectarien, les discussions i baralles sobre les accions que estaven permeses o prohibides va esdevenir un inconvenient cada vegada més notable.\n",
      "\n",
      "Els estudiants dels col·legis anglesos van començar llavors a escriure les regles, amb la finalitat d'unificar-les. El primer a fer-lo va ser el col·legi de Rugby, al comtat de Warwickshire on el futbol s'havia practicat en una versió molt física (fins i tot podrien dir \"agressiva\"), utilitzant travetes i apilaments (\"hacking\" i \"maul\") i permetent prendre, passar i córrer amb la pilota en les mans. Les regles del col·legi de Rugby van ser escrites el 28 d'agost de 1845 per tres estudiants, William Delafield Arnold, W.W. Shirley, i Frederick Hutchins. Estaven integrades per 37 regles que constitueixen el primer antecedent reglat del rugbi modern. Allí figuren regles que després assenyalarien la identitat del joc, com els arcs en forma d'H, la conversió, l'ús de les mans per a dur la pilota, la regla del \"fora de joc\", l'\"avant\", la \"melé\", la \"marca\", etc.\n",
      "\n",
      "En aquest context, cada col·legi de cada ciutat jugaven seguint les seves pròpies regles. allò va generar que a mitjan segle xix hi hagués una multiplicitat de variants d'allò que aleshores es coneixia com a \"football\". A banda d'això, hi cohabitaven amb un munt de teories per part de la premsa a l'hora de determinar el seu començament i sobretot \"quins havien sigut els primers?\".\n",
      "\n",
      "Segons la versió anglesa, en 1843 es creà el club de football més antic del món, el Guy's Hospital Football Club, format per exalumnes de l'escola (encara que la seva fiabilitat es basa en proves indirectes). Paral·lelament, el Dublin University Footall Club, fundat el 1854, és també considerat el més antic de tots els clubs de \"football\", encara en activitat (aquest últim en té proves irrefutables)\n",
      "\n",
      "A les regles del col·legi de Rugby altres col·legis van oposar-ne d'altres que limitaven considerablement l'ús de les mans i el paper de la força física. Entre aquests col·legis es van destacar les regles escrites per Eton i Cambridge. Aquests col·legis sostenien que en les seves regles es promovia més l'habilitat, mentre que en les del col·legi de Rugby es promovia més la força.\n",
      "\n",
      "Cap al 1862, 13 clubs decideixen associar-se a Londres per formar un organisme que redactés les normes que regulessin la pràctica del joc. Paral·lelament, i al mateix temps, coexistien d'altres organismes representant d'altres clubs que també hi proposaven les seves regles. Amb tot aquell desgavell, la premsa també hi ficava cullerada: publicant les regles de diferents col·legis i especulant qui n'era el club degà.\n",
      "\n",
      "Finalment en 1863 va començar una gran reunió de delegats dels estudiants de diversos col·legis a Londres, en una taverna anomenada Freemasons (avui Freemansons Arms), amb la intenció de redactar un codi de regles que harmonitzessin els diversos mètodes de joc que responien a la denominació comuna del \"football\". En la quarta reunió es va destacar que alguns periòdics havien publicat les regles de Cambridge de 1856, que diferien en dos punts fonamentals de l'esborrany proposat: \"córrer amb la pilota\" i el \"hacking\" (colpejar les canyelles del rival). allò va generar (segons la versió oficial) que el delegat del col·legi de Blackheath retirés el seu club al no estar d'acord amb aquesta supressió.\n",
      "\n",
      "La gran majoria de col·legis van acceptar la unificació de les regles i el 26 d'octubre de 1863 van fundar The Football Association (the FA), i és en aquest moment quan rugbi i futbol emprenen camins diferents, separant-se del tronc comú. Des d'aleshores, en el món angloparlant s'atribueix la paraula anglesa \"association\" a les federacions de futbol (de fet el nom oficial d'aquest esport és \"footbal association\") i a les de rugbi \"union\". El que sí que va continuar és la determinació de tots dos en anomenar el joc \"football\".\n",
      "\n",
      "El 4 de desembre de 1870, Edwin Ash, de Richmond FC, i Benjamin Burns, del Blackheath FC, van publicar una carta a The Times en què suggerien que \"els qui practiquen el joc tipus rugbi haurien de reunir-se per formar un codi de pràctiques, ja que diversos clubs juguen amb regles que difereixen d'altres, cosa que dificulta el joc\". El 26 de gener de 1871, es va celebrar a Londres una reunió a la qual van assistir representants de 21 clubs en el restaurant Pall Mall.[3]\n",
      "\n",
      "En els següents anys, es van fundar organismes similars per tot arreu d'Escòcia, País de Gal·les, Irlanda, França, Nova Zelanda, Austràlia, Sud-àfrica, Canada, Estats Units, amb polèmica inclosa. A diferència de The FA, que representava en el seu si als clubs de tots els col·legis (de tots els països) del regne, la RFU només hi representava l'anglesa deixant a cadascú la seva autonomia (i igual que avui en dia, la vessant política hi era).\n",
      "\n",
      "El 27 de març de 1871 es va disputar el primer partit internacional entre Anglaterra i Escòcia a Edimburg. Un any més tard, el dia de Nadal, el mateix partit es repetiria a Calcuta, que aleshores era colònia britànica. El partit va tenir un gran èxit i en el seu honor es va esculpir un trofeu que seria lliurat al guanyador de la trobada anual entre totes dues nacions: la Calcutta Cup.\n",
      "\n",
      "L'any 1877 el nombre de jugadors es va reduir de 20 a 15 per equip.\n",
      "\n",
      "Amb l'extensió del rugbi per Gran Bretanya, el 1883 es va organitzar el primer torneig periòdic internacional, el \"Home Nations\", entre els quatre països britànics: Anglaterra, Escòcia, Gal·les i Irlanda. En aquella primera edició el \"XV de la rosa\" (malnom amb què es coneix la selecció anglesa) guanya tots els seus partits obtenint per primera vegada la Triple Corona (premi que es concedeix tradicionalment a la selecció britànica que derrota a les altres tres restants.\n",
      "\n",
      "Fins a l'any 1885 les regles del Rugby Union estaven fetes i ordenades per la RFU però després d'una disputa per un assaig no concedit en un partit Anglaterra- Escòcia les \"union\" del País de Gal·les, Irlanda i Escòcia formaren l'any 1886 a Dublín la International Rugby Football Board (IRFB). L'anglesa va refusar ser-hi al·legant tenir poca representació tot i tenir molts més clubs. Malgrat això, 5 anys més tard hi tornaria.\n",
      "\n",
      "L'any 1910 França va ser admesa a la competició que jugaven anualment les quatre nacions britàniques i passa a anomenar-se el Torneig de les cinc nacions.\n",
      "\n",
      "Ja a finals del segle xix, amb una creixent popularitat arreu de tota la Gran Bretanya, i en una època on l'esperit de l'esport era \"olímpic\" (és a dir \"amateur\") es van multiplicar les trobades entre equips de diferents localitats, però amb l'augment de partits van començar a succeir uns fets que ningú havia previst fins ara; alguns jugadors, sobretot provinents de classes obreres; que eren majoritàriament els que jugaven en equips dels comtats del nord (especialment Yorkshire i Lancashire) començaven amb freqüència a ser baixa per lesió, amb la tessitura que havien de pagar-se els seus tractaments mèdics, i l'agreujant que deixaven d'ingressar part dels seus salaris en haver de faltar a la feina mentre es recuperaven.\n",
      "\n",
      "Tot allò va generar un debat ideològic sobre \"els valors i principis del rugbi\" que trobaven una forta oposició per part dels clubs del sud (especialment a Londres) on, cal dir-ho, estaven formats majoritàriament per jugadors de classes benestant als que la despesa que allò generava no els hi afectava gaire. La guerra de classes en l'esport estava servida.\n",
      "\n",
      "Així doncs, el 29 d'agost de 1895, 22 clubs del nord d'Anglaterra es reuneixen al George Hotel a Huddersfield i formen la Northern Rugby Football Union, una escissió de la RFU a la qual va respondre amb dures sancions i l'exclusió de tot club, oficial o jugador que participés directament en qualsevol activitat de la nova organització dissident. Tot allò var generar un gran rebombori que, a la llarga, acabaria beneficiant a la nova entitat rebel; molts dels clubs que practicaven el Football Rugby amb fins purament recreatius s'hi van a afegir, mantenint el principi de l'amateurisme, però beneficiant-se a la vegada de les subvencions per compensar la despesa.\n",
      "\n",
      "Cap al 1904, la nova entitat ja tenia més clubs afiliats que la RFU i la professionalitat era un fet entre la nova competició que havia seguit el model del \"football association\" (el futbol) i del qual n'havia pres el nom de competició (\"league\"); fins i tot, 3 anys abans el jugador James Lomas s'havia convertit en el primer traspàs per £100 de Bramley a Salford.\n",
      "\n",
      "Als primers anys, els equips que practicaven el \"Football Rugby\" adherits a la Northern Rugby Football Union van competir mantenint les regles de la RFU però després amb el pas del temps reduirien els equips a 13 jugadors, canviarien les mides del terreny de joc i el reglament evolucionaria cap al joc que es coneix avui en dia com Rugby League.\n",
      "\n",
      "Els anys següents, altres entitats similars se separarien pels mateixos motius en la resta de les colònies, especialment a Nova Gal·les del Sud (avui un dels estat d'Austràlia) on aquest esport avui en dia conviu i rivalitza en popularitat amb el Rugby Union. No obstant això, al començament també es van trobar amb una forta oposició per part de les \"union\" de tot el Pacífic; a la versió neozelandesa de rugbi league que va visitar per primera vegada a Austràlia la premsa de l'època l'anomenaria (de manera sarcàstica) com \"All Golds\", pel seu caràcter \"mercenari\", i és que els jugadors que desertaven des de la Rugby Union Australiana (amateur) cap a la New South Wales Rugby League (és aquí on apareix per primera vegada documentada la modalitat amb aquesta definició) eren molt freqüent.\n",
      "\n",
      "Un fet determinant en l'arrelament d'aquesta modalitat hi inclou a una glòria esportiva de la història australiana: Herbert Henry Messenger conegut com a \"Dally\" Messenger, un esportista polifacètic que es va guanyar el seu malnom de jove en ser panxut com un conegut funcionari públic. a principis del segle xx en els seus primers anys de joventut va començar jugant al criquet, futbol australià i especialment Rugby Union on va arribar a debutar amb la selecció absoluta i convertir-se en tota una celebritat de l'època. El 1907 per treure profit de la seva fama és fitxat per J.J.Giltinan, un empresari esportiu a qui s'atribueix l'organització en masses del rugbi league, i per tant, haver-hi introduït la discrepància en l'harmonia de la pràctica del rugbi. La firma del contracte és considerat pels historiadors com el moment clau de la història d'aquesta modalitat; en contrapart, el descontentament que va generar dins el sector del rugby union va fer que els seus registres jugant amb la selecció absoluta de Rugby union d'Austràlia (i d'altres clubs locals) varen ser revocats i no van ser restituïts fins a 100 anys després.\n",
      "\n",
      "Invitat de luxe de la selecció neozelandesa en una gira pel nord d'Anglaterra va ser rebut amb tots els honors pels discrepants britànics. Entre les seves actuacions hi deixaria un rècord Guinness i va refusar ofertes del Manchester United i el Tottenham Hotspurs per jugar \"football association\" (del qual va declarar que era \"decadent\"). Sigui com sigui, el que és un fet és que la seva popularitat i el seu polèmic contracte varen ser aprofitats pels promotors de la modalitat dissident com una eina de propaganda per difondre aquesta modalitat i poder rivalitzar amb el rugby union.\n",
      "\n",
      "Avui en dia, un fet poc entès fora d'Austràlia és la cohabitació de totes dues modalitats dins el mateix espai; el cas és que des dels seus inicis ambdues han mantingut una relació \"estreta i divergent a la vegada\" sent tradicionalment el rugbi league l'esport que ha tingut més seguidors en aquell país.\n",
      "\n",
      "Un altre fet que va contribuir-ne a la seva popularitat va ocórrer de manera espontània en 1908 durant un partit (amb un estadi ple a vessar) quan un jugador de nom Ed \"Son\" Fry, en la disputa de la pilota li esquinçaren els pantalons i va creuar la línia de marca literalment \"amb el cul a l'aire\", fet que forma part de la cultura rugbística d'aquell país.\n",
      "\n",
      "L'any 1932 França va ser expulsada del Torneig de les cinc nacions acusada de professionalisme en el seu campionat domèstic, també de jugar de manera \"excessivament agressiva\" i una mala organització en dates quan la selecció françesa jugava partits internacionals.\n",
      "\n",
      "El 24 de març de 1934, a Hannover, la Fédération Internationale de Rugby Amateur (FIRA) es formava a instàncies dels francesos. Estava dissenyada per organitzar el Rugby Union fora de l'autoritat de la International Rugby Football Board (IRFB). Incloïa i reconeixia els equips nacionals d'Alemanya i França, naturalment, però també; Bèlgica, Catalunya, Espanya, Holanda, Itàlia, Portugal i Romania. Els estatuts i les regulacions segellaven l'operació, i la declaració oficial de naixement era enregistrada al Butlletí Oficial de la República Francesa de 10 de juny de 1934. Això faria que Catalunya jugués els seus primers partits reconeguda com a selecció internacionalment.\n",
      "\n",
      "A casa nostra, la pràctica del Rugby Union va ser introduïda en 1921 per Baldiri Aleu i Torres, però amb l'arribada al poder de la dictadura franquista va patir com tota la resta d'entitats catalanes la repressió feixista. La Federació Catalana de Rugbi (malgrat ser fundadora de la FIRA) va ser desposseïda de tots els seus drets i va veure's obligada a adoptar un caràcter unificador espanyolista (encara que la pràctica de l'esport a la resta d'Espanya era inexistent). Els campionats que s'organitzaven durant l'època de post-guerra, per exemple, estaven conformats íntegrament per equips catalans.\n",
      "\n",
      "Fins a mitjans de segle xx la popularitat del rugbi no va parar de créixer però amb l'esclat de la Segona Guerra Mundial, la seva extensió es va veure afectada: mentre en països aliats d'origen britànic la seva popularitat es va mantenir, en d'altres com l'Alemanya nazi va desaparèixer del tot, o en la França ocupada va ser intervinguda i va patir regulacions severes.\n",
      "\n",
      "A França, que havia sigut expulsada del Torneig de les cinc nacions acusada de professionalisme, el Ruby league va guanyar popularitat, però després va ser prohibit pel govern col·laboracionista durant l'ocupació nazi i tots els seus béns varen ser lliurats a la Federació Francesa de Rugby (Union). No seria fins a mitjans dels anys vuitanta que recuperaria el seu nom (durant mig segle, el nom oficial que li havien assignat les autoritats esportives era \"jeu a XIII\").\n",
      "\n",
      "El rugbi va arribar a les illes del Pacífic, sobretot a Australàsia, majoritàriament a través d'estudiants oriünds de les colònies britàniques que havien tornat d'estudiar en les universitats angleses i ràpidament va arrelar entre la població com un divertiment d'esbarjo. El 1864 es va jugar el primer partit de rugbi a la Universitat de Sidney; 10 anys després s'organitza la primera competició de caràcter metropolità sota les regles de la RFU. El 1883 es constitueix la primera entitat que regula aquest nou esport, la Queensland Rugby Union.\n",
      "\n",
      "Amb motiu dels Jocs Olímpics de Londres de 1908 una selecció d'Austràlia és invitada a participar-hi i aconsegueix la medalla d'or guanyant tots els seus partits. a partir de llavors la premsa els començaria a anomenar els \"Wallabies\".\n",
      "\n",
      "Des de la seva arribada i amb la pràctica de les diferents modalitats es feia un mica difícil l'administració del rugbi arreu de les províncies australianes. el 1947 s'unifiquen totes les federacions regionals i es forma l'Australian Rugby Union.\n",
      "\n",
      "Paral·lelament, el 14 de maig de 1870 Charles John Monro, el fill d'un polític neozelandès que també havia estudiat a Londres organitza el primer partit de rugbi seguint les regles de la RFU al col·legi de Nelson en la ciutat del mateix nom.\n",
      "\n",
      "El 1872 durant l'era de les anomenades \"guerres de Nova Zelanda\" per la colonització del territori i malgrat els prejudicis de l'època, a Wanganui (la ciutat epicentre del conflicte) ja es jugava el primer partit de dos equips: l'un format per europeus i l'altre per maoris.\n",
      "\n",
      "En 1875 s'organitza el primer partit entre províncies a Dunedin entre els clubs d'Auckland i Dunedin.\n",
      "\n",
      "Cap al 1879 ja s'havien organitzat dues \"union\" (Canterbury i Wellington) i el 1882 un combinat provenint de Nova Gal·les del Sud, s'afronta a les dues seleccions amb més representació d'aquestes \"union\". Dos anys més tard seria un combinat unificat provinent de les illes del sud (la primera selecció \"de facto\" de Nova Zelanda) que visitaria Nova Gal·les del Sud; aquella selecció va guanyar tots els seus partits i seria recordada pels seus càntics de guerra maoris abans de començar cada partit.\n",
      "\n",
      "Des de llavors els enfrontaments entre totes dues nacions han tingut lloc cada any, amb el premi des de 1931 de la Copa Bledisloe lliurada al guanyador.\n",
      "\n",
      "El 1888 un combinat de les illes britàniques (allò que avui en dia es coneixen com a \"British and Irish Lions\") visita per primera vegada les colònies del pacífic per competir amb les diferents seleccions locals, aquell equip va guanyar tots els seus partits tret d'un a Auckland.\n",
      "\n",
      "En 1892 s'unifiquen les unions de totes les províncies neozelandeses i neix la New Zealand Rugby Football Union (NZRFU).\n",
      "\n",
      "En 1905 el primer equip neozelandès, anomenats \"els originals\", empren la seva primera gran gira cap a les Illes Britàniques, França i els Estats Units. Aquell equip agradava la premsa executant el Haka (dansa de guerra maori) abans de cada partit. Van guanyar tots els seus partits, tret d'una polèmica derrota disputada contra la selecció del País de Gal·les a l'estadi Cardiff Arms Park (en una jugada de picaresca, els defensors gal·lesos arrossegant rere la línia de marca a un jugador neozelandès que havia marcat un assaig abans que l'àrbitre arribés a confirmar-ho; l'assaig hauria donat un empat als visitants); aquell partit ha entrat a formar part de la cultura i rivalitat de les dues aficions. L'equip neozelandès es faria famós per ser format per jugadors tant d'origen britànic com aborígens (maoris), per la seva vestimenta de color negre i la insígnia de la falguera al pit de la samarreta. Segons la versió oficial, un diari anglès explicava en el seu article després que guanyessin a Hartlepool 0-63 que aquell equip jugava d'una manera molt física i versàtil, com si \"tots fossin arriers\" (en anglès \"all backs\"). a partir de llavors aquell error tipogràfic barrejat amb el color de la seva indumentària els donaria el malnom més conegut de la història dels esports: els \"All Blacks\".\n",
      "\n",
      "Al sud del continent africà el rugbi va començar la seva practica a la colònia de Cape, actual Sud-àfrica. Les tropes britàniques hi jugarien un rol capital en la seva extensió en el seu desplegament per Natal, Kimberley, Pretòria i Johannesburg.\n",
      "\n",
      "El 1889 neix la South African Rugby Board arreplegant en el seu si a les províncies de Western Cape, Griqualand West, Eastern Province i Transvaal (paradoxalment el dibuix d'aquesta entitat reflecteix amb molta precisió el mapa de la Sud-àfrica que encara no existia)\n",
      "\n",
      "Igual que a la resta de les colònies un combinat britànic de rugbi els hi va visitar el 1891 per primera vegada portant entre els equipatges d'indumentària una copa daurada donada per Sir Donald Currie, propietari de la línia marítima que els hi duria a la colònia africana. Les instruccions eren clares: lliurar el trofeu a l'equip que faci el millor partit; el Griqualand West seria el primer d'emportar-se la Currie Cup.\n",
      "\n",
      "Set anys després, el 1898, la Gran Bretanya entraria en guerra amb els Bòers pel control de les colònies sud-africanes. Aquells fets portarien a un augment del nombre de tropes i per consegüent jugadors potencials de rugbi. També és ben sabut que la pràctica d'aquest esport es va popularitzar entre els presoners bòers dins dels camps de concentració. Així doncs, el rugbi era practicat per dues comunitats que estaven literalment en guerra.\n",
      "\n",
      "Un incident que va marcar la història de llavors va ser una treva (l'única que es coneix d'aquest conflicte) perquè la població gaudís d'un partit entre les seleccions d'Anglaterra i Sud-àfrica; sembla que la treva va ser trencada per un grup de radicals bòers que van assaltar una caserna matant un bon nombre de soldats.\n",
      "\n",
      "D'una altra banda, la pràctica del rugbi s'havia també popularitzat entre la població negra local, però d'acord amb les polítiques discriminatòries de l'època els clubs i jugadors de colors van ser també diferenciats sota la denominació de South Africa Coloured Rugby Board.\n",
      "\n",
      "Tot allò va generar molts inconvenients pels equips visitants, principalment Nova Zelanda, que hi incloïen jugadors no-europeus com George Napia, un arrier d'origen maori (considerat com la primera gran estrella dels \"All Blacks\") en la seva gira de 1928.\n",
      "\n",
      "En 1960 després de la massacre de Sharpelville, a prop de Johannesburg, les veus que demanaven l'embargament en contra de les institucions Sud-Africanes hi incloïen també els intercanvis esportius, i per tant el rugbi. Com a conseqüència els \"Springboks\", malnom amb què es coneix la selecció de Sud-àfrica, es va veure sistemàticament aïllada dels \"test match\", que era la manera no-oficial de comptabilitzar els partits entre seleccions. Aquesta situació portaria a molts jugadors sud-africans a jugar amb altres seleccions que no eren la seva.\n",
      "\n",
      "El 1976 després de les Protestes de Soweto, 28 països enfurismats s'alien amb motiu de la visita dels All Blacks a Sud-àfrica per boicotejar els Jocs Olímpics de Montreal del mateix any. La Commonwealth britanica (que compren tots els països que tenen relacions comercials amb la Gran Bretanya) signa els acords de Gleneagles, que prohibeixen tota mena d'intercanvi esportiu amb Sud-àfrica, la qual quedarà suspesa de tota competició internacional, incloent-hi les dues primeres edicions del mundial de rugbi fins al final de l'apartheid el 1992.\n",
      "\n",
      "A l'Argentina el rugbi va ser introduït pels anglesos l'any 1886 i el primer partit oficial es va jugar en 1873. Des de llavors la seva practica queda arrelada sobretot a la capital, que concentra la gran majoria dels seus clubs.\n",
      "\n",
      "Jugat en els seus inicis per les comunitats estrangeres, va anar afegint-hi de mica en mica jugadors nadius, especialment de classes benestants i \"només després d'haver-se provat la seva lleialtat als valors i preceptes\".\n",
      "\n",
      "El 10 d'abril de 1889 sis clubs de Buenos Aires s'uneixen per formar la River Plate Rugby Championship, antecessora de la Unión Argentina de Rugby, formada en gran manera per residents britànics.\n",
      "\n",
      "En 1904 entra a la federació el primer club \"criollo\" (format íntegrament per jugadors argentins) de nom Centro de Estudiantes de Ingeniería, provenint de la Universitat de Buenos Aires. Encara que la seva vida va ser més aviat curta (només van durar quatre anys) va seure les bases per començar difondre la pràctica del rugbi.\n",
      "\n",
      "Un jugador emblemàtic, i fundador de la primera revista especialitzada, va ser el lluitador revolucionari Ernesto \"Che\" Guevara, que signava les seves notes com a \"chang chow\" (de \"chancho\") que era el seu malnom entre la colla.\n",
      "\n",
      "A principis de segle el rugbi havia tingut el seu lloc en una competició de caràcter global. Als Jocs Olímpics de París de 1900, França s'emporta la primera medalla d'or, Austràlia faria el mateix a Londres 1908 i els Estats Units dues vegades: a Anvers 1920 i a París 1924. Després, el rugbi seria revocat com a esport olímpic. I molt anys després, amb el boicot de 1976 quedava enterrada la possibilitat d'un retorn a l'escenari olímpic.\n",
      "\n",
      "Durant bona part del segle xx les competicions internacionals de Rugby Union estaven limitades a les trobades anuals entre seleccions de països i al Torneig de les cinc nacions. Pels volts dels anys 50 ja es considerava la idea d'un torneig mundial amb les principals nacions competint per un trofeu únic de caràcter global, però aquesta trobava una forta oposició per part de les federacions europees dividides sobre el concepte i el seu finançament.\n",
      "\n",
      "A mitjans dels anys vuitanta torna a ressorgir la idea d'un torneig a escala global aquest cop amb Austràlia, Nova Zelanda i França com principals promotors. Finalment el 1985, amb la polèmica del vot favorable de l'encara vetada Sud-àfrica, s'aprova per una curta diferència l'organització d'un Mundial cada quatre anys i la copa Webb Ellis com a trofeu pel guanyador. En la votació van ser clau els vots d'un delegat anglès i un altre gal·lès que canviarien el seu vot a l'últim moment.\n",
      "\n",
      "El primer Mundial va ser organitzat de manera conjunta per Austràlia i Nova Zelanda entre maig i juny de 1987. En ser un esdeveniment sens precedents, un nombre d'incidències va generar molts dubtes i s'arriscava la credibilitat del nou torneig: en primer lloc la premsa recordava que s'havia aprovat amb el vot de la Sud-àfrica de l'apartheid, tampoc no hi va haver procés de qualificació (a banda de les principals nacions rugbístiques, les considerades secundàries van ser-hi per invitació, un sistema que va deixar fora l'equip de Samoa Occidental, que tenia millors registres que moltes de les convidades), l'URSS va declinar a últim moment la seva participació per raons polítiques, durant el torneig va quedar palesa la diferència entre les principals seleccions i la resta (molts partits de la fase preliminar van acabar amb un resultat ampli) i per acabar-ho d'adobar les connexions per satèl·lit d'aquella zona no estaven gens desenvolupades (això va provocar que els aficionats europeus no van poder veure cap partit en directe).\n",
      "\n",
      "La final va tenir lloc a l'estadi Eden Park d'Auckland enfrontant les seleccions de Nova Zelanda i França amb un resultat de 29 a 9 pels locals.\n",
      "\n",
      "Malgrat tot això la primera edició dels mundials va ser un èxit comercial i amb tot el que es pugui dir ara va donar l'embranzida necessària per fer del rugbi XV un esport de primera classe a nivell global.\n",
      "\n",
      "El segon Mundial es va jugar a Europa amb l'organització conjunta d'Anglaterra, Escòcia, País de Gal·les, Irlanda i França. Aquell mundial deixaria sorpreses com l'eliminació d'hora de la selecció gal·lesa i l'avançament a quarts de final de Samoa Occidental i del Canadà. La final va tenir lloc a l'estadi de Twickenham, a Londres, amb una victòria de la selecció d'Austràlia sobre Anglaterra per 12 a 6.\n",
      "\n",
      "Després de dos mundials exitosos i la pau entre les diferents entitats (el 1990 la FIRA reconeix la IRFB, anomenada IRB des del 1998 després de suprimir-ne la paraula football, com l'única entitat que governa el rugbi XV) s'obre una etapa on ja és reconeguda la professionalitat d'aquest esport.\n",
      "\n",
      "En 1992 els canvis polítics a Sud-àfrica acaben amb l'apartheid, el sistema que durant més de mig segle va imposar la discriminació racial, i el país es veu recompensat amb l'organització del tercer Mundial, l'any 1995. Aquell mundial va ajudar a guarir les velles ferides de la societat sud-africana i la final jugada a l'estadi Ellis Park a Johannesburg seria recordada per tota la població amb Nelson Mandela (antic presoner polític i emblema de la lluita per les igualtats racials) lliurant la copa al capità dels amfitrions François Pienaar, en una imatge que recordaran per sempre més tots els sud-africans. La final es va decidir en un partit emocionant, amb drop en temps afegit que donaria a Sud-àfrica la seva primera copa Webb Ellis derrotant els All Blacks per 15 a 12. Aquell torneig es recordaria també pel sorgiment de la primera superestrella global del rugbi modern: Jonah Lomu.\n",
      "\n",
      "Malgrat l'emotivitat, la rivalitat esportiva i la polèmica no hi van quedar excloses; passat un temps després, la delegació neozelandesa va acusar als organitzadors d'haver intoxicat als seus jugadors abans del partit final. En una roda de premsa seguida pels mitjans de comunicació de diversos països, es va esmentar una suposada cambrera anomenada Suzie que els hauria canviat les ampolles d'aigua la nit abans de la final. Encara avui dia, quan els All Blacks perden algun partit contra els seus rivals Springboks, la premsa sud-africana recorda (irònicament) que \"potser aquesta vegada Suzie s'ha passat una mica amb la dosi\".\n",
      "\n",
      "En aquest context, amb els mundials ja consolidats, els principals campionats per països en Europa jugant amb ple rendiment (compaginant un model semi-professional) i Sud-àfrica readmesa dins les competicions internacionals veurien la llum dues entitats que donarien l'empenta definitiva per llançar el rugbi XV com esport professional.\n",
      "\n",
      "A Europa l'any 1995 neix l'ERC (European Rugby Cup), entitat organitzadora dels dos principals tornejos a nivell de clubs: la Copa d'Europa (que reuneix els principals clubs de les principals competicions d'Europa) i la Challenge Cup (que a més dels clubs secundaris de les principals competicions n'hi inclou clubs de competicions de països emergent com Espanya o Romania).\n",
      "\n",
      "Un any després a l'hemisferi sud neix la SANZAR (South Africa, New Zealand & Australia Rugby) per organitzar les dues principals competicions de rugbi XV a l'hemisferi sud, la de clubs (el Super 12) i la de seleccions (el Torneig de les Tres Nacions).\n",
      "\n",
      "Aquests dos campionats consolidarien Nova Zelanda com la primera potència mundial de rugbi (ja que ha guanyat 10 dels 16 primers Tornejos de les Tres Nacions), i la franquícia dels Canterbury Crusaders com la més condecorada (en 15 temporades han arribat a 10 finals i n'han guanyat 7). Un altre fet que ha contribuït a la seva gran popularitat és l'execució abans de cada partit de la haka, una dansa de guerra maori estretament lligada a la cultura del rugbi neozelandès i del país mateix. En una referència, d'altres nacions rugbistes del Pacífic també executen danses tribals pertanyent abans de començar els seus partits.\n",
      "\n",
      "D'aquesta manera, i amb l'arribada de les noves tecnologies, el rugbi XV (anomenat en els països angloparlants Rugby Union) es posicionà com el principal esport del Pacífic sud, abastant, a més de les tres principals nacions rugbístiques, països amb una cultura i tradició força arrelada en aquest esport. La Pacific Islands Rugby Alliance que comprèn les tres principals illes rugbistes del pacífic sud (Fiji, Samoa i Tonga) aporten als campionats de tot el món un bon grapat de jugadors de bona qualitat i donen amb el seu mestissatge un toc de referència dins del món oval.\n",
      "\n",
      "En 1999 es torna a jugar a Europa el quart Mundial (el primer de l'era professional), principalment al País de Gal·les, encara que per la seva dimensió la majoria de partits van ser jugar en seus alternatives a Anglaterra, França i Irlanda.\n",
      "\n",
      "El partit inicial i la final es van jugar al Millennium Stadium (construït per a aquest esdeveniment). La quantitat de països participants es va augmentar de 16 a 20.\n",
      "\n",
      "Austràlia s'alçaria amb la seva segona copa Webb Ellis, derrotant França en la final per 35 a 12 i es convertiria en la primera nació a guanyar dos mundials.\n",
      "\n",
      "L'any 2000 Itàlia és admesa dins el torneig anual de màxima competició a Europa que passa a anomenar-se Torneig de les Sis Nacions i al seu guanyador Campió d'Europa. A més del trofeu, en cada edició també són lliurats d'altres condecoracions:\n",
      "\n",
      "També, en cada partit l'equip guanyador rep un premi, normalment un trofeu que celebra de manera històrica (algunes més antigues i d'altres més contemporanea) la trobada entre les dues seleccions:\n",
      "\n",
      "El 2003 el cinquè Mundial té com a seu Austràlia, que n'era la vigent campiona i Anglaterra com clara favorita després d'haver derrotat les tres principals nacions de l'hemisferi sud en els seus respectius enfrontaments i haver fet el Grand Slam al Torneig de les Sis Nacions el mateix any.\n",
      "\n",
      "La final es jugaria al Telstra Stadium on Anglaterra es convertiria en la primera nació de l'hemisferi nord a guanyar la copa Webb Ellis derrotant a l'equip amfitrió 17 a 20 amb un drop en temps afegit per la seva estrella Jonny Wilkinson (famós dins del món del rugbi per la seva postura en xutar els cops de càstig que molts altres també han adoptat).\n",
      "\n",
      "El 2007 el sisè Mundial va tenir lloc a França amb Cardiff i Edimburg com a seus alternatives. El torneig va començar amb mal peu per als organitzadors, que van perdre en el debut contra l'Argentina per 12 a 17, fet que es repetiria en la disputa pel tercer lloc amb una nova victòria dels Pumas (malnom amb el qual es coneix a la selecció sud-americana) sobre els amfitrions 34 a 10. Aquesta projecció va llançar l'equip sud-americà a ser considerat com la nació més emergent de l'últim quart de segle.\n",
      "\n",
      "Aquesta va ser una edició que va trencar tots els records d'audiència, fet que va apujar el cost dels drets televisius a l'alçada dels grans esdeveniments mundials.\n",
      "\n",
      "La final es va jugar a l'Stade de France i la va guanyar per segon cop Sud-àfrica contra Anglaterra per 6 a 15.\n",
      "\n",
      "El 2011 el setè Mundial es va jugar a Nova Zelanda amb país sencer implicat en l'organització i amb una pressió mediàtica sobre l'equip local, els All Blacks considerats el millor del món, per guanyar la seu segon mundial. Amb unes audiències records, fins i tot en països on no hi havia tradició per la pràctica d'aquest esport, Nova Zelanda i la seva estrella Richie McCaw s'alcen amb la segona copa Webb Ellis derrotant França en la final per un ajustat 7 a 8 i consolidant a l'hemisferi sud com la potència regional del món oval en haver guanyat les seves tres principals nacions (Nova Zelanda amb 2, Austràlia amb 2 i Sud-àfrica amb 2) 6 dels 7 mundials jugats fins ara.\n",
      "\n",
      "Les bones prestacions que la selecció de l'Argentina havia fet en aquests dos darrers mundials i la projecció dels seus jugadors li han valgut per ser admesa el 2011 dins el torneig anual de les nacions del sud, que passarà a anomenar-se a partir d'ara The Rugby Championship.\n",
      "\n",
      "L'any 2015 es va disputar el vuitè Mundial, a Anglaterra. En el partit inaugural, el 18 de setembre, els amfitrions van derrotar la selecció de Fiji per 35 a 11 al Twickenham Stadium de Londres.\n",
      "\n",
      "La final va ser entre dues seleccions de l'hemisferi sud, Nova Zelanda i Austràlia, també al Twickenham Stadium de Londres. Els All Blacks (Nova Zelanda) van superar els Wallabies (Austràlia) per 34 a 17.\n",
      "\n",
      "El novè Mundial de rugbi es va disputar el 2019 al Japó.\n",
      "\n",
      "El rugbi és un esport d'intens contacte físic. Tanmateix les regles no permeten l'ús de cap protecció rígida, ja que aquestes podrien causar lesions als jugadors. Només es permeten proteccions encoixinades de fins a 5 mm de gruix en algunes zones del cos; aquestes proteccions han de ser aprovades per l'International Rugby Board.[4] Normalment s'empren un protector bucal de material siliconat; una samarreta elàstica (usada per sota de la samarreta de l'equip) amb proteccions per a les espatlles i coll, i a vegades també per estèrnum, costelles, ronyons, columna vertebral i bíceps; un casquet tou, destinat principalment a reduir l'efecte dels cops a les orelles, i unes falques curtes de contenció. Es permet l'ús d'altres proteccions no rígides i de gruix mínim per prevenir lesions, com genolleres o turmelleres.\n",
      "\n",
      "El rugbi és un esport en el qual tradicionalment s'ha donat gran importància als valors morals. Des que s'nicien al joc, als jugadors de rugbi se'ls ensenyen una sèrie de qualitats positives, com són la companyonia, l'honestedat, el respecte, la disciplina, el sacrifici i l'altruisme. A diferència d'altres esports d'equip, en el rugbi els jugadors no solen discutir als àrbitres les seves decisions, ni intenten enganyar-los per treure partit de les seves decisions. Els punts són conseqüència necessària de l'esforç col·lectiu, per la qual cosa no es produeixen celebracions individuals després de la consecució d'un assaig o una transformació, a diferència d'altres esports en què es felicita el jugador que ha marcat o el que ha fet el passi decisiu. Al final del partit els jugadors d'ambdós equips confraternitzen junts en l'anomenat «tercer temps», en què beuen i mengen junts per invitació de l'equip local.\n",
      "\n",
      "La versió d'aquest esport més coneguda és la del rugbi jugat per equips de quinze jugadors, encara que no és l'única. És el que es coneix en el món anglosaxó com rugbi union, en referència a la federació (Union) de clubs que es regeixen per unes mateixes normes i que, tradicionalment, havien estat universitaris o aficionats. Un partit dura 80 minuts, dividit en dues parts de 40 minuts.\n",
      "\n",
      "Segueix el model proposat per William Webb Ellis. Per cada equip juguen un total de 15 jugadors dividits en dos grups: forwards o davanters i backs o tres quarts. Les denominacions dels llocs, igual que la resta de la terminologia de joc, varia considerablement entre Espanya i els altres països hispanoparlants.\n",
      "\n",
      "Els jugadors de l'1 al 8 (forwards) formen el pack, la \"davantera\" o \"paquet\" per realitzar el scrum (la Melé):\n",
      "\n",
      "Primera línia: Els jugadors que intenten portar la pilota al seu costat i que estan en el xoc; la funció en els scrums és mantenir el scrum estable, els pilars (números 1 i 3) solen ser els més forts i pesants d'entre tots els jugadors\n",
      "\n",
      "Segona línia: Generalment els jugadors més alts de l'equip i que es fan càrrec d'empènyer en els scrums, també encarregats de guanyar la pilota en els treguis des del lateral (touche,line-out)\n",
      "\n",
      "Tercera línia: Els jugadors que mantenen la formació equilibrada perquè no és desarmament[Cal aclariment] cometent una falta.\n",
      "\n",
      "Línia de tres quarts o \"backs\": En els diferents països, aquests jugadors reben diferents noms d'acord amb la seva pròpia tradició. Així, a Austràlia i Nova Zelanda l'obertura (núm. 10) i el primer centre (núm. 12) s'anomenen first i second five eights, respectivament.\n",
      "\n",
      "Des del segle xix a Gran Bretanya hi ha una variant on les seves regles difereixen en part i en la que juguen equips de 13 jugadors; aquests van ser professionals pràcticament des de la implantació d'aquesta modalitat. A aquest joc se'l va anomenar rugby league,[5] en referència al campionat de lliga en què s'enfrontaven els clubs que remuneraven els seus jugadors. De Gran Bretanya va passar a alguns països de l'esfera cultural i d'influència britànica (Austràlia, Nova Zelanda), així com a França.\n",
      "\n",
      "Rugby League Football o rugbi a 13 és un esport d'equip jugat per dos equips de 13 jugadors, amb 4 al banc (reserves). L'objectiu fonamental, com en el rugbi a 15, consisteix a dipositar amb les mans una pilota ovalada a terra sobre o més enllà de la línia d'assaig. Això es denomina assaig i en el Rugby League té un valor de 4 punts. Després de l'assaig, l'equip anotador té el dret de xutar la pilota cap a la porteria adversària, i si aconsegueix passar (transformació) entre els dos pals verticals i per damunt del travesser, anota 2 punts més. També poden aconseguir punts tirant a pals després d'un penal, que consisteix a tirar a pals durant el joc obert deixant prèviament botar la pilota a terra. En ambdós casos el seu valor és d'1 punt. L'equip adversari intenta impedir a l'equip d'atac realitzar aquest gol obstaculitzant el contrincant que ha de jugar la pilota.\n",
      "\n",
      "En àrees d'Anglaterra on el rugbi a 13 predomina - Yorkshire i el Nord-oest - l'ús del terme rugbi es refereix, generalment, al rugbi a 13, a diferència de la major part del país, on aquest terme es refereix al Rugby Union o Rugbi a 15. En àrees d'Austràlia i Nova Zelanda on predomina el rugbi a 13, el joc és comunament conegut com a League o futbol. A França, el joc és anomenat el Rugby à Treize, rugbi a tretze en francès. A l'Argentina (únic país de parla hispana a practicar-lo) el nom adoptat va ser Rugbi 13.\n",
      "\n",
      "El rugbi a 13 va ser jugat al principi per una facció que es va escindir de la Federació Anglesa de Rugbi (RFU), coneguda com la Unió del Nord. Quan es van produir també escissions similars a les federacions de rugbi afiliades a la RFU a Austràlia i Nova Zelanda, el 1907 i 1908, formaren associacions conegudes com a Rugbi Leagues i usaren les regles de la Unió del Nord modificades. La Unió del Nord més tard canvià el seu nom a Rugby Football League. Així, el joc es va fer conegut com la Rugby League.\n",
      "\n",
      "Els jugadors del 8 al 13 (forwards) formen el pack, la \"davantera\" per realitzar el scrum (la Melé):\n",
      "\n",
      "Primera línia: Els jugadors que intenten portar la pilota al seu costat i que estan en el xoc; la funció dels scrums és donar més espai als \"back\" quan surt la pilota. Els pilars (números 8 i 10) solen ser els més forts d'entre tots els jugadors.\n",
      "\n",
      "Segona línia\n",
      "\n",
      "Línia de tres quarts o \"backs\": En els diferents països, aquests jugadors reben diferents noms d'acord amb la seva pròpia tradició. Així, a Austràlia i Nova Zelanda el mitja melé (núm. 7) i el stand-off (núm. 6) s'anomenen half-back i five-eighth, respectivament.\n",
      "\n",
      "El format de rugbi de 7 es juga normalment en tornejos curts (d'un dia o un cap de setmana). S'utilitza el mateix camp que en la modalitat de 15 homes, però amb només 7 jugadors per equip. El partit es divideix en dos temps que duren entre set i deu minuts. Actualment existeix un Campionat del Món de Rugbi a 7 i un circuit mundial.\n",
      "\n",
      "L'any 2009 el Comitè Olímpic Internacional va decidir incloure aquest esport al programa dels Jocs Olímpics d'Estiu de 2016.[6]\n",
      "\n",
      "En general, i a diferència d'altres esports, les seleccions nacionals de rugbi tenen uns sobrenoms afectuosos pels quals són coneguts els seus equips. Els dels deu primers equips segons la classificació de l'IRB a finals d'octubre de 2007 són:\n",
      "\n",
      "Altres equips destacats:\n",
      "\n",
      "Abans d'una llarga aturada, l'últim torneig olímpic en què va participar el rugbi va ser a París, el 1924, amb la participació de França, EUA i Romania. Allà els nord-americans buscaven repetir l'or aconseguit a Anvers quatre anys abans. El 4 de maig, França va vèncer els petits romanesos, 59-3, i una setmana després, l'11 de maig, Estats Units golejà també a Romania 39-0. A la final del dia 17 de maig, els nord-americans es van endur l'or en superar per 17-3 els incrèduls francesos. Durant el torneig l'equip nord-americà va viure nombroses dificultats, algunes imposades com la no cessió de cap camp per a entrenar-se, i per això li va caldre anar a un parc públic a preparar-se, les constants acusacions de professionalisme, la negativa francesa a filmar el partit entre EUA i Romania, i una altra imprevista com el robatori de les seves pertinences durant un dia d'entrenament...\n",
      "\n",
      "Algunes notes:\n",
      "\n",
      "El rugbi, en la seva modalitat de rugbi a 7, va tornar a formar part del conjunt de competicions olímpiques als Jocs Olímpics de Rio 2016.[7]\n",
      "\n",
      "Viccionari\n",
      "\n"
     ]
    }
   ],
   "source": [
    "paragraphs = []\n",
    "rugby = elements.find_all(\"p\")\n",
    "print(\"\\n==============================\")\n",
    "print(\"Wikipedia texts about Rugby\\n==============================\\n\")\n",
    "for x in rugby:\n",
    "    paragraphs.append(x.text.strip())\n",
    "    print(x.text.strip())\n",
    "    print()"
   ]
  },
  {
   "cell_type": "code",
   "execution_count": 330,
   "id": "7f080f72",
   "metadata": {},
   "outputs": [],
   "source": [
    "# saving scraped text to csv\n",
    "df= pd.DataFrame(ideas, columns=[[\"quote\", \"author\"]])\n",
    "df.to_csv(title1 + \".csv\", header=True)\n",
    "df2= pd.DataFrame(paragraphs, columns=[\"wikipedia paraghaps\"])\n",
    "df2.to_csv(title2 + \".csv\", header=True)"
   ]
  },
  {
   "cell_type": "markdown",
   "id": "ee0844fc",
   "metadata": {},
   "source": [
    "#### Selenium"
   ]
  },
  {
   "cell_type": "code",
   "execution_count": 338,
   "id": "132b3ed7",
   "metadata": {},
   "outputs": [],
   "source": [
    "# pip install selenium\n",
    "# pip install webdriver-manager\n",
    "from selenium import webdriver\n",
    "from selenium.webdriver.common.keys import Keys\n",
    "from selenium.webdriver.common.by import By\n",
    "from selenium.webdriver.chrome.service import Service\n",
    "from webdriver_manager.chrome import ChromeDriverManager\n",
    "\n",
    "service=Service(executable_path = ChromeDriverManager().install())\n",
    "#  the instance of Chrome WebDriver is created.\n",
    "driver = webdriver.Chrome(service=service)\n",
    "driver.implicitly_wait(0.5)"
   ]
  },
  {
   "cell_type": "code",
   "execution_count": 332,
   "id": "9abc5f81",
   "metadata": {},
   "outputs": [],
   "source": [
    "#URL 1\n",
    "driver.get(URL)\n",
    "title = driver.title"
   ]
  },
  {
   "cell_type": "code",
   "execution_count": 333,
   "id": "e1ff0bd9",
   "metadata": {},
   "outputs": [
    {
     "name": "stdout",
     "output_type": "stream",
     "text": [
      "file upload success\n"
     ]
    }
   ],
   "source": [
    "if(driver.page_source.find(\"File Uploaded!\")):\n",
    "    print(\"file upload success\")\n",
    "    driver.save_screenshot(title +'.png')\n",
    "else:\n",
    "    print(\"file upload not successful\")\n",
    "    driver.quit()"
   ]
  },
  {
   "cell_type": "code",
   "execution_count": 334,
   "id": "f717b745",
   "metadata": {},
   "outputs": [
    {
     "name": "stdout",
     "output_type": "stream",
     "text": [
      "“The world as we have created it is a process of our thinking. It cannot be changed without changing our thinking.”\n",
      "by Albert Einstein (about)\n",
      "Tags: change deep-thoughts thinking world\n",
      "“It is our choices, Harry, that show what we truly are, far more than our abilities.”\n",
      "by J.K. Rowling (about)\n",
      "Tags: abilities choices\n",
      "“There are only two ways to live your life. One is as though nothing is a miracle. The other is as though everything is a miracle.”\n",
      "by Albert Einstein (about)\n",
      "Tags: inspirational life live miracle miracles\n",
      "“The person, be it gentleman or lady, who has not pleasure in a good novel, must be intolerably stupid.”\n",
      "by Jane Austen (about)\n",
      "Tags: aliteracy books classic humor\n",
      "“Imperfection is beauty, madness is genius and it's better to be absolutely ridiculous than absolutely boring.”\n",
      "by Marilyn Monroe (about)\n",
      "Tags: be-yourself inspirational\n",
      "“Try not to become a man of success. Rather become a man of value.”\n",
      "by Albert Einstein (about)\n",
      "Tags: adulthood success value\n",
      "“It is better to be hated for what you are than to be loved for what you are not.”\n",
      "by André Gide (about)\n",
      "Tags: life love\n",
      "“I have not failed. I've just found 10,000 ways that won't work.”\n",
      "by Thomas A. Edison (about)\n",
      "Tags: edison failure inspirational paraphrased\n",
      "“A woman is like a tea bag; you never know how strong it is until it's in hot water.”\n",
      "by Eleanor Roosevelt (about)\n",
      "Tags: misattributed-eleanor-roosevelt\n",
      "“A day without sunshine is like, you know, night.”\n",
      "by Steve Martin (about)\n",
      "Tags: humor obvious simile\n"
     ]
    }
   ],
   "source": [
    "quotesSelenium = driver.find_elements(by=By.CLASS_NAME, value='quote')\n",
    "\n",
    "texts = []\n",
    "for x in quotesSelenium:\n",
    "    text = x.text\n",
    "    texts.append(text)\n",
    "    print(text)"
   ]
  },
  {
   "cell_type": "code",
   "execution_count": 335,
   "id": "3aeca292",
   "metadata": {},
   "outputs": [],
   "source": [
    "driver.quit()"
   ]
  },
  {
   "cell_type": "code",
   "execution_count": 339,
   "id": "b07c973f",
   "metadata": {},
   "outputs": [
    {
     "name": "stdout",
     "output_type": "stream",
     "text": [
      "file upload success\n"
     ]
    }
   ],
   "source": [
    "#URL 2\n",
    "driver.get(URL2)\n",
    "title = driver.title\n",
    "if(driver.page_source.find(\"File Uploaded!\")):\n",
    "    print(\"file upload success\")\n",
    "    driver.save_screenshot(title + '.png')\n",
    "else:\n",
    "    print(\"file upload not successful\")\n",
    "    driver.quit()"
   ]
  },
  {
   "cell_type": "code",
   "execution_count": 340,
   "id": "d796e444",
   "metadata": {},
   "outputs": [
    {
     "name": "stdout",
     "output_type": "stream",
     "text": [
      "\n",
      "\n",
      "El rugbi és un esport d'equip de contacte, que en la seva modalitat a quinze consta de dos equips amb quinze jugadors cadascun; cada partit consta de dues parts de 40 minuts amb un descans de 10 en mig. Els jugadors lluiten per la possessió de la pilota per aconseguir plantar-la a terra a la zona de marca o d'assaig de l'equip rival, amb una o dues mans i sense deixar-la anar. Aquesta acció suma cinc punts (un assaig) i dona una oportunitat o intent per fer un xut directe entre pals (una transformació) i aconseguir-ne dos més. Igualment, l'equip atacant també pot marcar tres punts xutant la pilota entre els pals del rival, ja sigui amb un xut col·locat (cop de càstig) amb el joc detingut per una falta xiulada per l'àrbitre, o ja sigui amb un xut de sobrebot (un drop) amb el joc en acció en qualsevol moment.\n",
      "Des dels orígens mateixos del rugbi i del futbol, quan tots dos esports es van separar a mitjans del segle xix, ambdós es van presentar en oposició l'un de l'altre: força contra habilitat; joc net contra joc deslleial, etc.[1] Una antiga dita britànica diu que \"el futbol és un joc de cavallers jugat per pinxos i el rugbi és un joc de pinxos jugat per cavallers\" [2] i en el rugbi és característic el respecte per les regles, pels contraris i per l'àrbitre. Les decisions de l'àrbitre poques vegades són discutides pels jugadors. En els partits internacionals entre seleccions i en molts dels campionats europeus i de l'hemisferi sud es pot recórrer, a sol·licitud de l'àrbitre principal, a la repetició en vídeo de les jugades produïdes dins de la zona d'assaig en cas de dubte. La revisió d'aquestes jugades està a càrrec d'un quart àrbitre anomenat TMO (Television Match Official) encara que la decisió final sempre correspon a l'àrbitre principal. Una peculiaritat d'aquest esport és que, tradicionalment, es fomenta la sociabilitat entre companys d'equips i els oponents amb una cordial reunió després dels partits, anomenada tercer temps, que els aplega amb els àrbitres, els entrenadors i part del públic, per parlar sobre el partit. Aquest apel·latiu s'empra també en les seccions dels mitjans de comunicació que cobreixen esdeveniments d'aquest esport.\n",
      "Les principals característiques del rugbi són l'ús d'una pilota ovalada i la prohibició de passar la pilota endavant amb les mans. La forma de guanyar terreny és, per tant, avançar corrent amb la pilota a la mà o xutant-la.\n",
      "És un dels esports amb més jugadors entre els dos equips dins d'un mateix terreny de joc, 15 per equip, cosa que fa 30 en total presents alhora sobre el terreny de joc.\n",
      "L'esport del rugbi té com a característica principal l'honor i la valentia que els jugadors han de tenir, ja que és un esport en el qual hi ha contacte físic, de manera que si no hi hagués un ordre i un respecte previ i continuat no seria possible la pràctica d'aquest esport en condicions òptimes. Quan un partit finalitza, acaba la rivalitat i el caràcter competitiu, és a dir, tots els jugadors es reuneixen i parlen sobre el partit i les jugades més rellevants succeïdes.\n",
      "Per puntuar, cal fer un toc amb la pilota terra a la zona d'assaig de l'adversari, o fer passar la pilota a través dels seus pals, amb la finalitat d'aconseguir el màxim nombre de punts. Un assaig val 5 punts i la seva transformació 2 punts més. Els cops de càstig (o faltes) i els xuts a sobre bot (o \"drops\") valen 3 punts.\n",
      "Durant el segle xix es va desenvolupar en els col·legis privats d'Anglaterra un procés de definició de les regles del futbol de carnaval, àmpliament practicat, en les seves múltiples variants, pels estudiants. En aquest procés de reglamentació sorgirien en rugbi i el futbol moderns, així com altres esports emparentats. La tradició atribueix la invenció del rugbi a un estudiant de teologia. Segons el relat tradicional, en 1823, durant un partit de futbol, William Webb Ellis, \"amb fina desobediència de les regles del futbol\" va prendre la pilota amb les mans i la va dur fins a la meta contrària, obtenint un gol. La historicitat del fet ha estat reiteradament posada en dubte, però és acceptat oficialment per la International Rugby Board (IRB) com primer antecedent del rugbi modern, fins al punt que el trofeu que es lliura als guanyadors de la Copa del Món de Rugbi duu el seu nom. Tot i que els contrincants acordaven abans de cada trobada les regles en què se subjectarien, les discussions i baralles sobre les accions que estaven permeses o prohibides va esdevenir un inconvenient cada vegada més notable.\n",
      "Els estudiants dels col·legis anglesos van començar llavors a escriure les regles, amb la finalitat d'unificar-les. El primer a fer-lo va ser el col·legi de Rugby, al comtat de Warwickshire on el futbol s'havia practicat en una versió molt física (fins i tot podrien dir \"agressiva\"), utilitzant travetes i apilaments (\"hacking\" i \"maul\") i permetent prendre, passar i córrer amb la pilota en les mans. Les regles del col·legi de Rugby van ser escrites el 28 d'agost de 1845 per tres estudiants, William Delafield Arnold, W.W. Shirley, i Frederick Hutchins. Estaven integrades per 37 regles que constitueixen el primer antecedent reglat del rugbi modern. Allí figuren regles que després assenyalarien la identitat del joc, com els arcs en forma d'H, la conversió, l'ús de les mans per a dur la pilota, la regla del \"fora de joc\", l'\"avant\", la \"melé\", la \"marca\", etc.\n",
      "En aquest context, cada col·legi de cada ciutat jugaven seguint les seves pròpies regles. allò va generar que a mitjan segle xix hi hagués una multiplicitat de variants d'allò que aleshores es coneixia com a \"football\". A banda d'això, hi cohabitaven amb un munt de teories per part de la premsa a l'hora de determinar el seu començament i sobretot \"quins havien sigut els primers?\".\n",
      "Segons la versió anglesa, en 1843 es creà el club de football més antic del món, el Guy's Hospital Football Club, format per exalumnes de l'escola (encara que la seva fiabilitat es basa en proves indirectes). Paral·lelament, el Dublin University Footall Club, fundat el 1854, és també considerat el més antic de tots els clubs de \"football\", encara en activitat (aquest últim en té proves irrefutables)\n",
      "A les regles del col·legi de Rugby altres col·legis van oposar-ne d'altres que limitaven considerablement l'ús de les mans i el paper de la força física. Entre aquests col·legis es van destacar les regles escrites per Eton i Cambridge. Aquests col·legis sostenien que en les seves regles es promovia més l'habilitat, mentre que en les del col·legi de Rugby es promovia més la força.\n",
      "Cap al 1862, 13 clubs decideixen associar-se a Londres per formar un organisme que redactés les normes que regulessin la pràctica del joc. Paral·lelament, i al mateix temps, coexistien d'altres organismes representant d'altres clubs que també hi proposaven les seves regles. Amb tot aquell desgavell, la premsa també hi ficava cullerada: publicant les regles de diferents col·legis i especulant qui n'era el club degà.\n",
      "Finalment en 1863 va començar una gran reunió de delegats dels estudiants de diversos col·legis a Londres, en una taverna anomenada Freemasons (avui Freemansons Arms), amb la intenció de redactar un codi de regles que harmonitzessin els diversos mètodes de joc que responien a la denominació comuna del \"football\". En la quarta reunió es va destacar que alguns periòdics havien publicat les regles de Cambridge de 1856, que diferien en dos punts fonamentals de l'esborrany proposat: \"córrer amb la pilota\" i el \"hacking\" (colpejar les canyelles del rival). allò va generar (segons la versió oficial) que el delegat del col·legi de Blackheath retirés el seu club al no estar d'acord amb aquesta supressió.\n",
      "La gran majoria de col·legis van acceptar la unificació de les regles i el 26 d'octubre de 1863 van fundar The Football Association (the FA), i és en aquest moment quan rugbi i futbol emprenen camins diferents, separant-se del tronc comú. Des d'aleshores, en el món angloparlant s'atribueix la paraula anglesa \"association\" a les federacions de futbol (de fet el nom oficial d'aquest esport és \"footbal association\") i a les de rugbi \"union\". El que sí que va continuar és la determinació de tots dos en anomenar el joc \"football\".\n",
      "El 4 de desembre de 1870, Edwin Ash, de Richmond FC, i Benjamin Burns, del Blackheath FC, van publicar una carta a The Times en què suggerien que \"els qui practiquen el joc tipus rugbi haurien de reunir-se per formar un codi de pràctiques, ja que diversos clubs juguen amb regles que difereixen d'altres, cosa que dificulta el joc\". El 26 de gener de 1871, es va celebrar a Londres una reunió a la qual van assistir representants de 21 clubs en el restaurant Pall Mall.[3]\n",
      "En els següents anys, es van fundar organismes similars per tot arreu d'Escòcia, País de Gal·les, Irlanda, França, Nova Zelanda, Austràlia, Sud-àfrica, Canada, Estats Units, amb polèmica inclosa. A diferència de The FA, que representava en el seu si als clubs de tots els col·legis (de tots els països) del regne, la RFU només hi representava l'anglesa deixant a cadascú la seva autonomia (i igual que avui en dia, la vessant política hi era).\n",
      "El 27 de març de 1871 es va disputar el primer partit internacional entre Anglaterra i Escòcia a Edimburg. Un any més tard, el dia de Nadal, el mateix partit es repetiria a Calcuta, que aleshores era colònia britànica. El partit va tenir un gran èxit i en el seu honor es va esculpir un trofeu que seria lliurat al guanyador de la trobada anual entre totes dues nacions: la Calcutta Cup.\n",
      "L'any 1877 el nombre de jugadors es va reduir de 20 a 15 per equip.\n",
      "Amb l'extensió del rugbi per Gran Bretanya, el 1883 es va organitzar el primer torneig periòdic internacional, el \"Home Nations\", entre els quatre països britànics: Anglaterra, Escòcia, Gal·les i Irlanda. En aquella primera edició el \"XV de la rosa\" (malnom amb què es coneix la selecció anglesa) guanya tots els seus partits obtenint per primera vegada la Triple Corona (premi que es concedeix tradicionalment a la selecció britànica que derrota a les altres tres restants.\n",
      "Fins a l'any 1885 les regles del Rugby Union estaven fetes i ordenades per la RFU però després d'una disputa per un assaig no concedit en un partit Anglaterra- Escòcia les \"union\" del País de Gal·les, Irlanda i Escòcia formaren l'any 1886 a Dublín la International Rugby Football Board (IRFB). L'anglesa va refusar ser-hi al·legant tenir poca representació tot i tenir molts més clubs. Malgrat això, 5 anys més tard hi tornaria.\n",
      "L'any 1910 França va ser admesa a la competició que jugaven anualment les quatre nacions britàniques i passa a anomenar-se el Torneig de les cinc nacions.\n",
      "Ja a finals del segle xix, amb una creixent popularitat arreu de tota la Gran Bretanya, i en una època on l'esperit de l'esport era \"olímpic\" (és a dir \"amateur\") es van multiplicar les trobades entre equips de diferents localitats, però amb l'augment de partits van començar a succeir uns fets que ningú havia previst fins ara; alguns jugadors, sobretot provinents de classes obreres; que eren majoritàriament els que jugaven en equips dels comtats del nord (especialment Yorkshire i Lancashire) començaven amb freqüència a ser baixa per lesió, amb la tessitura que havien de pagar-se els seus tractaments mèdics, i l'agreujant que deixaven d'ingressar part dels seus salaris en haver de faltar a la feina mentre es recuperaven.\n",
      "Tot allò va generar un debat ideològic sobre \"els valors i principis del rugbi\" que trobaven una forta oposició per part dels clubs del sud (especialment a Londres) on, cal dir-ho, estaven formats majoritàriament per jugadors de classes benestant als que la despesa que allò generava no els hi afectava gaire. La guerra de classes en l'esport estava servida.\n",
      "Així doncs, el 29 d'agost de 1895, 22 clubs del nord d'Anglaterra es reuneixen al George Hotel a Huddersfield i formen la Northern Rugby Football Union, una escissió de la RFU a la qual va respondre amb dures sancions i l'exclusió de tot club, oficial o jugador que participés directament en qualsevol activitat de la nova organització dissident. Tot allò var generar un gran rebombori que, a la llarga, acabaria beneficiant a la nova entitat rebel; molts dels clubs que practicaven el Football Rugby amb fins purament recreatius s'hi van a afegir, mantenint el principi de l'amateurisme, però beneficiant-se a la vegada de les subvencions per compensar la despesa.\n",
      "Cap al 1904, la nova entitat ja tenia més clubs afiliats que la RFU i la professionalitat era un fet entre la nova competició que havia seguit el model del \"football association\" (el futbol) i del qual n'havia pres el nom de competició (\"league\"); fins i tot, 3 anys abans el jugador James Lomas s'havia convertit en el primer traspàs per £100 de Bramley a Salford.\n",
      "Als primers anys, els equips que practicaven el \"Football Rugby\" adherits a la Northern Rugby Football Union van competir mantenint les regles de la RFU però després amb el pas del temps reduirien els equips a 13 jugadors, canviarien les mides del terreny de joc i el reglament evolucionaria cap al joc que es coneix avui en dia com Rugby League.\n",
      "Els anys següents, altres entitats similars se separarien pels mateixos motius en la resta de les colònies, especialment a Nova Gal·les del Sud (avui un dels estat d'Austràlia) on aquest esport avui en dia conviu i rivalitza en popularitat amb el Rugby Union. No obstant això, al començament també es van trobar amb una forta oposició per part de les \"union\" de tot el Pacífic; a la versió neozelandesa de rugbi league que va visitar per primera vegada a Austràlia la premsa de l'època l'anomenaria (de manera sarcàstica) com \"All Golds\", pel seu caràcter \"mercenari\", i és que els jugadors que desertaven des de la Rugby Union Australiana (amateur) cap a la New South Wales Rugby League (és aquí on apareix per primera vegada documentada la modalitat amb aquesta definició) eren molt freqüent.\n",
      "Un fet determinant en l'arrelament d'aquesta modalitat hi inclou a una glòria esportiva de la història australiana: Herbert Henry Messenger conegut com a \"Dally\" Messenger, un esportista polifacètic que es va guanyar el seu malnom de jove en ser panxut com un conegut funcionari públic. a principis del segle xx en els seus primers anys de joventut va començar jugant al criquet, futbol australià i especialment Rugby Union on va arribar a debutar amb la selecció absoluta i convertir-se en tota una celebritat de l'època. El 1907 per treure profit de la seva fama és fitxat per J.J.Giltinan, un empresari esportiu a qui s'atribueix l'organització en masses del rugbi league, i per tant, haver-hi introduït la discrepància en l'harmonia de la pràctica del rugbi. La firma del contracte és considerat pels historiadors com el moment clau de la història d'aquesta modalitat; en contrapart, el descontentament que va generar dins el sector del rugby union va fer que els seus registres jugant amb la selecció absoluta de Rugby union d'Austràlia (i d'altres clubs locals) varen ser revocats i no van ser restituïts fins a 100 anys després.\n",
      "Invitat de luxe de la selecció neozelandesa en una gira pel nord d'Anglaterra va ser rebut amb tots els honors pels discrepants britànics. Entre les seves actuacions hi deixaria un rècord Guinness i va refusar ofertes del Manchester United i el Tottenham Hotspurs per jugar \"football association\" (del qual va declarar que era \"decadent\"). Sigui com sigui, el que és un fet és que la seva popularitat i el seu polèmic contracte varen ser aprofitats pels promotors de la modalitat dissident com una eina de propaganda per difondre aquesta modalitat i poder rivalitzar amb el rugby union.\n",
      "Avui en dia, un fet poc entès fora d'Austràlia és la cohabitació de totes dues modalitats dins el mateix espai; el cas és que des dels seus inicis ambdues han mantingut una relació \"estreta i divergent a la vegada\" sent tradicionalment el rugbi league l'esport que ha tingut més seguidors en aquell país.\n",
      "Un altre fet que va contribuir-ne a la seva popularitat va ocórrer de manera espontània en 1908 durant un partit (amb un estadi ple a vessar) quan un jugador de nom Ed \"Son\" Fry, en la disputa de la pilota li esquinçaren els pantalons i va creuar la línia de marca literalment \"amb el cul a l'aire\", fet que forma part de la cultura rugbística d'aquell país.\n",
      "L'any 1932 França va ser expulsada del Torneig de les cinc nacions acusada de professionalisme en el seu campionat domèstic, també de jugar de manera \"excessivament agressiva\" i una mala organització en dates quan la selecció françesa jugava partits internacionals.\n",
      "El 24 de març de 1934, a Hannover, la Fédération Internationale de Rugby Amateur (FIRA) es formava a instàncies dels francesos. Estava dissenyada per organitzar el Rugby Union fora de l'autoritat de la International Rugby Football Board (IRFB). Incloïa i reconeixia els equips nacionals d'Alemanya i França, naturalment, però també; Bèlgica, Catalunya, Espanya, Holanda, Itàlia, Portugal i Romania. Els estatuts i les regulacions segellaven l'operació, i la declaració oficial de naixement era enregistrada al Butlletí Oficial de la República Francesa de 10 de juny de 1934. Això faria que Catalunya jugués els seus primers partits reconeguda com a selecció internacionalment.\n",
      "A casa nostra, la pràctica del Rugby Union va ser introduïda en 1921 per Baldiri Aleu i Torres, però amb l'arribada al poder de la dictadura franquista va patir com tota la resta d'entitats catalanes la repressió feixista. La Federació Catalana de Rugbi (malgrat ser fundadora de la FIRA) va ser desposseïda de tots els seus drets i va veure's obligada a adoptar un caràcter unificador espanyolista (encara que la pràctica de l'esport a la resta d'Espanya era inexistent). Els campionats que s'organitzaven durant l'època de post-guerra, per exemple, estaven conformats íntegrament per equips catalans.\n",
      "Fins a mitjans de segle xx la popularitat del rugbi no va parar de créixer però amb l'esclat de la Segona Guerra Mundial, la seva extensió es va veure afectada: mentre en països aliats d'origen britànic la seva popularitat es va mantenir, en d'altres com l'Alemanya nazi va desaparèixer del tot, o en la França ocupada va ser intervinguda i va patir regulacions severes.\n",
      "A França, que havia sigut expulsada del Torneig de les cinc nacions acusada de professionalisme, el Ruby league va guanyar popularitat, però després va ser prohibit pel govern col·laboracionista durant l'ocupació nazi i tots els seus béns varen ser lliurats a la Federació Francesa de Rugby (Union). No seria fins a mitjans dels anys vuitanta que recuperaria el seu nom (durant mig segle, el nom oficial que li havien assignat les autoritats esportives era \"jeu a XIII\").\n",
      "El rugbi va arribar a les illes del Pacífic, sobretot a Australàsia, majoritàriament a través d'estudiants oriünds de les colònies britàniques que havien tornat d'estudiar en les universitats angleses i ràpidament va arrelar entre la població com un divertiment d'esbarjo. El 1864 es va jugar el primer partit de rugbi a la Universitat de Sidney; 10 anys després s'organitza la primera competició de caràcter metropolità sota les regles de la RFU. El 1883 es constitueix la primera entitat que regula aquest nou esport, la Queensland Rugby Union.\n",
      "Amb motiu dels Jocs Olímpics de Londres de 1908 una selecció d'Austràlia és invitada a participar-hi i aconsegueix la medalla d'or guanyant tots els seus partits. a partir de llavors la premsa els començaria a anomenar els \"Wallabies\".\n",
      "Des de la seva arribada i amb la pràctica de les diferents modalitats es feia un mica difícil l'administració del rugbi arreu de les províncies australianes. el 1947 s'unifiquen totes les federacions regionals i es forma l'Australian Rugby Union.\n",
      "Paral·lelament, el 14 de maig de 1870 Charles John Monro, el fill d'un polític neozelandès que també havia estudiat a Londres organitza el primer partit de rugbi seguint les regles de la RFU al col·legi de Nelson en la ciutat del mateix nom.\n",
      "El 1872 durant l'era de les anomenades \"guerres de Nova Zelanda\" per la colonització del territori i malgrat els prejudicis de l'època, a Wanganui (la ciutat epicentre del conflicte) ja es jugava el primer partit de dos equips: l'un format per europeus i l'altre per maoris.\n",
      "En 1875 s'organitza el primer partit entre províncies a Dunedin entre els clubs d'Auckland i Dunedin.\n",
      "Cap al 1879 ja s'havien organitzat dues \"union\" (Canterbury i Wellington) i el 1882 un combinat provenint de Nova Gal·les del Sud, s'afronta a les dues seleccions amb més representació d'aquestes \"union\". Dos anys més tard seria un combinat unificat provinent de les illes del sud (la primera selecció \"de facto\" de Nova Zelanda) que visitaria Nova Gal·les del Sud; aquella selecció va guanyar tots els seus partits i seria recordada pels seus càntics de guerra maoris abans de començar cada partit.\n",
      "Des de llavors els enfrontaments entre totes dues nacions han tingut lloc cada any, amb el premi des de 1931 de la Copa Bledisloe lliurada al guanyador.\n",
      "El 1888 un combinat de les illes britàniques (allò que avui en dia es coneixen com a \"British and Irish Lions\") visita per primera vegada les colònies del pacífic per competir amb les diferents seleccions locals, aquell equip va guanyar tots els seus partits tret d'un a Auckland.\n",
      "En 1892 s'unifiquen les unions de totes les províncies neozelandeses i neix la New Zealand Rugby Football Union (NZRFU).\n",
      "En 1905 el primer equip neozelandès, anomenats \"els originals\", empren la seva primera gran gira cap a les Illes Britàniques, França i els Estats Units. Aquell equip agradava la premsa executant el Haka (dansa de guerra maori) abans de cada partit. Van guanyar tots els seus partits, tret d'una polèmica derrota disputada contra la selecció del País de Gal·les a l'estadi Cardiff Arms Park (en una jugada de picaresca, els defensors gal·lesos arrossegant rere la línia de marca a un jugador neozelandès que havia marcat un assaig abans que l'àrbitre arribés a confirmar-ho; l'assaig hauria donat un empat als visitants); aquell partit ha entrat a formar part de la cultura i rivalitat de les dues aficions. L'equip neozelandès es faria famós per ser format per jugadors tant d'origen britànic com aborígens (maoris), per la seva vestimenta de color negre i la insígnia de la falguera al pit de la samarreta. Segons la versió oficial, un diari anglès explicava en el seu article després que guanyessin a Hartlepool 0-63 que aquell equip jugava d'una manera molt física i versàtil, com si \"tots fossin arriers\" (en anglès \"all backs\"). a partir de llavors aquell error tipogràfic barrejat amb el color de la seva indumentària els donaria el malnom més conegut de la història dels esports: els \"All Blacks\".\n",
      "Al sud del continent africà el rugbi va començar la seva practica a la colònia de Cape, actual Sud-àfrica. Les tropes britàniques hi jugarien un rol capital en la seva extensió en el seu desplegament per Natal, Kimberley, Pretòria i Johannesburg.\n",
      "El 1889 neix la South African Rugby Board arreplegant en el seu si a les províncies de Western Cape, Griqualand West, Eastern Province i Transvaal (paradoxalment el dibuix d'aquesta entitat reflecteix amb molta precisió el mapa de la Sud-àfrica que encara no existia)\n",
      "Igual que a la resta de les colònies un combinat britànic de rugbi els hi va visitar el 1891 per primera vegada portant entre els equipatges d'indumentària una copa daurada donada per Sir Donald Currie, propietari de la línia marítima que els hi duria a la colònia africana. Les instruccions eren clares: lliurar el trofeu a l'equip que faci el millor partit; el Griqualand West seria el primer d'emportar-se la Currie Cup.\n",
      "Set anys després, el 1898, la Gran Bretanya entraria en guerra amb els Bòers pel control de les colònies sud-africanes. Aquells fets portarien a un augment del nombre de tropes i per consegüent jugadors potencials de rugbi. També és ben sabut que la pràctica d'aquest esport es va popularitzar entre els presoners bòers dins dels camps de concentració. Així doncs, el rugbi era practicat per dues comunitats que estaven literalment en guerra.\n",
      "Un incident que va marcar la història de llavors va ser una treva (l'única que es coneix d'aquest conflicte) perquè la població gaudís d'un partit entre les seleccions d'Anglaterra i Sud-àfrica; sembla que la treva va ser trencada per un grup de radicals bòers que van assaltar una caserna matant un bon nombre de soldats.\n",
      "D'una altra banda, la pràctica del rugbi s'havia també popularitzat entre la població negra local, però d'acord amb les polítiques discriminatòries de l'època els clubs i jugadors de colors van ser també diferenciats sota la denominació de South Africa Coloured Rugby Board.\n",
      "Tot allò va generar molts inconvenients pels equips visitants, principalment Nova Zelanda, que hi incloïen jugadors no-europeus com George Napia, un arrier d'origen maori (considerat com la primera gran estrella dels \"All Blacks\") en la seva gira de 1928.\n",
      "En 1960 després de la massacre de Sharpelville, a prop de Johannesburg, les veus que demanaven l'embargament en contra de les institucions Sud-Africanes hi incloïen també els intercanvis esportius, i per tant el rugbi. Com a conseqüència els \"Springboks\", malnom amb què es coneix la selecció de Sud-àfrica, es va veure sistemàticament aïllada dels \"test match\", que era la manera no-oficial de comptabilitzar els partits entre seleccions. Aquesta situació portaria a molts jugadors sud-africans a jugar amb altres seleccions que no eren la seva.\n",
      "El 1976 després de les Protestes de Soweto, 28 països enfurismats s'alien amb motiu de la visita dels All Blacks a Sud-àfrica per boicotejar els Jocs Olímpics de Montreal del mateix any. La Commonwealth britanica (que compren tots els països que tenen relacions comercials amb la Gran Bretanya) signa els acords de Gleneagles, que prohibeixen tota mena d'intercanvi esportiu amb Sud-àfrica, la qual quedarà suspesa de tota competició internacional, incloent-hi les dues primeres edicions del mundial de rugbi fins al final de l'apartheid el 1992.\n",
      "A l'Argentina el rugbi va ser introduït pels anglesos l'any 1886 i el primer partit oficial es va jugar en 1873. Des de llavors la seva practica queda arrelada sobretot a la capital, que concentra la gran majoria dels seus clubs.\n",
      "Jugat en els seus inicis per les comunitats estrangeres, va anar afegint-hi de mica en mica jugadors nadius, especialment de classes benestants i \"només després d'haver-se provat la seva lleialtat als valors i preceptes\".\n",
      "El 10 d'abril de 1889 sis clubs de Buenos Aires s'uneixen per formar la River Plate Rugby Championship, antecessora de la Unión Argentina de Rugby, formada en gran manera per residents britànics.\n",
      "En 1904 entra a la federació el primer club \"criollo\" (format íntegrament per jugadors argentins) de nom Centro de Estudiantes de Ingeniería, provenint de la Universitat de Buenos Aires. Encara que la seva vida va ser més aviat curta (només van durar quatre anys) va seure les bases per començar difondre la pràctica del rugbi.\n",
      "Un jugador emblemàtic, i fundador de la primera revista especialitzada, va ser el lluitador revolucionari Ernesto \"Che\" Guevara, que signava les seves notes com a \"chang chow\" (de \"chancho\") que era el seu malnom entre la colla.\n",
      "A principis de segle el rugbi havia tingut el seu lloc en una competició de caràcter global. Als Jocs Olímpics de París de 1900, França s'emporta la primera medalla d'or, Austràlia faria el mateix a Londres 1908 i els Estats Units dues vegades: a Anvers 1920 i a París 1924. Després, el rugbi seria revocat com a esport olímpic. I molt anys després, amb el boicot de 1976 quedava enterrada la possibilitat d'un retorn a l'escenari olímpic.\n",
      "Durant bona part del segle xx les competicions internacionals de Rugby Union estaven limitades a les trobades anuals entre seleccions de països i al Torneig de les cinc nacions. Pels volts dels anys 50 ja es considerava la idea d'un torneig mundial amb les principals nacions competint per un trofeu únic de caràcter global, però aquesta trobava una forta oposició per part de les federacions europees dividides sobre el concepte i el seu finançament.\n",
      "A mitjans dels anys vuitanta torna a ressorgir la idea d'un torneig a escala global aquest cop amb Austràlia, Nova Zelanda i França com principals promotors. Finalment el 1985, amb la polèmica del vot favorable de l'encara vetada Sud-àfrica, s'aprova per una curta diferència l'organització d'un Mundial cada quatre anys i la copa Webb Ellis com a trofeu pel guanyador. En la votació van ser clau els vots d'un delegat anglès i un altre gal·lès que canviarien el seu vot a l'últim moment.\n",
      "El primer Mundial va ser organitzat de manera conjunta per Austràlia i Nova Zelanda entre maig i juny de 1987. En ser un esdeveniment sens precedents, un nombre d'incidències va generar molts dubtes i s'arriscava la credibilitat del nou torneig: en primer lloc la premsa recordava que s'havia aprovat amb el vot de la Sud-àfrica de l'apartheid, tampoc no hi va haver procés de qualificació (a banda de les principals nacions rugbístiques, les considerades secundàries van ser-hi per invitació, un sistema que va deixar fora l'equip de Samoa Occidental, que tenia millors registres que moltes de les convidades), l'URSS va declinar a últim moment la seva participació per raons polítiques, durant el torneig va quedar palesa la diferència entre les principals seleccions i la resta (molts partits de la fase preliminar van acabar amb un resultat ampli) i per acabar-ho d'adobar les connexions per satèl·lit d'aquella zona no estaven gens desenvolupades (això va provocar que els aficionats europeus no van poder veure cap partit en directe).\n",
      "La final va tenir lloc a l'estadi Eden Park d'Auckland enfrontant les seleccions de Nova Zelanda i França amb un resultat de 29 a 9 pels locals.\n",
      "Malgrat tot això la primera edició dels mundials va ser un èxit comercial i amb tot el que es pugui dir ara va donar l'embranzida necessària per fer del rugbi XV un esport de primera classe a nivell global.\n",
      "El segon Mundial es va jugar a Europa amb l'organització conjunta d'Anglaterra, Escòcia, País de Gal·les, Irlanda i França. Aquell mundial deixaria sorpreses com l'eliminació d'hora de la selecció gal·lesa i l'avançament a quarts de final de Samoa Occidental i del Canadà. La final va tenir lloc a l'estadi de Twickenham, a Londres, amb una victòria de la selecció d'Austràlia sobre Anglaterra per 12 a 6.\n",
      "Després de dos mundials exitosos i la pau entre les diferents entitats (el 1990 la FIRA reconeix la IRFB, anomenada IRB des del 1998 després de suprimir-ne la paraula football, com l'única entitat que governa el rugbi XV) s'obre una etapa on ja és reconeguda la professionalitat d'aquest esport.\n",
      "En 1992 els canvis polítics a Sud-àfrica acaben amb l'apartheid, el sistema que durant més de mig segle va imposar la discriminació racial, i el país es veu recompensat amb l'organització del tercer Mundial, l'any 1995. Aquell mundial va ajudar a guarir les velles ferides de la societat sud-africana i la final jugada a l'estadi Ellis Park a Johannesburg seria recordada per tota la població amb Nelson Mandela (antic presoner polític i emblema de la lluita per les igualtats racials) lliurant la copa al capità dels amfitrions François Pienaar, en una imatge que recordaran per sempre més tots els sud-africans. La final es va decidir en un partit emocionant, amb drop en temps afegit que donaria a Sud-àfrica la seva primera copa Webb Ellis derrotant els All Blacks per 15 a 12. Aquell torneig es recordaria també pel sorgiment de la primera superestrella global del rugbi modern: Jonah Lomu.\n",
      "Malgrat l'emotivitat, la rivalitat esportiva i la polèmica no hi van quedar excloses; passat un temps després, la delegació neozelandesa va acusar als organitzadors d'haver intoxicat als seus jugadors abans del partit final. En una roda de premsa seguida pels mitjans de comunicació de diversos països, es va esmentar una suposada cambrera anomenada Suzie que els hauria canviat les ampolles d'aigua la nit abans de la final. Encara avui dia, quan els All Blacks perden algun partit contra els seus rivals Springboks, la premsa sud-africana recorda (irònicament) que \"potser aquesta vegada Suzie s'ha passat una mica amb la dosi\".\n",
      "En aquest context, amb els mundials ja consolidats, els principals campionats per països en Europa jugant amb ple rendiment (compaginant un model semi-professional) i Sud-àfrica readmesa dins les competicions internacionals veurien la llum dues entitats que donarien l'empenta definitiva per llançar el rugbi XV com esport professional.\n",
      "A Europa l'any 1995 neix l'ERC (European Rugby Cup), entitat organitzadora dels dos principals tornejos a nivell de clubs: la Copa d'Europa (que reuneix els principals clubs de les principals competicions d'Europa) i la Challenge Cup (que a més dels clubs secundaris de les principals competicions n'hi inclou clubs de competicions de països emergent com Espanya o Romania).\n",
      "Un any després a l'hemisferi sud neix la SANZAR (South Africa, New Zealand & Australia Rugby) per organitzar les dues principals competicions de rugbi XV a l'hemisferi sud, la de clubs (el Super 12) i la de seleccions (el Torneig de les Tres Nacions).\n",
      "Aquests dos campionats consolidarien Nova Zelanda com la primera potència mundial de rugbi (ja que ha guanyat 10 dels 16 primers Tornejos de les Tres Nacions), i la franquícia dels Canterbury Crusaders com la més condecorada (en 15 temporades han arribat a 10 finals i n'han guanyat 7). Un altre fet que ha contribuït a la seva gran popularitat és l'execució abans de cada partit de la haka, una dansa de guerra maori estretament lligada a la cultura del rugbi neozelandès i del país mateix. En una referència, d'altres nacions rugbistes del Pacífic també executen danses tribals pertanyent abans de començar els seus partits.\n",
      "D'aquesta manera, i amb l'arribada de les noves tecnologies, el rugbi XV (anomenat en els països angloparlants Rugby Union) es posicionà com el principal esport del Pacífic sud, abastant, a més de les tres principals nacions rugbístiques, països amb una cultura i tradició força arrelada en aquest esport. La Pacific Islands Rugby Alliance que comprèn les tres principals illes rugbistes del pacífic sud (Fiji, Samoa i Tonga) aporten als campionats de tot el món un bon grapat de jugadors de bona qualitat i donen amb el seu mestissatge un toc de referència dins del món oval.\n",
      "En 1999 es torna a jugar a Europa el quart Mundial (el primer de l'era professional), principalment al País de Gal·les, encara que per la seva dimensió la majoria de partits van ser jugar en seus alternatives a Anglaterra, França i Irlanda.\n",
      "El partit inicial i la final es van jugar al Millennium Stadium (construït per a aquest esdeveniment). La quantitat de països participants es va augmentar de 16 a 20.\n",
      "Austràlia s'alçaria amb la seva segona copa Webb Ellis, derrotant França en la final per 35 a 12 i es convertiria en la primera nació a guanyar dos mundials.\n",
      "L'any 2000 Itàlia és admesa dins el torneig anual de màxima competició a Europa que passa a anomenar-se Torneig de les Sis Nacions i al seu guanyador Campió d'Europa. A més del trofeu, en cada edició també són lliurats d'altres condecoracions:\n",
      "També, en cada partit l'equip guanyador rep un premi, normalment un trofeu que celebra de manera històrica (algunes més antigues i d'altres més contemporanea) la trobada entre les dues seleccions:\n",
      "El 2003 el cinquè Mundial té com a seu Austràlia, que n'era la vigent campiona i Anglaterra com clara favorita després d'haver derrotat les tres principals nacions de l'hemisferi sud en els seus respectius enfrontaments i haver fet el Grand Slam al Torneig de les Sis Nacions el mateix any.\n",
      "La final es jugaria al Telstra Stadium on Anglaterra es convertiria en la primera nació de l'hemisferi nord a guanyar la copa Webb Ellis derrotant a l'equip amfitrió 17 a 20 amb un drop en temps afegit per la seva estrella Jonny Wilkinson (famós dins del món del rugbi per la seva postura en xutar els cops de càstig que molts altres també han adoptat).\n",
      "El 2007 el sisè Mundial va tenir lloc a França amb Cardiff i Edimburg com a seus alternatives. El torneig va començar amb mal peu per als organitzadors, que van perdre en el debut contra l'Argentina per 12 a 17, fet que es repetiria en la disputa pel tercer lloc amb una nova victòria dels Pumas (malnom amb el qual es coneix a la selecció sud-americana) sobre els amfitrions 34 a 10. Aquesta projecció va llançar l'equip sud-americà a ser considerat com la nació més emergent de l'últim quart de segle.\n",
      "Aquesta va ser una edició que va trencar tots els records d'audiència, fet que va apujar el cost dels drets televisius a l'alçada dels grans esdeveniments mundials.\n",
      "La final es va jugar a l'Stade de France i la va guanyar per segon cop Sud-àfrica contra Anglaterra per 6 a 15.\n",
      "El 2011 el setè Mundial es va jugar a Nova Zelanda amb país sencer implicat en l'organització i amb una pressió mediàtica sobre l'equip local, els All Blacks considerats el millor del món, per guanyar la seu segon mundial. Amb unes audiències records, fins i tot en països on no hi havia tradició per la pràctica d'aquest esport, Nova Zelanda i la seva estrella Richie McCaw s'alcen amb la segona copa Webb Ellis derrotant França en la final per un ajustat 7 a 8 i consolidant a l'hemisferi sud com la potència regional del món oval en haver guanyat les seves tres principals nacions (Nova Zelanda amb 2, Austràlia amb 2 i Sud-àfrica amb 2) 6 dels 7 mundials jugats fins ara.\n",
      "Les bones prestacions que la selecció de l'Argentina havia fet en aquests dos darrers mundials i la projecció dels seus jugadors li han valgut per ser admesa el 2011 dins el torneig anual de les nacions del sud, que passarà a anomenar-se a partir d'ara The Rugby Championship.\n",
      "L'any 2015 es va disputar el vuitè Mundial, a Anglaterra. En el partit inaugural, el 18 de setembre, els amfitrions van derrotar la selecció de Fiji per 35 a 11 al Twickenham Stadium de Londres.\n",
      "La final va ser entre dues seleccions de l'hemisferi sud, Nova Zelanda i Austràlia, també al Twickenham Stadium de Londres. Els All Blacks (Nova Zelanda) van superar els Wallabies (Austràlia) per 34 a 17.\n",
      "El novè Mundial de rugbi es va disputar el 2019 al Japó.\n",
      "El rugbi és un esport d'intens contacte físic. Tanmateix les regles no permeten l'ús de cap protecció rígida, ja que aquestes podrien causar lesions als jugadors. Només es permeten proteccions encoixinades de fins a 5 mm de gruix en algunes zones del cos; aquestes proteccions han de ser aprovades per l'International Rugby Board.[4] Normalment s'empren un protector bucal de material siliconat; una samarreta elàstica (usada per sota de la samarreta de l'equip) amb proteccions per a les espatlles i coll, i a vegades també per estèrnum, costelles, ronyons, columna vertebral i bíceps; un casquet tou, destinat principalment a reduir l'efecte dels cops a les orelles, i unes falques curtes de contenció. Es permet l'ús d'altres proteccions no rígides i de gruix mínim per prevenir lesions, com genolleres o turmelleres.\n",
      "El rugbi és un esport en el qual tradicionalment s'ha donat gran importància als valors morals. Des que s'nicien al joc, als jugadors de rugbi se'ls ensenyen una sèrie de qualitats positives, com són la companyonia, l'honestedat, el respecte, la disciplina, el sacrifici i l'altruisme. A diferència d'altres esports d'equip, en el rugbi els jugadors no solen discutir als àrbitres les seves decisions, ni intenten enganyar-los per treure partit de les seves decisions. Els punts són conseqüència necessària de l'esforç col·lectiu, per la qual cosa no es produeixen celebracions individuals després de la consecució d'un assaig o una transformació, a diferència d'altres esports en què es felicita el jugador que ha marcat o el que ha fet el passi decisiu. Al final del partit els jugadors d'ambdós equips confraternitzen junts en l'anomenat «tercer temps», en què beuen i mengen junts per invitació de l'equip local.\n",
      "La versió d'aquest esport més coneguda és la del rugbi jugat per equips de quinze jugadors, encara que no és l'única. És el que es coneix en el món anglosaxó com rugbi union, en referència a la federació (Union) de clubs que es regeixen per unes mateixes normes i que, tradicionalment, havien estat universitaris o aficionats. Un partit dura 80 minuts, dividit en dues parts de 40 minuts.\n",
      "Segueix el model proposat per William Webb Ellis. Per cada equip juguen un total de 15 jugadors dividits en dos grups: forwards o davanters i backs o tres quarts. Les denominacions dels llocs, igual que la resta de la terminologia de joc, varia considerablement entre Espanya i els altres països hispanoparlants.\n",
      "Els jugadors de l'1 al 8 (forwards) formen el pack, la \"davantera\" o \"paquet\" per realitzar el scrum (la Melé):\n",
      "Primera línia: Els jugadors que intenten portar la pilota al seu costat i que estan en el xoc; la funció en els scrums és mantenir el scrum estable, els pilars (números 1 i 3) solen ser els més forts i pesants d'entre tots els jugadors\n",
      "Segona línia: Generalment els jugadors més alts de l'equip i que es fan càrrec d'empènyer en els scrums, també encarregats de guanyar la pilota en els treguis des del lateral (touche,line-out)\n",
      "Tercera línia: Els jugadors que mantenen la formació equilibrada perquè no és desarmament[Cal aclariment] cometent una falta.\n",
      "Línia de tres quarts o \"backs\": En els diferents països, aquests jugadors reben diferents noms d'acord amb la seva pròpia tradició. Així, a Austràlia i Nova Zelanda l'obertura (núm. 10) i el primer centre (núm. 12) s'anomenen first i second five eights, respectivament.\n",
      "Des del segle xix a Gran Bretanya hi ha una variant on les seves regles difereixen en part i en la que juguen equips de 13 jugadors; aquests van ser professionals pràcticament des de la implantació d'aquesta modalitat. A aquest joc se'l va anomenar rugby league,[5] en referència al campionat de lliga en què s'enfrontaven els clubs que remuneraven els seus jugadors. De Gran Bretanya va passar a alguns països de l'esfera cultural i d'influència britànica (Austràlia, Nova Zelanda), així com a França.\n",
      "Rugby League Football o rugbi a 13 és un esport d'equip jugat per dos equips de 13 jugadors, amb 4 al banc (reserves). L'objectiu fonamental, com en el rugbi a 15, consisteix a dipositar amb les mans una pilota ovalada a terra sobre o més enllà de la línia d'assaig. Això es denomina assaig i en el Rugby League té un valor de 4 punts. Després de l'assaig, l'equip anotador té el dret de xutar la pilota cap a la porteria adversària, i si aconsegueix passar (transformació) entre els dos pals verticals i per damunt del travesser, anota 2 punts més. També poden aconseguir punts tirant a pals després d'un penal, que consisteix a tirar a pals durant el joc obert deixant prèviament botar la pilota a terra. En ambdós casos el seu valor és d'1 punt. L'equip adversari intenta impedir a l'equip d'atac realitzar aquest gol obstaculitzant el contrincant que ha de jugar la pilota.\n",
      "En àrees d'Anglaterra on el rugbi a 13 predomina - Yorkshire i el Nord-oest - l'ús del terme rugbi es refereix, generalment, al rugbi a 13, a diferència de la major part del país, on aquest terme es refereix al Rugby Union o Rugbi a 15. En àrees d'Austràlia i Nova Zelanda on predomina el rugbi a 13, el joc és comunament conegut com a League o futbol. A França, el joc és anomenat el Rugby à Treize, rugbi a tretze en francès. A l'Argentina (únic país de parla hispana a practicar-lo) el nom adoptat va ser Rugbi 13.\n",
      "El rugbi a 13 va ser jugat al principi per una facció que es va escindir de la Federació Anglesa de Rugbi (RFU), coneguda com la Unió del Nord. Quan es van produir també escissions similars a les federacions de rugbi afiliades a la RFU a Austràlia i Nova Zelanda, el 1907 i 1908, formaren associacions conegudes com a Rugbi Leagues i usaren les regles de la Unió del Nord modificades. La Unió del Nord més tard canvià el seu nom a Rugby Football League. Així, el joc es va fer conegut com la Rugby League.\n",
      "Els jugadors del 8 al 13 (forwards) formen el pack, la \"davantera\" per realitzar el scrum (la Melé):\n",
      "Primera línia: Els jugadors que intenten portar la pilota al seu costat i que estan en el xoc; la funció dels scrums és donar més espai als \"back\" quan surt la pilota. Els pilars (números 8 i 10) solen ser els més forts d'entre tots els jugadors.\n",
      "Segona línia\n",
      "Línia de tres quarts o \"backs\": En els diferents països, aquests jugadors reben diferents noms d'acord amb la seva pròpia tradició. Així, a Austràlia i Nova Zelanda el mitja melé (núm. 7) i el stand-off (núm. 6) s'anomenen half-back i five-eighth, respectivament.\n",
      "El format de rugbi de 7 es juga normalment en tornejos curts (d'un dia o un cap de setmana). S'utilitza el mateix camp que en la modalitat de 15 homes, però amb només 7 jugadors per equip. El partit es divideix en dos temps que duren entre set i deu minuts. Actualment existeix un Campionat del Món de Rugbi a 7 i un circuit mundial.\n",
      "L'any 2009 el Comitè Olímpic Internacional va decidir incloure aquest esport al programa dels Jocs Olímpics d'Estiu de 2016.[6]\n",
      "En general, i a diferència d'altres esports, les seleccions nacionals de rugbi tenen uns sobrenoms afectuosos pels quals són coneguts els seus equips. Els dels deu primers equips segons la classificació de l'IRB a finals d'octubre de 2007 són:\n",
      "Altres equips destacats:\n",
      "Abans d'una llarga aturada, l'últim torneig olímpic en què va participar el rugbi va ser a París, el 1924, amb la participació de França, EUA i Romania. Allà els nord-americans buscaven repetir l'or aconseguit a Anvers quatre anys abans. El 4 de maig, França va vèncer els petits romanesos, 59-3, i una setmana després, l'11 de maig, Estats Units golejà també a Romania 39-0. A la final del dia 17 de maig, els nord-americans es van endur l'or en superar per 17-3 els incrèduls francesos. Durant el torneig l'equip nord-americà va viure nombroses dificultats, algunes imposades com la no cessió de cap camp per a entrenar-se, i per això li va caldre anar a un parc públic a preparar-se, les constants acusacions de professionalisme, la negativa francesa a filmar el partit entre EUA i Romania, i una altra imprevista com el robatori de les seves pertinences durant un dia d'entrenament...\n",
      "Algunes notes:\n",
      "El rugbi, en la seva modalitat de rugbi a 7, va tornar a formar part del conjunt de competicions olímpiques als Jocs Olímpics de Rio 2016.[7]\n",
      "\n"
     ]
    }
   ],
   "source": [
    "elementsWiki = driver.find_element(By.ID,  \"mw-content-text\")\n",
    "rugbyWiki = driver.find_elements(By.TAG_NAME, \"p\")\n",
    "for x in rugbyWiki:\n",
    "    print(x.text)"
   ]
  },
  {
   "cell_type": "code",
   "execution_count": null,
   "id": "439eec50",
   "metadata": {},
   "outputs": [],
   "source": [
    "driver.quit()"
   ]
  },
  {
   "cell_type": "markdown",
   "id": "cd199929",
   "metadata": {},
   "source": [
    "### Ex2\n",
    "##### Documenta en un Word el teu conjunt de dades generat amb la informació que tenen els diferents arxius de Kaggle."
   ]
  },
  {
   "cell_type": "markdown",
   "id": "90be5531",
   "metadata": {},
   "source": [
    "### URL1 =  \"http://quotes.toscrape.com\"\n",
    "Webpage for web scraping practices"
   ]
  },
  {
   "cell_type": "markdown",
   "id": "ce8c2cc2",
   "metadata": {},
   "source": [
    "##### Content: top ten quotes of diferents authors\n",
    "##### Columns:\n",
    "        Quote\n",
    "        Author\n",
    "        Tags\n",
    "\n",
    "We scraped it into a .csv file."
   ]
  },
  {
   "cell_type": "markdown",
   "id": "8ef1fc24",
   "metadata": {},
   "source": [
    "### URL2 =  \"https://ca.wikipedia.org/wiki/Rugbi\"\n",
    "Web page of a wikipedia search about rugby sport ( catalan version).\n",
    "\n",
    "We had to depp into the strcuture of this html in order to find tha main area where the main text is. We got it sepearate into different paragraphs. We scraped them into a .csv file."
   ]
  },
  {
   "cell_type": "markdown",
   "id": "f518febb",
   "metadata": {},
   "source": [
    "### URL3 =  \"https://www.espn.com/rugby/table/_/league/242041\"\n",
    "Web page about the fixtures & Results (table) of results of the 2022 Super Rugby Pacific rugby competition. We got a table with 14 columns with all statistics of each team:  Final position, Name of the Team, Games Played, Games Won, Games Drawn, Games Lost, Bye Games, Points For, Points Against, Tries For, Tries Against, Bonus Points Try,Bonus Points Losing,Bonus Points,Points Difference, Final Points.\n",
    "Our goal here was to get an excel of this table."
   ]
  },
  {
   "cell_type": "markdown",
   "id": "6c6d60f9",
   "metadata": {},
   "source": [
    "### Ex3  \n",
    "##### Tria una pàgina web que tu vulguis i realitza web scraping mitjançant la llibreria Selenium primer i Scrapy després. "
   ]
  },
  {
   "cell_type": "markdown",
   "id": "d30cf158",
   "metadata": {},
   "source": [
    "#### Selenium"
   ]
  },
  {
   "cell_type": "code",
   "execution_count": null,
   "id": "91a84a16",
   "metadata": {},
   "outputs": [],
   "source": [
    "service=Service(executable_path = ChromeDriverManager().install())\n",
    "#  the instance of Chrome WebDriver is created.\n",
    "driver = webdriver.Chrome(service=service)\n",
    "driver.implicitly_wait(0.5)"
   ]
  },
  {
   "cell_type": "code",
   "execution_count": 341,
   "id": "7d028241",
   "metadata": {},
   "outputs": [
    {
     "name": "stdout",
     "output_type": "stream",
     "text": [
      "file upload success\n"
     ]
    }
   ],
   "source": [
    "URL3 = \"https://www.espn.com/rugby/table/_/league/242041\"\n",
    "driver.get(URL3)\n",
    "title = driver.title\n",
    "if(driver.page_source.find(\"File Uploaded!\")):\n",
    "    print(\"file upload success\")\n",
    "    driver.save_screenshot(title + '.png')\n",
    "else:\n",
    "    print(\"file upload not successful\")\n",
    "    driver.quit()"
   ]
  },
  {
   "cell_type": "code",
   "execution_count": 342,
   "id": "d2a04081",
   "metadata": {},
   "outputs": [
    {
     "name": "stdout",
     "output_type": "stream",
     "text": [
      "1 Blues 14 13 0 1 0 472 284 64 38 5 1 6 +188 58\n",
      "2 Crusaders 14 11 0 3 0 470 268 64 33 5 3 8 +202 52\n",
      "3 Chiefs 14 10 0 4 0 453 348 62 42 4 1 5 +105 45\n",
      "4 Brumbies 14 10 0 4 0 404 306 55 36 3 1 4 +98 44\n",
      "5 Hurricanes 14 8 0 6 0 441 330 64 42 3 4 7 +111 39\n",
      "6 New South Wales Waratahs 14 8 0 6 0 365 317 45 39 2 4 6 +48 38\n",
      "7 Queensland Reds 14 8 0 6 0 342 327 46 39 1 2 3 +15 35\n",
      "8 Highlanders 14 4 0 10 0 348 345 43 45 2 5 7 +3 23\n",
      "9 Western Force 14 4 0 10 0 326 443 42 61 2 5 7 -117 23\n",
      "10 Melbourne Rebels 14 4 0 10 0 320 469 39 65 0 4 4 -149 20\n",
      "11 Fijian Drua 14 2 0 12 0 261 518 30 75 0 4 4 -257 12\n",
      "12 Moana Pasifika 14 2 0 12 0 267 514 37 76 0 2 2 -247 10\n"
     ]
    }
   ],
   "source": [
    "rows = []\n",
    "table  = driver.find_elements(By.CLASS_NAME, \"standings-row\")\n",
    "for x in table:\n",
    "    rows.append (x.text)\n",
    "    print(x.text)"
   ]
  },
  {
   "cell_type": "code",
   "execution_count": null,
   "id": "42344a37",
   "metadata": {},
   "outputs": [],
   "source": [
    "df= pd.DataFrame(rows)\n",
    "driver.quit()"
   ]
  },
  {
   "cell_type": "markdown",
   "id": "658fa646",
   "metadata": {},
   "source": [
    "##### Excel it"
   ]
  },
  {
   "cell_type": "code",
   "execution_count": null,
   "id": "0ae76ca9",
   "metadata": {},
   "outputs": [],
   "source": [
    "# pip install openpyxl\n",
    "df.to_excel (title + '.xlsx')"
   ]
  },
  {
   "cell_type": "markdown",
   "id": "136fae2c",
   "metadata": {},
   "source": [
    "#### Scrapy"
   ]
  },
  {
   "cell_type": "code",
   "execution_count": null,
   "id": "06ae0649",
   "metadata": {},
   "outputs": [],
   "source": []
  }
 ],
 "metadata": {
  "kernelspec": {
   "display_name": "Python 3.9.5 64-bit",
   "language": "python",
   "name": "python3"
  },
  "language_info": {
   "codemirror_mode": {
    "name": "ipython",
    "version": 3
   },
   "file_extension": ".py",
   "mimetype": "text/x-python",
   "name": "python",
   "nbconvert_exporter": "python",
   "pygments_lexer": "ipython3",
   "version": "3.9.5"
  },
  "vscode": {
   "interpreter": {
    "hash": "c347c8f9a7ef94e4c9e03b4513be7835ed18f45b99a2a817fb579f408b867b16"
   }
  }
 },
 "nbformat": 4,
 "nbformat_minor": 5
}

{
 "cells": [
  {
   "cell_type": "markdown",
   "id": "2056e70e",
   "metadata": {},
   "source": [
    "# S02 T03: Estructura de control"
   ]
  },
  {
   "cell_type": "markdown",
   "id": "2279cd19",
   "metadata": {},
   "source": [
    "### Ex1\n",
    "##### L'exercici consisteix a crear un programa que et classifiqui una variable numèrica en funció de l’escala Suspès/Aprovat/Notable/Excel·lent."
   ]
  },
  {
   "cell_type": "code",
   "execution_count": 69,
   "id": "3d24cd69",
   "metadata": {
    "ExecuteTime": {
     "end_time": "2022-05-04T15:35:55.570459Z",
     "start_time": "2022-05-04T15:35:55.497935Z"
    }
   },
   "outputs": [
    {
     "name": "stdout",
     "output_type": "stream",
     "text": [
      "La seva avaluació final és: Suspès\n",
      "El número introduït era: 2\n"
     ]
    }
   ],
   "source": [
    "a = int(input(\"Introdueixi la nota (entre 0 i 10):\"))\n",
    "mis = \"La seva avaluació final és: \"\n",
    "\n",
    "if a == 0:\n",
    "    print(mis + \"Superdeficient\")\n",
    "elif a < 4:\n",
    "    print(mis + \"Suspès\")\n",
    "elif a == 5:\n",
    "    print(mis + \"Aprovat\")\n",
    "elif a > 5 and a < 7:\n",
    "    print(mis + \"Bé\")\n",
    "elif a > 6 and a < 10:\n",
    "    print(mis + \"Notable\")\n",
    "elif a == 10 :\n",
    "    print(mis + \"Matrícula d'Honor!\")\n",
    "else:\n",
    "    print(\"El número no és vàlid!\")\n",
    "print (\"El número introduït era: \" + str(a))"
   ]
  },
  {
   "cell_type": "markdown",
   "id": "cd199929",
   "metadata": {},
   "source": [
    "### Ex2\n",
    "##### Utilitzant el següent tutorial Programiz: Python Input, Output and Import crea un programa que et pregunti dos números. T’ha de mostrar un missatge dient si el primer és més gran, el segon és més gran o són iguals."
   ]
  },
  {
   "cell_type": "code",
   "execution_count": 70,
   "id": "b5d19692",
   "metadata": {
    "ExecuteTime": {
     "end_time": "2022-05-04T15:35:55.637818Z",
     "start_time": "2022-05-04T15:35:55.604920Z"
    }
   },
   "outputs": [
    {
     "name": "stdout",
     "output_type": "stream",
     "text": [
      "El primer número, 3, és: MENOR, que el segon, 4.\n"
     ]
    }
   ],
   "source": [
    "num1 = int(input(\"Introdueixi el primer número:\"))\n",
    "num2 = int(input(\"Introdueixi el segon número:\"))\n",
    "mis = \"El primer número, \" + str(num1) + \", és: \"\n",
    "mis2= \", que el segon, \"+ str(num2)+\".\"\n",
    "\n",
    "if num1 == num2:\n",
    "    result=  \"IGUAL\"\n",
    "elif num1 > num2:\n",
    "    result = \"MAJOR\"\n",
    "else:\n",
    "    result = \"MENOR\"\n",
    "    \n",
    "print (mis + result  + mis2)"
   ]
  },
  {
   "cell_type": "markdown",
   "id": "6c6d60f9",
   "metadata": {},
   "source": [
    "### Ex3\n",
    "##### Crea un programa que et pregunti el teu nom, i et demani un número. Si el número és 0, hauria de mostrar un missatge d’error. En cas contrari, hauria de mostrar el nom repetit tants cops com indiqui el número. Per exemple, “Joan Joan Joan”."
   ]
  },
  {
   "cell_type": "code",
   "execution_count": 71,
   "id": "82c9be53",
   "metadata": {
    "ExecuteTime": {
     "end_time": "2022-05-04T15:35:55.725804Z",
     "start_time": "2022-05-04T15:35:55.659299Z"
    },
    "scrolled": true
   },
   "outputs": [
    {
     "name": "stdout",
     "output_type": "stream",
     "text": [
      "pep pep pep pep pep \n"
     ]
    }
   ],
   "source": [
    "nom = str(input(\"Introdueixi un nom:\") + \" \")\n",
    "num1 = int(input(\"Introdueixi un número:\"))\n",
    "\n",
    "if num1 == 0:\n",
    "    print (\"Ha introduït un zero. No es pot proseguir!\")\n",
    "else:\n",
    "    print (nom * num1)"
   ]
  },
  {
   "cell_type": "markdown",
   "id": "65bddac0",
   "metadata": {},
   "source": [
    "### Ex4\n",
    "##### Crea un programa que donada una llista qualsevol, et digui si es simètrica o no. Si ho és, que et digui quants elements té."
   ]
  },
  {
   "cell_type": "code",
   "execution_count": 72,
   "id": "15c201b3",
   "metadata": {},
   "outputs": [
    {
     "name": "stdout",
     "output_type": "stream",
     "text": [
      "La llista és : [77, 1, 56, 65, 1, 77]\n",
      "Aquesta llista és simétrica. Has trobat un palíndrom!\n"
     ]
    }
   ],
   "source": [
    "def check_palindrome_list(my_str):\n",
    "   if my_str == my_str[::-1]:\n",
    "      print(\"Aquesta llista és simétrica. Has trobat un palíndrom!\")\n",
    "   else:\n",
    "      print(\"Aquesta llista NO és simètrica\")\n",
    "\n",
    "my_list =[77, 1, 56, 65, 1, 77]\n",
    "\n",
    "print(\"La llista és : \" + str(my_list))\n",
    "\n",
    "my_list = ' '.join([str(elem) for elem in my_list])\n",
    "check_palindrome_list(my_list)"
   ]
  },
  {
   "cell_type": "markdown",
   "id": "be03b7f7",
   "metadata": {},
   "source": [
    "### Ex5\n",
    "##### Crea un programa que donada una llista, et digui quants números coincideixen amb la seva posició. Per exemple [3,4,2,0,2,3,6] el 2 i el 6 coincideixen."
   ]
  },
  {
   "cell_type": "code",
   "execution_count": 73,
   "id": "f4931363",
   "metadata": {},
   "outputs": [
    {
     "name": "stdout",
     "output_type": "stream",
     "text": [
      "Donada aquesta llista: [0, 12, 24, 3, 4, 59, 67, 7, 81]\n",
      "Els números que coincideixen amb la seva posició són: [0, 3, 4, 7]\n"
     ]
    }
   ],
   "source": [
    "# verificar si existeixen?\n",
    "my_list = [0, 12, 24, 3, 4, 59, 67, 7, 81]\n",
    "res = []\n",
    "for x in range(0,len(my_list)):\n",
    "    if x == my_list[x]:\n",
    "        res.append(x)\n",
    "print(\"Donada aquesta llista: \"+ str(my_list))\n",
    "print(\"Els números que coincideixen amb la seva posició són: \"+ str(res))"
   ]
  }
 ],
 "metadata": {
  "interpreter": {
   "hash": "c347c8f9a7ef94e4c9e03b4513be7835ed18f45b99a2a817fb579f408b867b16"
  },
  "kernelspec": {
   "display_name": "Python 3.9.5 64-bit",
   "language": "python",
   "name": "python3"
  },
  "language_info": {
   "codemirror_mode": {
    "name": "ipython",
    "version": 3
   },
   "file_extension": ".py",
   "mimetype": "text/x-python",
   "name": "python",
   "nbconvert_exporter": "python",
   "pygments_lexer": "ipython3",
   "version": "3.9.5"
  }
 },
 "nbformat": 4,
 "nbformat_minor": 5
}

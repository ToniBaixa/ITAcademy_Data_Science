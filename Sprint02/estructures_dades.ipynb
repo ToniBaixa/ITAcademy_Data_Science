{
 "cells": [
  {
   "cell_type": "markdown",
   "id": "2056e70e",
   "metadata": {},
   "source": [
    "# estructures_dades"
   ]
  },
  {
   "cell_type": "markdown",
   "id": "2279cd19",
   "metadata": {},
   "source": [
    "### Ex1"
   ]
  },
  {
   "cell_type": "code",
   "execution_count": 74,
   "id": "3d24cd69",
   "metadata": {
    "ExecuteTime": {
     "end_time": "2022-05-04T15:35:55.570459Z",
     "start_time": "2022-05-04T15:35:55.497935Z"
    }
   },
   "outputs": [
    {
     "name": "stdout",
     "output_type": "stream",
     "text": [
      "('t1', ['Gener', 'Febrer', 'Març'], 't2', ['Abril', 'Maig', 'Juny'], 't3', ['Juliol', 'Agost', 'Setembre'], 't4', ['Octubre', 'Novembre', 'Desembre'])\n"
     ]
    }
   ],
   "source": [
    "\n",
    "x1 = (\"t1\", [\"Gener\", \"Febrer\", \"Març\"])\n",
    "x2 = (\"t2\", [\"Abril\", \"Maig\", \"Juny\"])\n",
    "x3 = (\"t3\", [\"Juliol\", \"Agost\", \"Setembre\"])\n",
    "x4= (\"t4\", [\"Octubre\", \"Novembre\", \"Desembre\" ])\n",
    "months = t1+t2+t3+t4\n",
    "#print (months)\n",
    "monthsTrim = x1+x2+x3+x4\n",
    "print (monthsTrim)"
   ]
  },
  {
   "cell_type": "markdown",
   "id": "cd199929",
   "metadata": {},
   "source": [
    "### Ex2\n",
    "##### Accedir: "
   ]
  },
  {
   "cell_type": "code",
   "execution_count": 32,
   "id": "b5d19692",
   "metadata": {
    "ExecuteTime": {
     "end_time": "2022-05-04T15:35:55.637818Z",
     "start_time": "2022-05-04T15:35:55.604920Z"
    }
   },
   "outputs": [
    {
     "name": "stdout",
     "output_type": "stream",
     "text": [
      "El segon mes del primer trimestre és: Febrer\n",
      "Els mesos del primer trimestre són: ['Gener', 'Febrer', 'Març']\n",
      "Accedir a Setembre i octubre: Setembre Octubre\n"
     ]
    }
   ],
   "source": [
    "\n",
    "ex1a = monthsTrim[1][1]\n",
    "print (\"El segon mes del primer trimestre és: {}\".format (ex1a))\n",
    "\n",
    "ex1b = monthsTrim[1]\n",
    "print (\"Els mesos del primer trimestre són: {}\".format (ex1b))\n",
    "\n",
    "ex1c = monthsTrim[5][2] + \" \" + monthsTrim[7][0]\n",
    "print (\"Accedir a Setembre i octubre: {}\".format (ex1c))"
   ]
  },
  {
   "cell_type": "markdown",
   "id": "6c6d60f9",
   "metadata": {},
   "source": [
    "### Ex3\n",
    "##### Crea una llista amb nombres desordenats i respon a les següents preguntes:"
   ]
  },
  {
   "cell_type": "code",
   "execution_count": 56,
   "id": "82c9be53",
   "metadata": {
    "ExecuteTime": {
     "end_time": "2022-05-04T15:35:55.725804Z",
     "start_time": "2022-05-04T15:35:55.659299Z"
    },
    "scrolled": true
   },
   "outputs": [
    {
     "name": "stdout",
     "output_type": "stream",
     "text": [
      "La meva llista és: [1, 34, 67, 23400, 98, 6, 45, 6789, 4]\n",
      "Quants números hi ha?: 9\n",
      "Quantes vegades apareixen els nombres 3 i 4? El 3: 0 cops. El 4: 1 cop\n",
      "Quin és el número més gran?: 23400\n",
      "Quins són els 3 números més petits?: [1, 4, 6]\n",
      "Quin és el rang d’aquesta llista?: De 1 fins a 23400\n"
     ]
    }
   ],
   "source": [
    "myList = [1,34,67,23400,98,6,45,6789,4]\n",
    "print (\"La meva llista és: {}\".format (myList))\n",
    "\n",
    "ex3a = len(myList)\n",
    "print (\"Quants números hi ha?: {}\".format (ex3a))\n",
    "num3= myList.count(3)\n",
    "num4= myList.count(4)\n",
    "print (\"Quantes vegades apareixen els nombres 3 i 4? El 3: {} cops. El 4: {} cop\".format (num3,num4))\n",
    "sorted = myList.copy()\n",
    "sorted.sort(reverse=True)\n",
    "print (\"Quin és el número més gran?: {}\".format (sorted[0]))\n",
    "sorted.sort()\n",
    "print (\"Quins són els 3 números més petits?: {}\".format (sorted[:3]))\n",
    "ex3e = myList\n",
    "print (\"Quin és el rang d’aquesta llista?: De {} fins a {}\".format (min(ex3e), max(ex3e)))"
   ]
  },
  {
   "cell_type": "markdown",
   "id": "65bddac0",
   "metadata": {},
   "source": [
    "### Ex4\n",
    "##### Crea un diccionari de la següent forma i respon a les preguntes:"
   ]
  },
  {
   "cell_type": "code",
   "execution_count": 83,
   "id": "15c201b3",
   "metadata": {},
   "outputs": [
    {
     "name": "stdout",
     "output_type": "stream",
     "text": [
      "Afegeix alguna fruita més {'Pomes': {'Qty': 5, '€': 0.42}, 'Peres': {'Qty': 3, '€': 0.66}, 'Síndies': {'Qty': 8, '€': 3.44}}\n",
      "Quant han costat les peres en total?: 1.98\n",
      "Quantes fruites hem comprat?: dict_keys(['Pomes', 'Peres', 'Síndies'])\n",
      "en total?: 3\n",
      "Quina és la fruita més cara?: dict_items([('Pomes', {'Qty': 5, '€': 0.42}), ('Peres', {'Qty': 3, '€': 0.66}), ('Síndies', {'Qty': 8, '€': 3.44})])\n"
     ]
    }
   ],
   "source": [
    "compra = { \"Pomes\" : {\"Qty\": 5, \"€\": 0.42}, \"Peres\" : {\"Qty\": 3, \"€\": 0.66} }\n",
    "\n",
    "compra.update ({\"Síndies\" : {\"Qty\": 8, \"€\": 3.44}})\n",
    "print (\"Afegeix alguna fruita més {}\".format (compra))\n",
    "\n",
    "ex4b = compra[\"Peres\"][\"Qty\"] * compra[\"Peres\"][\"€\"] \n",
    "print (\"Quant han costat les peres en total?: {}\".format (ex4b))\n",
    "\n",
    "x = compra.keys()\n",
    "ex4c = len(x)\n",
    "print (\"Quantes fruites hem comprat?: {}\".format (x))\n",
    "print (\"en total?: {}\".format (ex4c))\n",
    "\n",
    "\n",
    "a= compra.items()\n",
    "ex4b = compra[\"Peres\"][\"€\"]\n",
    "print (\"Quina és la fruita més cara?: {}\".format (a))\n"
   ]
  }
 ],
 "metadata": {
  "kernelspec": {
   "display_name": "Python 3 (ipykernel)",
   "language": "python",
   "name": "python3"
  },
  "language_info": {
   "codemirror_mode": {
    "name": "ipython",
    "version": 3
   },
   "file_extension": ".py",
   "mimetype": "text/x-python",
   "name": "python",
   "nbconvert_exporter": "python",
   "pygments_lexer": "ipython3",
   "version": "3.9.5"
  }
 },
 "nbformat": 4,
 "nbformat_minor": 5
}

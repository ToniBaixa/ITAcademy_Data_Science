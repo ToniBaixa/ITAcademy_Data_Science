{
 "cells": [
  {
   "cell_type": "markdown",
   "id": "2056e70e",
   "metadata": {},
   "source": [
    "# S02 T04: Pràctica amb programació numèrica"
   ]
  },
  {
   "cell_type": "markdown",
   "id": "2279cd19",
   "metadata": {},
   "source": [
    "### Ex1\n",
    "##### Crea una funció que donat un Array d’una dimensió, et faci un resum estadístic bàsic de les dades. Si detecta que l’array té més d’una dimensió, ha de mostrar un missatge d’error."
   ]
  },
  {
   "cell_type": "code",
   "execution_count": 1,
   "id": "3d24cd69",
   "metadata": {
    "ExecuteTime": {
     "end_time": "2022-05-04T15:35:55.570459Z",
     "start_time": "2022-05-04T15:35:55.497935Z"
    }
   },
   "outputs": [
    {
     "name": "stdout",
     "output_type": "stream",
     "text": [
      "Mitja:  4.5\n",
      "Variant:  5.25\n",
      "Desviació Típica:  2.29128784747792\n"
     ]
    }
   ],
   "source": [
    "import numpy as np\n",
    "\n",
    "def calc (matriu):\n",
    "    res=matriu.mean()\n",
    "    print(\"Mitja: \",res)\n",
    "    res=matriu.var()\n",
    "    print(\"Variant: \",res)\n",
    "    res=matriu.std()\n",
    "    print(\"Desviació Típica: \",res)\n",
    "\n",
    "# 2 arrays: una 1D (coorecta) i una 3x4 (incorrecta)\n",
    "arr = np.array ([1,2,3,4,5,6,7,8])\n",
    "arr_wrong = np.array([[ 0.0,  0.0,  0.0],[10.0, 10.0, 10.0],[20.0, 20.0, 20.0],[30.0, 30.0, 30.0]])\n",
    "\n",
    "a = str(input(\"Decideixi quina array vol usar: 1D(premi G) or Wrong(B)\")).upper()\n",
    "if a == \"G\":\n",
    "    arr_final = arr\n",
    "else:\n",
    "    arr_final = arr_wrong\n",
    "\n",
    "\n",
    "if arr_final.ndim ==1:\n",
    "    calc(arr_final)\n",
    "else:\n",
    "    print(\"Error: només podem procesar matrius 1D\")"
   ]
  },
  {
   "cell_type": "markdown",
   "id": "cd199929",
   "metadata": {},
   "source": [
    "### Ex2\n",
    "##### Crea una funció que et generi un quadrat NxN de nombres aleatoris entre el 0 i el 100."
   ]
  },
  {
   "cell_type": "code",
   "execution_count": 2,
   "id": "b5d19692",
   "metadata": {
    "ExecuteTime": {
     "end_time": "2022-05-04T15:35:55.637818Z",
     "start_time": "2022-05-04T15:35:55.604920Z"
    }
   },
   "outputs": [
    {
     "data": {
      "text/plain": [
       "array([[10, 21, 86],\n",
       "       [60, 89,  6],\n",
       "       [13, 18,  6]])"
      ]
     },
     "execution_count": 2,
     "metadata": {},
     "output_type": "execute_result"
    }
   ],
   "source": [
    "np.random.randint(0,100,size=(3,3))"
   ]
  },
  {
   "cell_type": "markdown",
   "id": "6c6d60f9",
   "metadata": {},
   "source": [
    "### Ex3  \n",
    "##### Crea una funció que donada una taula de dues dimensions, et calculi els totals per fila i els totals per columna."
   ]
  },
  {
   "cell_type": "code",
   "execution_count": 3,
   "id": "82c9be53",
   "metadata": {
    "ExecuteTime": {
     "end_time": "2022-05-04T15:35:55.725804Z",
     "start_time": "2022-05-04T15:35:55.659299Z"
    },
    "scrolled": true
   },
   "outputs": [
    {
     "name": "stdout",
     "output_type": "stream",
     "text": [
      "[[90 25]\n",
      " [96 43]]\n",
      "Total per Columna = [186  68]\n",
      "Total per Fila = [115 139]\n"
     ]
    }
   ],
   "source": [
    "taula = np.random.randint(0,100,size=(2,2))\n",
    "print (taula)\n",
    "print (\"Total per Columna = {}\".format(np.sum(taula, axis=0)))\n",
    "print (\"Total per Fila = {}\".format(np.sum(taula, axis=1)))"
   ]
  },
  {
   "cell_type": "markdown",
   "id": "65bddac0",
   "metadata": {},
   "source": [
    "### Ex4\n",
    "##### Implementa manualment una funció que calculi el coeficient de correlació. Informa’t-en sobre els seus usos i interpretació.\n",
    "###### Coeficient de correlació = l'associació lineal entre variables.\n",
    "###### Valor -1 = correlació negativa completa\n",
    "###### Valor 0 = sense correlació \n",
    "###### Valor 0.0-0.4 = correlació  dèbil\n",
    "###### Valor 0.4-0.6 = correlació  moderada\n",
    "###### Valor 0.6-0.8 = correlació  forta\n",
    "###### Valor 1 = correlació possitiva completa"
   ]
  },
  {
   "cell_type": "markdown",
   "id": "15c201b3",
   "metadata": {},
   "source": [
    "###### Correlació de Pearson:\n",
    "###### Davant de dues variables aleatoòries, X & Y.\n",
    "###### si (σXY) es la covariança entre X i Yy (σX) és la desviació standard de X\n",
    "######  Covariança (X- mitja de X) * (Y- mitja d'Y) es suma a cada valor i es divideix pel tamany de la mostra\n",
    "###### coeficient de correlació = rho_ {X, Y} = frac { sigma_ {XY}} { sigma_X sigma_Y}\n",
    "###### Coeficient = covariança / arrel quadrada del producte de les variances de X & Y"
   ]
  },
  {
   "cell_type": "code",
   "execution_count": 4,
   "id": "21202a91",
   "metadata": {},
   "outputs": [
    {
     "name": "stdout",
     "output_type": "stream",
     "text": [
      "Covariança: 440.4200000000001\n",
      "Correlació: 0.9864259364005639\n",
      "Molt ALTA correlació possitiva!\n"
     ]
    }
   ],
   "source": [
    "kgs= [72,76,78,81,89,95,108,115,120,130] # pes de 10 pacients\n",
    "tensio = [115,121,125,130,141,150,165,170,177,178] # Tensió arterial sistòlica (mm Hg)\n",
    "x=kgs\n",
    "y=tensio\n",
    "\n",
    "x_prom = np.sum(x)/len(x)\n",
    "y_prom = np.sum(y)/len(y)\n",
    "for a in range(len(x)):\n",
    "    x1 = x-x_prom\n",
    "for a in range(len(y)):\n",
    "    y1 = y-y_prom\n",
    "\n",
    "\n",
    "# x*y\n",
    "xy = []\n",
    "for a in range(len(x)):\n",
    "    xy.insert(a,x[a] * y[a])\n",
    "x2=[]\n",
    "for a in range(len(x)):\n",
    "    x2.insert(a,x[a] * x[a])\n",
    "y2=[]\n",
    "for a in range(len(y)):\n",
    "    y2.insert(a, y[a] * y[a])\n",
    "\n",
    "#totals  \n",
    "sumx = np.sum(x)\n",
    "sumy = np.sum(y)\n",
    "sumxy = np.sum(xy)\n",
    "sumx2 = np.sum(x2)\n",
    "sumy2 = np.sum(y2)\n",
    "#mitjanes\n",
    "mediax= sumx/len(x)\n",
    "mediay= sumy/len(y)\n",
    "\n",
    "covariança = (sumxy/len(x)) -(mediax*mediay)\n",
    "\n",
    "print(\"Covariança: {}\".format(covariança))\n",
    "\n",
    "#desviacions \n",
    "desx = np.sqrt((sumx2/len(x))-(mediax*mediax))\n",
    "desy = np.sqrt((sumy2/len(y))-(mediay*mediay))\n",
    "\n",
    "corr_Pearson = covariança / (desx*desy)\n",
    "print (\"Correlació: {}\".format(corr_Pearson))\n",
    "print (\"Molt ALTA correlació possitiva!\")\n"
   ]
  },
  {
   "cell_type": "code",
   "execution_count": 5,
   "metadata": {},
   "outputs": [
    {
     "name": "stdout",
     "output_type": "stream",
     "text": [
      "0.986425936400566\n",
      "[[1.         0.98642594]\n",
      " [0.98642594 1.        ]]\n",
      "Molt ALTA correlació possitiva!\n"
     ]
    }
   ],
   "source": [
    "# usant la funció corrcoef de numpy\n",
    "# https://numpy.org/doc/stable/reference/generated/numpy.corrcoef.html\n",
    " \n",
    "print(np.mean(np.multiply((x-np.mean(x)),(y-np.mean(y))))/(np.std(y)*np.std(x))) \n",
    "print(np.corrcoef(x,y))\n",
    "print (\"Molt ALTA correlació possitiva!\")"
   ]
  }
 ],
 "metadata": {
  "interpreter": {
   "hash": "c347c8f9a7ef94e4c9e03b4513be7835ed18f45b99a2a817fb579f408b867b16"
  },
  "kernelspec": {
   "display_name": "Python 3.9.5 64-bit",
   "language": "python",
   "name": "python3"
  },
  "language_info": {
   "codemirror_mode": {
    "name": "ipython",
    "version": 3
   },
   "file_extension": ".py",
   "mimetype": "text/x-python",
   "name": "python",
   "nbconvert_exporter": "python",
   "pygments_lexer": "ipython3",
   "version": "3.9.5"
  }
 },
 "nbformat": 4,
 "nbformat_minor": 5
}

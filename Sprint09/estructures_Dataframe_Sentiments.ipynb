{
 "cells": [
  {
   "cell_type": "markdown",
   "id": "2056e70e",
   "metadata": {},
   "source": [
    "# Tasca M9 T01"
   ]
  },
  {
   "cell_type": "markdown",
   "id": "2279cd19",
   "metadata": {},
   "source": [
    "### Ex1\n",
    "##### Agafa un text en anglès que vulguis, i calcula'n la freqüència de les paraules."
   ]
  },
  {
   "cell_type": "code",
   "execution_count": 94,
   "id": "3d24cd69",
   "metadata": {
    "ExecuteTime": {
     "end_time": "2022-05-04T15:35:55.570459Z",
     "start_time": "2022-05-04T15:35:55.497935Z"
    }
   },
   "outputs": [],
   "source": [
    "%matplotlib inline\n",
    "import numpy as np\n",
    "import pandas as pd\n",
    "import nltk\n"
   ]
  },
  {
   "cell_type": "code",
   "execution_count": 95,
   "id": "816f063d",
   "metadata": {},
   "outputs": [],
   "source": [
    "from nltk.tokenize import sent_tokenize\n",
    "text=\"\"\"NLTK is a leading platform for building Python programs to work with human language data. It provides easy-to-use interfaces to over 50 corpora and lexical resources such as WordNet, along with a suite of text processing libraries for classification, tokenization, stemming, tagging, parsing, and semantic reasoning, wrappers for industrial-strength NLP libraries, and an active discussion forum.\n",
    "Thanks to a hands-on guide introducing programming fundamentals alongside topics in computational linguistics, plus comprehensive API documentation, NLTK is suitable for linguists, engineers, students, educators, researchers, and industry users alike. NLTK is available for Windows, Mac OS X, and Linux. Best of all, NLTK is a free, open source, community-driven project.\n",
    "NLTK has been called “a wonderful tool for teaching, and working in, computational linguistics using Python,” and “an amazing library to play with natural language.” Natural Language Processing with Python provides a practical introduction to programming for language processing. Written by the creators of NLTK, it guides the reader through the fundamentals of writing Python programs, working with corpora, categorizing text, analyzing linguistic structure, and more. The online version of the book has been been updated for Python 3 and NLTK 3. (The original Python 2 version is still available at https://www.nltk.org/book_1ed.)\"\"\""
   ]
  },
  {
   "cell_type": "code",
   "execution_count": 96,
   "id": "e4b9e585",
   "metadata": {},
   "outputs": [
    {
     "name": "stdout",
     "output_type": "stream",
     "text": [
      "['NLTK is a leading platform for building Python programs to work with human language data.', 'It provides easy-to-use interfaces to over 50 corpora and lexical resources such as WordNet, along with a suite of text processing libraries for classification, tokenization, stemming, tagging, parsing, and semantic reasoning, wrappers for industrial-strength NLP libraries, and an active discussion forum.', 'Thanks to a hands-on guide introducing programming fundamentals alongside topics in computational linguistics, plus comprehensive API documentation, NLTK is suitable for linguists, engineers, students, educators, researchers, and industry users alike.', 'NLTK is available for Windows, Mac OS X, and Linux.', 'Best of all, NLTK is a free, open source, community-driven project.', 'NLTK has been called “a wonderful tool for teaching, and working in, computational linguistics using Python,” and “an amazing library to play with natural language.” Natural Language Processing with Python provides a practical introduction to programming for language processing.', 'Written by the creators of NLTK, it guides the reader through the fundamentals of writing Python programs, working with corpora, categorizing text, analyzing linguistic structure, and more.', 'The online version of the book has been been updated for Python 3 and NLTK 3.', '(The original Python 2 version is still available at https://www.nltk.org/book_1ed.)']\n"
     ]
    }
   ],
   "source": [
    "# breaking down the whole text into sentences\n",
    "tokenized_text=sent_tokenize(text)\n",
    "print(tokenized_text)"
   ]
  },
  {
   "cell_type": "code",
   "execution_count": 112,
   "id": "4d40457a",
   "metadata": {},
   "outputs": [
    {
     "name": "stdout",
     "output_type": "stream",
     "text": [
      "['NLTK', 'is', 'a', 'leading', 'platform', 'for', 'building', 'Python', 'programs', 'to', 'work', 'with', 'human', 'language', 'data', '.', 'It', 'provides', 'easy-to-use', 'interfaces', 'to', 'over', '50', 'corpora', 'and', 'lexical', 'resources', 'such', 'as', 'WordNet', ',', 'along', 'with', 'a', 'suite', 'of', 'text', 'processing', 'libraries', 'for', 'classification', ',', 'tokenization', ',', 'stemming', ',', 'tagging', ',', 'parsing', ',', 'and', 'semantic', 'reasoning', ',', 'wrappers', 'for', 'industrial-strength', 'NLP', 'libraries', ',', 'and', 'an', 'active', 'discussion', 'forum', '.', 'Thanks', 'to', 'a', 'hands-on', 'guide', 'introducing', 'programming', 'fundamentals', 'alongside', 'topics', 'in', 'computational', 'linguistics', ',', 'plus', 'comprehensive', 'API', 'documentation', ',', 'NLTK', 'is', 'suitable', 'for', 'linguists', ',', 'engineers', ',', 'students', ',', 'educators', ',', 'researchers', ',', 'and', 'industry', 'users', 'alike', '.', 'NLTK', 'is', 'available', 'for', 'Windows', ',', 'Mac', 'OS', 'X', ',', 'and', 'Linux', '.', 'Best', 'of', 'all', ',', 'NLTK', 'is', 'a', 'free', ',', 'open', 'source', ',', 'community-driven', 'project', '.', 'NLTK', 'has', 'been', 'called', '“', 'a', 'wonderful', 'tool', 'for', 'teaching', ',', 'and', 'working', 'in', ',', 'computational', 'linguistics', 'using', 'Python', ',', '”', 'and', '“', 'an', 'amazing', 'library', 'to', 'play', 'with', 'natural', 'language.', '”', 'Natural', 'Language', 'Processing', 'with', 'Python', 'provides', 'a', 'practical', 'introduction', 'to', 'programming', 'for', 'language', 'processing', '.', 'Written', 'by', 'the', 'creators', 'of', 'NLTK', ',', 'it', 'guides', 'the', 'reader', 'through', 'the', 'fundamentals', 'of', 'writing', 'Python', 'programs', ',', 'working', 'with', 'corpora', ',', 'categorizing', 'text', ',', 'analyzing', 'linguistic', 'structure', ',', 'and', 'more', '.', 'The', 'online', 'version', 'of', 'the', 'book', 'has', 'been', 'been', 'updated', 'for', 'Python', '3', 'and', 'NLTK', '3', '.', '(', 'The', 'original', 'Python', '2', 'version', 'is', 'still', 'available', 'at', 'https', ':', '//www.nltk.org/book_1ed', '.', ')']\n"
     ]
    }
   ],
   "source": [
    "# breaking down the whole text into words\n",
    "from nltk.tokenize import word_tokenize\n",
    "\n",
    "tokenized_word = word_tokenize(text)\n",
    "print(tokenized_word)"
   ]
  },
  {
   "cell_type": "code",
   "execution_count": 98,
   "id": "86e6d1f3",
   "metadata": {},
   "outputs": [
    {
     "data": {
      "text/plain": [
       "244"
      ]
     },
     "execution_count": 98,
     "metadata": {},
     "output_type": "execute_result"
    }
   ],
   "source": [
    "# count them\n",
    "len(tokenized_word)"
   ]
  },
  {
   "cell_type": "markdown",
   "id": "8c6063e8",
   "metadata": {},
   "source": [
    "##### Clean punctuation, just for statistics purposes."
   ]
  },
  {
   "cell_type": "code",
   "execution_count": 113,
   "id": "b15ec944",
   "metadata": {},
   "outputs": [
    {
     "name": "stdout",
     "output_type": "stream",
     "text": [
      "['NLTK', 'is', 'a', 'leading', 'platform', 'for', 'building', 'Python', 'programs', 'to', 'work', 'with', 'human', 'language', 'data', 'It', 'provides', 'easy', 'to', 'use', 'interfaces', 'to', 'over', '50', 'corpora', 'and', 'lexical', 'resources', 'such', 'as', 'WordNet', 'along', 'with', 'a', 'suite', 'of', 'text', 'processing', 'libraries', 'for', 'classification', 'tokenization', 'stemming', 'tagging', 'parsing', 'and', 'semantic', 'reasoning', 'wrappers', 'for', 'industrial', 'strength', 'NLP', 'libraries', 'and', 'an', 'active', 'discussion', 'forum', 'Thanks', 'to', 'a', 'hands', 'on', 'guide', 'introducing', 'programming', 'fundamentals', 'alongside', 'topics', 'in', 'computational', 'linguistics', 'plus', 'comprehensive', 'API', 'documentation', 'NLTK', 'is', 'suitable', 'for', 'linguists', 'engineers', 'students', 'educators', 'researchers', 'and', 'industry', 'users', 'alike', 'NLTK', 'is', 'available', 'for', 'Windows', 'Mac', 'OS', 'X', 'and', 'Linux', 'Best', 'of', 'all', 'NLTK', 'is', 'a', 'free', 'open', 'source', 'community', 'driven', 'project', 'NLTK', 'has', 'been', 'called', 'a', 'wonderful', 'tool', 'for', 'teaching', 'and', 'working', 'in', 'computational', 'linguistics', 'using', 'Python', 'and', 'an', 'amazing', 'library', 'to', 'play', 'with', 'natural', 'language', 'Natural', 'Language', 'Processing', 'with', 'Python', 'provides', 'a', 'practical', 'introduction', 'to', 'programming', 'for', 'language', 'processing', 'Written', 'by', 'the', 'creators', 'of', 'NLTK', 'it', 'guides', 'the', 'reader', 'through', 'the', 'fundamentals', 'of', 'writing', 'Python', 'programs', 'working', 'with', 'corpora', 'categorizing', 'text', 'analyzing', 'linguistic', 'structure', 'and', 'more', 'The', 'online', 'version', 'of', 'the', 'book', 'has', 'been', 'been', 'updated', 'for', 'Python', '3', 'and', 'NLTK', '3', 'The', 'original', 'Python', '2', 'version', 'is', 'still', 'available', 'at', 'https', 'www', 'nltk', 'org', 'book_1ed']\n"
     ]
    }
   ],
   "source": [
    "# using RegexpTokenizer\n",
    "from nltk.tokenize import RegexpTokenizer\n",
    "tokenizer = RegexpTokenizer(r'\\w+')\n",
    "words = tokenizer.tokenize(text)\n",
    "print (words)"
   ]
  },
  {
   "cell_type": "code",
   "execution_count": 114,
   "id": "492c4ae0",
   "metadata": {},
   "outputs": [
    {
     "name": "stdout",
     "output_type": "stream",
     "text": [
      "['NLTK', 'is', 'a', 'leading', 'platform', 'for', 'building', 'Python', 'programs', 'to', 'work', 'with', 'human', 'language', 'data', 'It', 'provides', 'interfaces', 'to', 'over', '50', 'corpora', 'and', 'lexical', 'resources', 'such', 'as', 'WordNet', 'along', 'with', 'a', 'suite', 'of', 'text', 'processing', 'libraries', 'for', 'classification', 'tokenization', 'stemming', 'tagging', 'parsing', 'and', 'semantic', 'reasoning', 'wrappers', 'for', 'NLP', 'libraries', 'and', 'an', 'active', 'discussion', 'forum', 'Thanks', 'to', 'a', 'guide', 'introducing', 'programming', 'fundamentals', 'alongside', 'topics', 'in', 'computational', 'linguistics', 'plus', 'comprehensive', 'API', 'documentation', 'NLTK', 'is', 'suitable', 'for', 'linguists', 'engineers', 'students', 'educators', 'researchers', 'and', 'industry', 'users', 'alike', 'NLTK', 'is', 'available', 'for', 'Windows', 'Mac', 'OS', 'X', 'and', 'Linux', 'Best', 'of', 'all', 'NLTK', 'is', 'a', 'free', 'open', 'source', 'project', 'NLTK', 'has', 'been', 'called', 'a', 'wonderful', 'tool', 'for', 'teaching', 'and', 'working', 'in', 'computational', 'linguistics', 'using', 'Python', 'and', 'an', 'amazing', 'library', 'to', 'play', 'with', 'natural', 'Natural', 'Language', 'Processing', 'with', 'Python', 'provides', 'a', 'practical', 'introduction', 'to', 'programming', 'for', 'language', 'processing', 'Written', 'by', 'the', 'creators', 'of', 'NLTK', 'it', 'guides', 'the', 'reader', 'through', 'the', 'fundamentals', 'of', 'writing', 'Python', 'programs', 'working', 'with', 'corpora', 'categorizing', 'text', 'analyzing', 'linguistic', 'structure', 'and', 'more', 'The', 'online', 'version', 'of', 'the', 'book', 'has', 'been', 'been', 'updated', 'for', 'Python', '3', 'and', 'NLTK', '3', 'The', 'original', 'Python', '2', 'version', 'is', 'still', 'available', 'at', 'https']\n"
     ]
    }
   ],
   "source": [
    "# using word_tokenize\n",
    "from nltk.tokenize import word_tokenize\n",
    "words = nltk.word_tokenize(text)\n",
    "new_words= [word for word in words if word.isalnum()]\n",
    "\n",
    "print(new_words)"
   ]
  },
  {
   "cell_type": "markdown",
   "id": "53065300",
   "metadata": {},
   "source": [
    "\n",
    "Frequency Distribution\n"
   ]
  },
  {
   "cell_type": "code",
   "execution_count": 117,
   "id": "fdc175fa",
   "metadata": {},
   "outputs": [
    {
     "name": "stdout",
     "output_type": "stream",
     "text": [
      "<FreqDist with 123 samples and 194 outcomes>\n"
     ]
    }
   ],
   "source": [
    "from nltk.probability import FreqDist\n",
    "\n",
    "fdist = FreqDist(new_words)\n",
    "print(fdist)"
   ]
  },
  {
   "cell_type": "code",
   "execution_count": 119,
   "id": "4237ba44",
   "metadata": {},
   "outputs": [
    {
     "data": {
      "text/plain": [
       "[('and', 9),\n",
       " ('for', 8),\n",
       " ('NLTK', 7),\n",
       " ('a', 6),\n",
       " ('Python', 6),\n",
       " ('is', 5),\n",
       " ('to', 5),\n",
       " ('with', 5),\n",
       " ('of', 5),\n",
       " ('the', 4)]"
      ]
     },
     "execution_count": 119,
     "metadata": {},
     "output_type": "execute_result"
    }
   ],
   "source": [
    "fdist.most_common(10)"
   ]
  },
  {
   "cell_type": "code",
   "execution_count": 121,
   "id": "cad29e3f",
   "metadata": {},
   "outputs": [
    {
     "data": {
      "image/png": "[encoded data removed]",
      "text/plain": [
       "<Figure size 432x288 with 1 Axes>"
      ]
     },
     "metadata": {
      "needs_background": "light"
     },
     "output_type": "display_data"
    }
   ],
   "source": [
    "# Frequency Distribution Plot\n",
    "import matplotlib.pyplot as plt\n",
    "\n",
    "fdist.plot(10, cumulative=False)\n",
    "plt.show()"
   ]
  },
  {
   "cell_type": "markdown",
   "id": "cd199929",
   "metadata": {},
   "source": [
    "### Ex2\n",
    "##### Treu les stopwords i realitza stemming al teu conjunt de dades."
   ]
  },
  {
   "cell_type": "code",
   "execution_count": 122,
   "id": "2ffae719",
   "metadata": {},
   "outputs": [
    {
     "name": "stdout",
     "output_type": "stream",
     "text": [
      "{'where', 'at', 'no', 'yourself', 'again', 'i', 'which', 'isn', 'other', 'nor', 'this', \"you'd\", \"you're\", 'just', 'an', 'll', 'herself', 'before', 're', 'were', 'doing', 'its', \"hasn't\", 'by', 'what', 'because', \"couldn't\", \"shouldn't\", 'own', 'down', \"doesn't\", 'your', 'against', 'these', 'haven', 'after', 'do', \"you've\", 'y', 'only', 'should', 'had', 'they', 't', \"haven't\", 'd', 'myself', 'not', 'when', \"isn't\", 'through', 'if', 'most', 'from', 'between', 'off', 'don', 'am', 'out', 'she', 'in', 'here', 'doesn', 'shan', 'ours', 'was', 'who', 'both', 'couldn', 'the', 'why', 'hasn', 'ourselves', 'her', 'until', 'has', \"weren't\", 'itself', \"wouldn't\", 'having', 'and', 'hadn', 'how', 'so', 'you', 'weren', 'very', 'theirs', 'are', 'does', 'too', 'him', \"don't\", 'we', 'to', 'wasn', 'further', \"should've\", 'once', 'them', 'been', 'those', 'did', 'm', 'for', 'their', 'shouldn', 'it', 's', 'mightn', 'with', 've', 'hers', 'be', 'all', 'some', 'few', 'will', 'can', \"mustn't\", 'each', 'needn', 'into', 'same', \"won't\", 'while', 'our', 'then', 'during', \"needn't\", 'more', 'than', \"she's\", 'below', 'but', 'under', 'now', 'my', 'he', 'of', \"shan't\", 'wouldn', 'that', 'a', 'yourselves', 'didn', 'o', \"hadn't\", \"it's\", 'is', 'or', 'up', 'ma', \"wasn't\", 'have', \"you'll\", \"mightn't\", 'over', 'ain', 'on', 'his', 'yours', 'aren', 'above', \"that'll\", 'any', 'himself', 'whom', 'me', \"didn't\", 'mustn', 'about', 'themselves', 'as', 'there', 'being', 'won', 'such', \"aren't\"}\n"
     ]
    },
    {
     "name": "stderr",
     "output_type": "stream",
     "text": [
      "[nltk_data] Downloading package stopwords to C:\\Users\\Toni\n",
      "[nltk_data]     Andreu\\AppData\\Roaming\\nltk_data...\n",
      "[nltk_data]   Package stopwords is already up-to-date!\n"
     ]
    }
   ],
   "source": [
    "nltk.download('stopwords')\n",
    "\n",
    "from nltk.corpus import stopwords\n",
    "stop_words = set(stopwords.words(\"english\"))\n",
    "print(stop_words)"
   ]
  },
  {
   "cell_type": "code",
   "execution_count": 123,
   "id": "07740bf2",
   "metadata": {},
   "outputs": [
    {
     "name": "stdout",
     "output_type": "stream",
     "text": [
      "Tokenized Sentence: ['NLTK', 'is', 'a', 'leading', 'platform', 'for', 'building', 'Python', 'programs', 'to', 'work', 'with', 'human', 'language', 'data', '.', 'It', 'provides', 'easy-to-use', 'interfaces', 'to', 'over', '50', 'corpora', 'and', 'lexical', 'resources', 'such', 'as', 'WordNet', ',', 'along', 'with', 'a', 'suite', 'of', 'text', 'processing', 'libraries', 'for', 'classification', ',', 'tokenization', ',', 'stemming', ',', 'tagging', ',', 'parsing', ',', 'and', 'semantic', 'reasoning', ',', 'wrappers', 'for', 'industrial-strength', 'NLP', 'libraries', ',', 'and', 'an', 'active', 'discussion', 'forum', '.', 'Thanks', 'to', 'a', 'hands-on', 'guide', 'introducing', 'programming', 'fundamentals', 'alongside', 'topics', 'in', 'computational', 'linguistics', ',', 'plus', 'comprehensive', 'API', 'documentation', ',', 'NLTK', 'is', 'suitable', 'for', 'linguists', ',', 'engineers', ',', 'students', ',', 'educators', ',', 'researchers', ',', 'and', 'industry', 'users', 'alike', '.', 'NLTK', 'is', 'available', 'for', 'Windows', ',', 'Mac', 'OS', 'X', ',', 'and', 'Linux', '.', 'Best', 'of', 'all', ',', 'NLTK', 'is', 'a', 'free', ',', 'open', 'source', ',', 'community-driven', 'project', '.', 'NLTK', 'has', 'been', 'called', '“', 'a', 'wonderful', 'tool', 'for', 'teaching', ',', 'and', 'working', 'in', ',', 'computational', 'linguistics', 'using', 'Python', ',', '”', 'and', '“', 'an', 'amazing', 'library', 'to', 'play', 'with', 'natural', 'language.', '”', 'Natural', 'Language', 'Processing', 'with', 'Python', 'provides', 'a', 'practical', 'introduction', 'to', 'programming', 'for', 'language', 'processing', '.', 'Written', 'by', 'the', 'creators', 'of', 'NLTK', ',', 'it', 'guides', 'the', 'reader', 'through', 'the', 'fundamentals', 'of', 'writing', 'Python', 'programs', ',', 'working', 'with', 'corpora', ',', 'categorizing', 'text', ',', 'analyzing', 'linguistic', 'structure', ',', 'and', 'more', '.', 'The', 'online', 'version', 'of', 'the', 'book', 'has', 'been', 'been', 'updated', 'for', 'Python', '3', 'and', 'NLTK', '3', '.', '(', 'The', 'original', 'Python', '2', 'version', 'is', 'still', 'available', 'at', 'https', ':', '//www.nltk.org/book_1ed', '.', ')']\n",
      "----------------\n",
      "Filterd Sentence: ['NLTK', 'leading', 'platform', 'building', 'Python', 'programs', 'work', 'human', 'language', 'data', 'It', 'provides', 'interfaces', '50', 'corpora', 'lexical', 'resources', 'WordNet', 'along', 'suite', 'text', 'processing', 'libraries', 'classification', 'tokenization', 'stemming', 'tagging', 'parsing', 'semantic', 'reasoning', 'wrappers', 'NLP', 'libraries', 'active', 'discussion', 'forum', 'Thanks', 'guide', 'introducing', 'programming', 'fundamentals', 'alongside', 'topics', 'computational', 'linguistics', 'plus', 'comprehensive', 'API', 'documentation', 'NLTK', 'suitable', 'linguists', 'engineers', 'students', 'educators', 'researchers', 'industry', 'users', 'alike', 'NLTK', 'available', 'Windows', 'Mac', 'OS', 'X', 'Linux', 'Best', 'NLTK', 'free', 'open', 'source', 'project', 'NLTK', 'called', 'wonderful', 'tool', 'teaching', 'working', 'computational', 'linguistics', 'using', 'Python', 'amazing', 'library', 'play', 'natural', 'Natural', 'Language', 'Processing', 'Python', 'provides', 'practical', 'introduction', 'programming', 'language', 'processing', 'Written', 'creators', 'NLTK', 'guides', 'reader', 'fundamentals', 'writing', 'Python', 'programs', 'working', 'corpora', 'categorizing', 'text', 'analyzing', 'linguistic', 'structure', 'The', 'online', 'version', 'book', 'updated', 'Python', '3', 'NLTK', '3', 'The', 'original', 'Python', '2', 'version', 'still', 'available', 'https']\n"
     ]
    }
   ],
   "source": [
    "#removing stopwords now\n",
    "filtered_sent = []\n",
    "\n",
    "for w in new_words:\n",
    "    if w not in stop_words:\n",
    "        filtered_sent.append(w)\n",
    "\n",
    "print(\"Tokenized Sentence:\",tokenized_word)\n",
    "print (\"----------------\")\n",
    "print(\"Filterd Sentence:\",filtered_sent)"
   ]
  },
  {
   "cell_type": "markdown",
   "id": "fc25d1bf",
   "metadata": {},
   "source": [
    "#### Stemming"
   ]
  },
  {
   "cell_type": "code",
   "execution_count": 124,
   "id": "656391e2",
   "metadata": {},
   "outputs": [
    {
     "name": "stdout",
     "output_type": "stream",
     "text": [
      "Filtered Sentence: ['NLTK', 'leading', 'platform', 'building', 'Python', 'programs', 'work', 'human', 'language', 'data', 'It', 'provides', 'interfaces', '50', 'corpora', 'lexical', 'resources', 'WordNet', 'along', 'suite', 'text', 'processing', 'libraries', 'classification', 'tokenization', 'stemming', 'tagging', 'parsing', 'semantic', 'reasoning', 'wrappers', 'NLP', 'libraries', 'active', 'discussion', 'forum', 'Thanks', 'guide', 'introducing', 'programming', 'fundamentals', 'alongside', 'topics', 'computational', 'linguistics', 'plus', 'comprehensive', 'API', 'documentation', 'NLTK', 'suitable', 'linguists', 'engineers', 'students', 'educators', 'researchers', 'industry', 'users', 'alike', 'NLTK', 'available', 'Windows', 'Mac', 'OS', 'X', 'Linux', 'Best', 'NLTK', 'free', 'open', 'source', 'project', 'NLTK', 'called', 'wonderful', 'tool', 'teaching', 'working', 'computational', 'linguistics', 'using', 'Python', 'amazing', 'library', 'play', 'natural', 'Natural', 'Language', 'Processing', 'Python', 'provides', 'practical', 'introduction', 'programming', 'language', 'processing', 'Written', 'creators', 'NLTK', 'guides', 'reader', 'fundamentals', 'writing', 'Python', 'programs', 'working', 'corpora', 'categorizing', 'text', 'analyzing', 'linguistic', 'structure', 'The', 'online', 'version', 'book', 'updated', 'Python', '3', 'NLTK', '3', 'The', 'original', 'Python', '2', 'version', 'still', 'available', 'https']\n",
      "Stemmed Sentence: ['nltk', 'lead', 'platform', 'build', 'python', 'program', 'work', 'human', 'languag', 'data', 'it', 'provid', 'interfac', '50', 'corpora', 'lexic', 'resourc', 'wordnet', 'along', 'suit', 'text', 'process', 'librari', 'classif', 'token', 'stem', 'tag', 'pars', 'semant', 'reason', 'wrapper', 'nlp', 'librari', 'activ', 'discuss', 'forum', 'thank', 'guid', 'introduc', 'program', 'fundament', 'alongsid', 'topic', 'comput', 'linguist', 'plu', 'comprehens', 'api', 'document', 'nltk', 'suitabl', 'linguist', 'engin', 'student', 'educ', 'research', 'industri', 'user', 'alik', 'nltk', 'avail', 'window', 'mac', 'os', 'x', 'linux', 'best', 'nltk', 'free', 'open', 'sourc', 'project', 'nltk', 'call', 'wonder', 'tool', 'teach', 'work', 'comput', 'linguist', 'use', 'python', 'amaz', 'librari', 'play', 'natur', 'natur', 'languag', 'process', 'python', 'provid', 'practic', 'introduct', 'program', 'languag', 'process', 'written', 'creator', 'nltk', 'guid', 'reader', 'fundament', 'write', 'python', 'program', 'work', 'corpora', 'categor', 'text', 'analyz', 'linguist', 'structur', 'the', 'onlin', 'version', 'book', 'updat', 'python', '3', 'nltk', '3', 'the', 'origin', 'python', '2', 'version', 'still', 'avail', 'http']\n"
     ]
    }
   ],
   "source": [
    "# Stemming\n",
    "from nltk.stem import PorterStemmer\n",
    "from nltk.tokenize import sent_tokenize, word_tokenize\n",
    "\n",
    "ps = PorterStemmer()\n",
    "\n",
    "stemmed_words = []\n",
    "for w in filtered_sent:\n",
    "    stemmed_words.append(ps.stem(w))\n",
    "\n",
    "print(\"Filtered Sentence:\",filtered_sent)\n",
    "print(\"Stemmed Sentence:\",stemmed_words)  "
   ]
  },
  {
   "cell_type": "code",
   "execution_count": 125,
   "id": "4f984920",
   "metadata": {},
   "outputs": [
    {
     "data": {
      "text/plain": [
       "129"
      ]
     },
     "execution_count": 125,
     "metadata": {},
     "output_type": "execute_result"
    }
   ],
   "source": [
    "len (stemmed_words)"
   ]
  },
  {
   "cell_type": "markdown",
   "id": "6c6d60f9",
   "metadata": {},
   "source": [
    "### Ex3  \n",
    "##### Realitza sentiment analysis al teu conjunt de dades."
   ]
  },
  {
   "cell_type": "code",
   "execution_count": 129,
   "id": "e4ff8921",
   "metadata": {},
   "outputs": [
    {
     "data": {
      "text/plain": [
       "Sentiment(polarity=0.3289215686274509, subjectivity=0.5058823529411764)"
      ]
     },
     "execution_count": 129,
     "metadata": {},
     "output_type": "execute_result"
    }
   ],
   "source": [
    "# pip install -U textblob\n",
    "# python -m textblob.download_corpora\n",
    "from textblob import TextBlob\n",
    "wiki = TextBlob(text)\n",
    "wiki.sentiment"
   ]
  },
  {
   "cell_type": "code",
   "execution_count": 135,
   "id": "917933b2",
   "metadata": {},
   "outputs": [
    {
     "data": {
      "text/plain": [
       "0.3289215686274509"
      ]
     },
     "execution_count": 135,
     "metadata": {},
     "output_type": "execute_result"
    }
   ],
   "source": [
    "wiki.sentiment.polarity"
   ]
  },
  {
   "cell_type": "code",
   "execution_count": 131,
   "id": "6062c1a0",
   "metadata": {},
   "outputs": [
    {
     "data": {
      "text/plain": [
       "[Sentence(\"NLTK is a leading platform for building Python programs to work with human language data.\"),\n",
       " Sentence(\"It provides easy-to-use interfaces to over 50 corpora and lexical resources such as WordNet, along with a suite of text processing libraries for classification, tokenization, stemming, tagging, parsing, and semantic reasoning, wrappers for industrial-strength NLP libraries, and an active discussion forum.\"),\n",
       " Sentence(\"Thanks to a hands-on guide introducing programming fundamentals alongside topics in computational linguistics, plus comprehensive API documentation, NLTK is suitable for linguists, engineers, students, educators, researchers, and industry users alike.\"),\n",
       " Sentence(\"NLTK is available for Windows, Mac OS X, and Linux.\"),\n",
       " Sentence(\"Best of all, NLTK is a free, open source, community-driven project.\"),\n",
       " Sentence(\"NLTK has been called “a wonderful tool for teaching, and working in, computational linguistics using Python,” and “an amazing library to play with natural language.” Natural Language Processing with Python provides a practical introduction to programming for language processing.\"),\n",
       " Sentence(\"Written by the creators of NLTK, it guides the reader through the fundamentals of writing Python programs, working with corpora, categorizing text, analyzing linguistic structure, and more.\"),\n",
       " Sentence(\"The online version of the book has been been updated for Python 3 and NLTK 3.\"),\n",
       " Sentence(\"(The original Python 2 version is still available at https://www.nltk.org/book_1ed.)\")]"
      ]
     },
     "execution_count": 131,
     "metadata": {},
     "output_type": "execute_result"
    }
   ],
   "source": [
    "wiki.sentences"
   ]
  },
  {
   "cell_type": "code",
   "execution_count": 133,
   "id": "77686456",
   "metadata": {},
   "outputs": [
    {
     "name": "stdout",
     "output_type": "stream",
     "text": [
      "Sentiment(polarity=0.0, subjectivity=0.1)\n",
      "Sentiment(polarity=-0.06666666666666667, subjectivity=0.55)\n",
      "Sentiment(polarity=0.375, subjectivity=0.475)\n",
      "Sentiment(polarity=0.4, subjectivity=0.4)\n",
      "Sentiment(polarity=0.4666666666666666, subjectivity=0.5333333333333333)\n",
      "Sentiment(polarity=0.45000000000000007, subjectivity=0.6749999999999999)\n",
      "Sentiment(polarity=0.3, subjectivity=0.3)\n",
      "Sentiment(polarity=0.0, subjectivity=0.0)\n",
      "Sentiment(polarity=0.3875, subjectivity=0.575)\n"
     ]
    }
   ],
   "source": [
    "for sentence in wiki.sentences:\n",
    "    print(sentence.sentiment)"
   ]
  }
 ],
 "metadata": {
  "kernelspec": {
   "display_name": "Python 3.9.5 64-bit",
   "language": "python",
   "name": "python3"
  },
  "language_info": {
   "codemirror_mode": {
    "name": "ipython",
    "version": 3
   },
   "file_extension": ".py",
   "mimetype": "text/x-python",
   "name": "python",
   "nbconvert_exporter": "python",
   "pygments_lexer": "ipython3",
   "version": "3.9.5"
  },
  "vscode": {
   "interpreter": {
    "hash": "c347c8f9a7ef94e4c9e03b4513be7835ed18f45b99a2a817fb579f408b867b16"
   }
  }
 },
 "nbformat": 4,
 "nbformat_minor": 5
}

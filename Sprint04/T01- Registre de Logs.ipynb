{
 "cells": [
  {
   "cell_type": "markdown",
   "id": "2056e70e",
   "metadata": {},
   "source": [
    "# S04 T01: Transformació Registre Log amb Regular expressions\n",
    "##### L'anàlisi de registres és una funció important per al control i l'alerta, el compliment de les polítiques de seguretat, l'auditoria i el compliment normatiu, la resposta a incidents de seguretat i fins i tot les investigacions forenses. En analitzar les dades de registre, les empreses poden identificar més fàcilment les possibles amenaces i altres problemes, trobar la causa arrel i iniciar una resposta ràpida per mitigar els riscos."
   ]
  },
  {
   "cell_type": "markdown",
   "id": "17fb163f",
   "metadata": {},
   "source": [
    "##### L'analista ha d'assegurar-se que els registres consisteixen en una gamma completa de missatges i s'interpreten segons el context. Els elements de registre han d'estandaritzar-se, utilitzant els mateixos termes o terminologia, per evitar confusions i proporcionar cohesió.\n",
    "\n",
    "##### Com Científic de Dades se t'ha proporcionat accés als registres-Logs on queda registrada l'activitat de totes les visites a realitzades a la pàgina web de l'agència de viatges \"akumenius.com\"."
   ]
  },
  {
   "cell_type": "markdown",
   "id": "2279cd19",
   "metadata": {},
   "source": [
    "### Ex1\n",
    "##### Estandaritza, identifica i enumera cada un dels atributs / variables de l'estructura de l'arxiu \"Web_access_log-akumenius.com\" que trobaràs al repositori de GitHub \"Data-sources\"."
   ]
  },
  {
   "cell_type": "code",
   "execution_count": 105,
   "id": "3d24cd69",
   "metadata": {
    "ExecuteTime": {
     "end_time": "2022-05-04T15:35:55.570459Z",
     "start_time": "2022-05-04T15:35:55.497935Z"
    }
   },
   "outputs": [],
   "source": [
    "%matplotlib inline\n",
    "import numpy as np\n",
    "import pandas as pd\n",
    "import re\n"
   ]
  },
  {
   "cell_type": "markdown",
   "id": "e01280ad",
   "metadata": {},
   "source": [
    "#### VARIABLES:"
   ]
  },
  {
   "cell_type": "markdown",
   "id": "6f343fe0",
   "metadata": {},
   "source": [
    "#### 1- IP = www.akumenius.com + espai + IP + espai - -\n",
    "###### Després de la URL de akumenius podem localitzar la IP des de la que es fa la petició\n",
    "\n",
    "\n",
    "\n"
   ]
  },
  {
   "cell_type": "markdown",
   "id": "73b7643d",
   "metadata": {},
   "source": [
    "#### 2- - - [TIMESTAMP]\n",
    "##### Entre claudàtors el timestamp quan es fa la petició"
   ]
  },
  {
   "cell_type": "markdown",
   "id": "2d612a79",
   "metadata": {},
   "source": [
    "#### 3- POST/GET = ] + _ +\" + GET/POST + espai + /\n",
    "##### Si és un POST/GET"
   ]
  },
  {
   "cell_type": "markdown",
   "id": "7d97a3fd",
   "metadata": {},
   "source": [
    "#### 4- Path = primera / + espai + HTPP/1.1\""
   ]
  },
  {
   "cell_type": "markdown",
   "id": "76b6ba2b",
   "metadata": {},
   "source": [
    "#### 5- resposta server = HTPP/1.1\" + _ + Response + _\""
   ]
  },
  {
   "cell_type": "markdown",
   "id": "cd199929",
   "metadata": {},
   "source": [
    "### Ex2\n",
    "##### Neteja, preprocesa, estructura i transforma (dataframe) les dades del registre d'Accés a la web."
   ]
  },
  {
   "cell_type": "code",
   "execution_count": 106,
   "id": "b5d19692",
   "metadata": {
    "ExecuteTime": {
     "end_time": "2022-05-04T15:35:55.637818Z",
     "start_time": "2022-05-04T15:35:55.604920Z"
    }
   },
   "outputs": [
    {
     "name": "stdout",
     "output_type": "stream",
     "text": [
      "                                                                                                                                                                                                                                                                                                                  raw\n",
      "25                                       www.akumenius.com 66.249.76.216 - - [23/Feb/2014:03:10:38 +0100] \"GET /hoteles-baratos/ofertas-hotel-Kensington-Townhouse-London-en-Kensington-54356b-destinos.html HTTP/1.1\" 404 3100 \"-\" \"Mozilla/5.0 (compatible; Googlebot/2.1; +http://www.google.com/bot.html)\" VLOG=-\n",
      "26                                                www.akumenius.com 66.249.76.216 - - [23/Feb/2014:03:10:39 +0100] \"GET /destinos-baratos/destinosEstrelles/hoteles-en-Invermere_CANAD%C3%81-con-4-estrellas HTTP/1.1\" 200 8811 \"-\" \"Mozilla/5.0 (compatible; Googlebot/2.1; +http://www.google.com/bot.html)\" VLOG=-\n",
      "27  www.akumenius.com 66.249.76.216 - - [23/Feb/2014:03:10:40 +0100] \"GET /hoteles-baratos/ofertas-hotel-Howard-Jhonson-hotel-&-Spa--Villa-Gral-Belgrano-en-Villa%20General%20Belgrano-146416b-destinos.html HTTP/1.1\" 404 3100 \"-\" \"Mozilla/5.0 (compatible; Googlebot/2.1; +http://www.google.com/bot.html)\" VLOG=-\n",
      "28                                                  www.akumenius.com 66.249.76.216 - - [23/Feb/2014:03:10:42 +0100] \"GET /hoteles-baratos/ofertas-hotel-Princesa-Sofia-en-Diagonal%20S.-4013b-destinos.html HTTP/1.1\" 404 3100 \"-\" \"Mozilla/5.0 (compatible; Googlebot/2.1; +http://www.google.com/bot.html)\" VLOG=-\n",
      "29                                                        www.akumenius.com 66.249.76.216 - - [23/Feb/2014:03:10:45 +0100] \"GET /hoteles-baratos/ofertas-hotel-Kfar-Giladi-en-Tiberias-121085b-destinos.html HTTP/1.1\" 404 3100 \"-\" \"Mozilla/5.0 (compatible; Googlebot/2.1; +http://www.google.com/bot.html)\" VLOG=-\n",
      "30                                                www.akumenius.com 66.249.76.216 - - [23/Feb/2014:03:10:46 +0100] \"GET /destinos-baratos/destinosEstrelles/hoteles-en-Skanderborg_DINAMARCA-con-5-estrellas HTTP/1.1\" 200 8816 \"-\" \"Mozilla/5.0 (compatible; Googlebot/2.1; +http://www.google.com/bot.html)\" VLOG=-\n",
      "31                                              www.akumenius.com 66.249.76.216 - - [23/Feb/2014:03:10:47 +0100] \"GET /hoteles-baratos/ofertas-hotel-Casual-Hotel-Valencia-en-Valencia-205435b-destinos.html HTTP/1.1\" 404 3100 \"-\" \"Mozilla/5.0 (compatible; Googlebot/2.1; +http://www.google.com/bot.html)\" VLOG=-\n"
     ]
    }
   ],
   "source": [
    "pd.set_option('display.max_colwidth', None)\n",
    "df = pd.read_csv(\"Web_access_log-akumenius.com.txt\", delimiter = \"\\t\", header=None, index_col=False, names = ['raw'])\n",
    "print(df.loc[25:31,:])\n",
    "# df.style.set_properties(**{'text-align': 'left'})"
   ]
  },
  {
   "cell_type": "code",
   "execution_count": 114,
   "id": "14ddaa9f",
   "metadata": {},
   "outputs": [
    {
     "data": {
      "text/html": [
       "<div>\n",
       "<style scoped>\n",
       "    .dataframe tbody tr th:only-of-type {\n",
       "        vertical-align: middle;\n",
       "    }\n",
       "\n",
       "    .dataframe tbody tr th {\n",
       "        vertical-align: top;\n",
       "    }\n",
       "\n",
       "    .dataframe thead th {\n",
       "        text-align: right;\n",
       "    }\n",
       "</style>\n",
       "<table border=\"1\" class=\"dataframe\">\n",
       "  <thead>\n",
       "    <tr style=\"text-align: right;\">\n",
       "      <th></th>\n",
       "      <th>web</th>\n",
       "    </tr>\n",
       "  </thead>\n",
       "  <tbody>\n",
       "    <tr>\n",
       "      <th>46</th>\n",
       "      <td>www.akumenius.com</td>\n",
       "    </tr>\n",
       "    <tr>\n",
       "      <th>47</th>\n",
       "      <td>www.akumenius.com</td>\n",
       "    </tr>\n",
       "  </tbody>\n",
       "</table>\n",
       "</div>"
      ],
      "text/plain": [
       "                  web\n",
       "46  www.akumenius.com\n",
       "47  www.akumenius.com"
      ]
     },
     "execution_count": 114,
     "metadata": {},
     "output_type": "execute_result"
    }
   ],
   "source": [
    "df['web'] = df['raw'].str.split(' ').str[0]\n",
    "df[['web']].iloc[46:48]"
   ]
  },
  {
   "cell_type": "code",
   "execution_count": 108,
   "id": "fd5f67b7",
   "metadata": {},
   "outputs": [
    {
     "data": {
      "text/html": [
       "<div>\n",
       "<style scoped>\n",
       "    .dataframe tbody tr th:only-of-type {\n",
       "        vertical-align: middle;\n",
       "    }\n",
       "\n",
       "    .dataframe tbody tr th {\n",
       "        vertical-align: top;\n",
       "    }\n",
       "\n",
       "    .dataframe thead th {\n",
       "        text-align: right;\n",
       "    }\n",
       "</style>\n",
       "<table border=\"1\" class=\"dataframe\">\n",
       "  <thead>\n",
       "    <tr style=\"text-align: right;\">\n",
       "      <th></th>\n",
       "      <th>web</th>\n",
       "      <th>ip</th>\n",
       "    </tr>\n",
       "  </thead>\n",
       "  <tbody>\n",
       "    <tr>\n",
       "      <th>46</th>\n",
       "      <td>www.akumenius.com</td>\n",
       "      <td>66.249.76.216</td>\n",
       "    </tr>\n",
       "    <tr>\n",
       "      <th>47</th>\n",
       "      <td>www.akumenius.com</td>\n",
       "      <td>66.249.76.216</td>\n",
       "    </tr>\n",
       "  </tbody>\n",
       "</table>\n",
       "</div>"
      ],
      "text/plain": [
       "                  web             ip\n",
       "46  www.akumenius.com  66.249.76.216\n",
       "47  www.akumenius.com  66.249.76.216"
      ]
     },
     "execution_count": 108,
     "metadata": {},
     "output_type": "execute_result"
    }
   ],
   "source": [
    "df['ip'] = df['raw'].str.extract('(\\d\\d.\\d\\d\\d.\\d\\d.\\d\\d\\d)', expand=True)\n",
    "df[['web', 'ip']].iloc[46:48]"
   ]
  },
  {
   "cell_type": "code",
   "execution_count": 109,
   "id": "28fd4cbb",
   "metadata": {},
   "outputs": [
    {
     "data": {
      "text/html": [
       "<div>\n",
       "<style scoped>\n",
       "    .dataframe tbody tr th:only-of-type {\n",
       "        vertical-align: middle;\n",
       "    }\n",
       "\n",
       "    .dataframe tbody tr th {\n",
       "        vertical-align: top;\n",
       "    }\n",
       "\n",
       "    .dataframe thead th {\n",
       "        text-align: right;\n",
       "    }\n",
       "</style>\n",
       "<table border=\"1\" class=\"dataframe\">\n",
       "  <thead>\n",
       "    <tr style=\"text-align: right;\">\n",
       "      <th></th>\n",
       "      <th>web</th>\n",
       "      <th>ip</th>\n",
       "      <th>timestamp</th>\n",
       "    </tr>\n",
       "  </thead>\n",
       "  <tbody>\n",
       "    <tr>\n",
       "      <th>46</th>\n",
       "      <td>www.akumenius.com</td>\n",
       "      <td>66.249.76.216</td>\n",
       "      <td>23/Feb/2014:03:11:09 +0100</td>\n",
       "    </tr>\n",
       "    <tr>\n",
       "      <th>47</th>\n",
       "      <td>www.akumenius.com</td>\n",
       "      <td>66.249.76.216</td>\n",
       "      <td>23/Feb/2014:03:11:10 +0100</td>\n",
       "    </tr>\n",
       "  </tbody>\n",
       "</table>\n",
       "</div>"
      ],
      "text/plain": [
       "                  web             ip                   timestamp\n",
       "46  www.akumenius.com  66.249.76.216  23/Feb/2014:03:11:09 +0100\n",
       "47  www.akumenius.com  66.249.76.216  23/Feb/2014:03:11:10 +0100"
      ]
     },
     "execution_count": 109,
     "metadata": {},
     "output_type": "execute_result"
    }
   ],
   "source": [
    "# regex_timestamp=\"\\d{1,2}/[a-zA-Z]{3}/\\d{2,4}:\\d{2}:\\d{2}:\\d{2}\\s(\\+|\\-)\\d{4}\"\n",
    "df[\"timestamp\"]=df['raw'].str.extract(r'(\\[.*)\\]', expand=False).str.strip()\n",
    "df[\"timestamp\"] = df[\"timestamp\"].str.replace(\"[\", \"\", regex=True)\n",
    "df[['web','ip','timestamp']].iloc[46:48]"
   ]
  },
  {
   "cell_type": "code",
   "execution_count": 110,
   "id": "3dabca81",
   "metadata": {},
   "outputs": [
    {
     "data": {
      "text/html": [
       "<div>\n",
       "<style scoped>\n",
       "    .dataframe tbody tr th:only-of-type {\n",
       "        vertical-align: middle;\n",
       "    }\n",
       "\n",
       "    .dataframe tbody tr th {\n",
       "        vertical-align: top;\n",
       "    }\n",
       "\n",
       "    .dataframe thead th {\n",
       "        text-align: right;\n",
       "    }\n",
       "</style>\n",
       "<table border=\"1\" class=\"dataframe\">\n",
       "  <thead>\n",
       "    <tr style=\"text-align: right;\">\n",
       "      <th></th>\n",
       "      <th>timestamp</th>\n",
       "      <th>date</th>\n",
       "      <th>hour</th>\n",
       "      <th>time_zone</th>\n",
       "    </tr>\n",
       "  </thead>\n",
       "  <tbody>\n",
       "    <tr>\n",
       "      <th>46</th>\n",
       "      <td>23/Feb/2014:03:11:09 +0100</td>\n",
       "      <td>23/Feb/2014</td>\n",
       "      <td>03:11:09</td>\n",
       "      <td>+0100</td>\n",
       "    </tr>\n",
       "    <tr>\n",
       "      <th>47</th>\n",
       "      <td>23/Feb/2014:03:11:10 +0100</td>\n",
       "      <td>23/Feb/2014</td>\n",
       "      <td>03:11:10</td>\n",
       "      <td>+0100</td>\n",
       "    </tr>\n",
       "  </tbody>\n",
       "</table>\n",
       "</div>"
      ],
      "text/plain": [
       "                     timestamp         date      hour time_zone\n",
       "46  23/Feb/2014:03:11:09 +0100  23/Feb/2014  03:11:09     +0100\n",
       "47  23/Feb/2014:03:11:10 +0100  23/Feb/2014  03:11:10     +0100"
      ]
     },
     "execution_count": 110,
     "metadata": {},
     "output_type": "execute_result"
    }
   ],
   "source": [
    "# split timestamp\n",
    "from datetime import datetime\n",
    "df[\"date\"] = df[\"timestamp\"].apply(lambda x:x.split(':',1)[0])\n",
    "df[\"hour\"] = df[\"timestamp\"].apply(lambda x:x.split(':',1)[1]).apply(lambda x:x.split(' ',1)[0])\n",
    "df[\"time_zone\"] = df[\"timestamp\"].apply(lambda x:x.split(' ',1)[1])\n",
    "df[['timestamp','date','hour','time_zone']].iloc[46:48]"
   ]
  },
  {
   "cell_type": "code",
   "execution_count": 111,
   "id": "c4770cf9",
   "metadata": {},
   "outputs": [
    {
     "data": {
      "text/html": [
       "<div>\n",
       "<style scoped>\n",
       "    .dataframe tbody tr th:only-of-type {\n",
       "        vertical-align: middle;\n",
       "    }\n",
       "\n",
       "    .dataframe tbody tr th {\n",
       "        vertical-align: top;\n",
       "    }\n",
       "\n",
       "    .dataframe thead th {\n",
       "        text-align: right;\n",
       "    }\n",
       "</style>\n",
       "<table border=\"1\" class=\"dataframe\">\n",
       "  <thead>\n",
       "    <tr style=\"text-align: right;\">\n",
       "      <th></th>\n",
       "      <th>web</th>\n",
       "      <th>ip</th>\n",
       "      <th>timestamp</th>\n",
       "      <th>request</th>\n",
       "    </tr>\n",
       "  </thead>\n",
       "  <tbody>\n",
       "    <tr>\n",
       "      <th>46</th>\n",
       "      <td>www.akumenius.com</td>\n",
       "      <td>66.249.76.216</td>\n",
       "      <td>23/Feb/2014:03:11:09 +0100</td>\n",
       "      <td>[GET]</td>\n",
       "    </tr>\n",
       "    <tr>\n",
       "      <th>11090</th>\n",
       "      <td>www.akumenius.com</td>\n",
       "      <td>NaN</td>\n",
       "      <td>23/Feb/2014:11:00:05 +0100</td>\n",
       "      <td>[POST]</td>\n",
       "    </tr>\n",
       "  </tbody>\n",
       "</table>\n",
       "</div>"
      ],
      "text/plain": [
       "                     web             ip                   timestamp request\n",
       "46     www.akumenius.com  66.249.76.216  23/Feb/2014:03:11:09 +0100   [GET]\n",
       "11090  www.akumenius.com            NaN  23/Feb/2014:11:00:05 +0100  [POST]"
      ]
     },
     "execution_count": 111,
     "metadata": {},
     "output_type": "execute_result"
    }
   ],
   "source": [
    "pattern= '(?<=\\\")(.*)(?=\\s\\/)'\n",
    "df['request'] = df['raw'].apply(lambda x: re.findall(pattern,x))\n",
    "df[['web','ip','timestamp', 'request']].iloc[[46,11090]]"
   ]
  },
  {
   "cell_type": "code",
   "execution_count": 112,
   "id": "0b8b1133",
   "metadata": {},
   "outputs": [
    {
     "data": {
      "text/html": [
       "<div>\n",
       "<style scoped>\n",
       "    .dataframe tbody tr th:only-of-type {\n",
       "        vertical-align: middle;\n",
       "    }\n",
       "\n",
       "    .dataframe tbody tr th {\n",
       "        vertical-align: top;\n",
       "    }\n",
       "\n",
       "    .dataframe thead th {\n",
       "        text-align: right;\n",
       "    }\n",
       "</style>\n",
       "<table border=\"1\" class=\"dataframe\">\n",
       "  <thead>\n",
       "    <tr style=\"text-align: right;\">\n",
       "      <th></th>\n",
       "      <th>web</th>\n",
       "      <th>ip</th>\n",
       "      <th>timestamp</th>\n",
       "      <th>request</th>\n",
       "      <th>url</th>\n",
       "    </tr>\n",
       "  </thead>\n",
       "  <tbody>\n",
       "    <tr>\n",
       "      <th>46</th>\n",
       "      <td>www.akumenius.com</td>\n",
       "      <td>66.249.76.216</td>\n",
       "      <td>23/Feb/2014:03:11:09 +0100</td>\n",
       "      <td>[GET]</td>\n",
       "      <td>[destinos-baratos/destinosEstrelles/hoteles-en-Wainwright_CANAD%C3%81-con-1-estrella]</td>\n",
       "    </tr>\n",
       "    <tr>\n",
       "      <th>47</th>\n",
       "      <td>www.akumenius.com</td>\n",
       "      <td>66.249.76.216</td>\n",
       "      <td>23/Feb/2014:03:11:10 +0100</td>\n",
       "      <td>[GET]</td>\n",
       "      <td>[hoteles-baratos/ofertas-hotel-Kenia-Nevada-en-Pradollano-2717b-destinos.html]</td>\n",
       "    </tr>\n",
       "  </tbody>\n",
       "</table>\n",
       "</div>"
      ],
      "text/plain": [
       "                  web             ip                   timestamp request  \\\n",
       "46  www.akumenius.com  66.249.76.216  23/Feb/2014:03:11:09 +0100   [GET]   \n",
       "47  www.akumenius.com  66.249.76.216  23/Feb/2014:03:11:10 +0100   [GET]   \n",
       "\n",
       "                                                                                      url  \n",
       "46  [destinos-baratos/destinosEstrelles/hoteles-en-Wainwright_CANAD%C3%81-con-1-estrella]  \n",
       "47         [hoteles-baratos/ofertas-hotel-Kenia-Nevada-en-Pradollano-2717b-destinos.html]  "
      ]
     },
     "execution_count": 112,
     "metadata": {},
     "output_type": "execute_result"
    }
   ],
   "source": [
    "pattern= '(?<=\\s/)(.*)(?=\\sHTTP)'\n",
    "df['url'] = df['raw'].apply(lambda x: re.findall(pattern,x))\n",
    "df[['web','ip','timestamp', 'request','url']].iloc[46:48]"
   ]
  },
  {
   "cell_type": "code",
   "execution_count": 113,
   "id": "c87ed6ed",
   "metadata": {},
   "outputs": [
    {
     "data": {
      "text/html": [
       "<div>\n",
       "<style scoped>\n",
       "    .dataframe tbody tr th:only-of-type {\n",
       "        vertical-align: middle;\n",
       "    }\n",
       "\n",
       "    .dataframe tbody tr th {\n",
       "        vertical-align: top;\n",
       "    }\n",
       "\n",
       "    .dataframe thead th {\n",
       "        text-align: right;\n",
       "    }\n",
       "</style>\n",
       "<table border=\"1\" class=\"dataframe\">\n",
       "  <thead>\n",
       "    <tr style=\"text-align: right;\">\n",
       "      <th></th>\n",
       "      <th>web</th>\n",
       "      <th>ip</th>\n",
       "      <th>timestamp</th>\n",
       "      <th>request</th>\n",
       "      <th>url</th>\n",
       "      <th>response</th>\n",
       "    </tr>\n",
       "  </thead>\n",
       "  <tbody>\n",
       "    <tr>\n",
       "      <th>46</th>\n",
       "      <td>www.akumenius.com</td>\n",
       "      <td>66.249.76.216</td>\n",
       "      <td>23/Feb/2014:03:11:09 +0100</td>\n",
       "      <td>[GET]</td>\n",
       "      <td>[destinos-baratos/destinosEstrelles/hoteles-en-Wainwright_CANAD%C3%81-con-1-estrella]</td>\n",
       "      <td>[200 8807]</td>\n",
       "    </tr>\n",
       "    <tr>\n",
       "      <th>47</th>\n",
       "      <td>www.akumenius.com</td>\n",
       "      <td>66.249.76.216</td>\n",
       "      <td>23/Feb/2014:03:11:10 +0100</td>\n",
       "      <td>[GET]</td>\n",
       "      <td>[hoteles-baratos/ofertas-hotel-Kenia-Nevada-en-Pradollano-2717b-destinos.html]</td>\n",
       "      <td>[404 3100]</td>\n",
       "    </tr>\n",
       "  </tbody>\n",
       "</table>\n",
       "</div>"
      ],
      "text/plain": [
       "                  web             ip                   timestamp request  \\\n",
       "46  www.akumenius.com  66.249.76.216  23/Feb/2014:03:11:09 +0100   [GET]   \n",
       "47  www.akumenius.com  66.249.76.216  23/Feb/2014:03:11:10 +0100   [GET]   \n",
       "\n",
       "                                                                                      url  \\\n",
       "46  [destinos-baratos/destinosEstrelles/hoteles-en-Wainwright_CANAD%C3%81-con-1-estrella]   \n",
       "47         [hoteles-baratos/ofertas-hotel-Kenia-Nevada-en-Pradollano-2717b-destinos.html]   \n",
       "\n",
       "      response  \n",
       "46  [200 8807]  \n",
       "47  [404 3100]  "
      ]
     },
     "execution_count": 113,
     "metadata": {},
     "output_type": "execute_result"
    }
   ],
   "source": [
    "pattern= '(?<=HTTP\\/1.1\\\"\\s)(.*)(?=\\s\\\"-\")'\n",
    "df['response'] = df['raw'].apply(lambda x: re.findall(pattern,x))\n",
    "df[['web','ip','timestamp', 'request','url','response']].iloc[46:48]"
   ]
  },
  {
   "cell_type": "code",
   "execution_count": null,
   "id": "bd7b13ed",
   "metadata": {},
   "outputs": [],
   "source": []
  },
  {
   "cell_type": "markdown",
   "id": "6c6d60f9",
   "metadata": {},
   "source": [
    "### Ex3  \n",
    "##### Mostra'm la teva creativitat, Sorprèn-me fes un pas més enllà amb l'anàlisi anterior."
   ]
  },
  {
   "cell_type": "code",
   "execution_count": null,
   "id": "15c201b3",
   "metadata": {},
   "outputs": [],
   "source": []
  }
 ],
 "metadata": {
  "interpreter": {
   "hash": "c347c8f9a7ef94e4c9e03b4513be7835ed18f45b99a2a817fb579f408b867b16"
  },
  "kernelspec": {
   "display_name": "Python 3.9.5 64-bit",
   "language": "python",
   "name": "python3"
  },
  "language_info": {
   "codemirror_mode": {
    "name": "ipython",
    "version": 3
   },
   "file_extension": ".py",
   "mimetype": "text/x-python",
   "name": "python",
   "nbconvert_exporter": "python",
   "pygments_lexer": "ipython3",
   "version": "3.9.5"
  }
 },
 "nbformat": 4,
 "nbformat_minor": 5
}

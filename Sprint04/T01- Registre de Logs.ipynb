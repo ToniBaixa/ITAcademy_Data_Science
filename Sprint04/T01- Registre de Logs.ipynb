{
 "cells": [
  {
   "cell_type": "markdown",
   "id": "2056e70e",
   "metadata": {},
   "source": [
    "# S04 T01: Transformació Registre Log amb Regular expressions\n",
    "##### L'anàlisi de registres és una funció important per al control i l'alerta, el compliment de les polítiques de seguretat, l'auditoria i el compliment normatiu, la resposta a incidents de seguretat i fins i tot les investigacions forenses. En analitzar les dades de registre, les empreses poden identificar més fàcilment les possibles amenaces i altres problemes, trobar la causa arrel i iniciar una resposta ràpida per mitigar els riscos."
   ]
  },
  {
   "cell_type": "markdown",
   "id": "17fb163f",
   "metadata": {},
   "source": [
    "##### L'analista ha d'assegurar-se que els registres consisteixen en una gamma completa de missatges i s'interpreten segons el context. Els elements de registre han d'estandaritzar-se, utilitzant els mateixos termes o terminologia, per evitar confusions i proporcionar cohesió.\n",
    "\n",
    "##### Com Científic de Dades se t'ha proporcionat accés als registres-Logs on queda registrada l'activitat de totes les visites a realitzades a la pàgina web de l'agència de viatges \"akumenius.com\"."
   ]
  },
  {
   "cell_type": "markdown",
   "id": "2279cd19",
   "metadata": {},
   "source": [
    "### Ex1\n",
    "##### Estandaritza, identifica i enumera cada un dels atributs / variables de l'estructura de l'arxiu \"Web_access_log-akumenius.com\" que trobaràs al repositori de GitHub \"Data-sources\"."
   ]
  },
  {
   "cell_type": "code",
   "execution_count": 7,
   "id": "3d24cd69",
   "metadata": {
    "ExecuteTime": {
     "end_time": "2022-05-04T15:35:55.570459Z",
     "start_time": "2022-05-04T15:35:55.497935Z"
    }
   },
   "outputs": [
    {
     "name": "stdout",
     "output_type": "stream",
     "text": [
      "   localhost 127.0.0.1 - - [23/Feb/2014:03:10:31 +0100] \"OPTIONS * HTTP/1.0\" 200 - \"-\" \"Apache (internal dummy connection)\" VLOG=-\n",
      "25  www.akumenius.com 66.249.76.216 - - [23/Feb/20...                                                                             \n",
      "26  www.akumenius.com 66.249.76.216 - - [23/Feb/20...                                                                             \n",
      "27  www.akumenius.com 66.249.76.216 - - [23/Feb/20...                                                                             \n",
      "28  www.akumenius.com 66.249.76.216 - - [23/Feb/20...                                                                             \n",
      "29  www.akumenius.com 66.249.76.216 - - [23/Feb/20...                                                                             \n",
      "30  www.akumenius.com 66.249.76.216 - - [23/Feb/20...                                                                             \n"
     ]
    }
   ],
   "source": [
    "%matplotlib inline\n",
    "import numpy as np\n",
    "import pandas as pd\n",
    "import re\n",
    "\n",
    "dftxt = pd.read_csv(\"Web_access_log-akumenius.com.txt\", delimiter = \"\\t\")\n",
    "print(dftxt[25:31])"
   ]
  },
  {
   "cell_type": "markdown",
   "id": "e01280ad",
   "metadata": {},
   "source": [
    "#### No entenc massa bé el que es pregunta...\n",
    "#### VARIABLES:"
   ]
  },
  {
   "cell_type": "markdown",
   "id": "6f343fe0",
   "metadata": {},
   "source": [
    "#### 1- IP = www.akumenius.com + espai + IP + espai - -\n",
    "###### Després de la URL de akumenius podem localitzar la IP des de la que es fa la petició\n",
    "\n",
    "\n",
    "\n"
   ]
  },
  {
   "cell_type": "markdown",
   "id": "73b7643d",
   "metadata": {},
   "source": [
    "#### 2- - - [TIMESTAMP]\n",
    "##### Entre claudàtors el timestamp quan es fa la petició"
   ]
  },
  {
   "cell_type": "markdown",
   "id": "2d612a79",
   "metadata": {},
   "source": [
    "#### 3- POST/GET = ] + _ +\" + GET/POST + espai + /\n",
    "##### Si és un POST/GET"
   ]
  },
  {
   "cell_type": "markdown",
   "id": "7d97a3fd",
   "metadata": {},
   "source": [
    "#### 4- Path = primera / + espai + HTPP/1.1\""
   ]
  },
  {
   "cell_type": "markdown",
   "id": "76b6ba2b",
   "metadata": {},
   "source": [
    "#### 5- resposta server = HTPP/1.1\" + _ + Response + _\""
   ]
  },
  {
   "cell_type": "markdown",
   "id": "cd199929",
   "metadata": {},
   "source": [
    "### Ex2\n",
    "##### Neteja, preprocesa, estructura i transforma (dataframe) les dades del registre d'Accés a la web."
   ]
  },
  {
   "cell_type": "code",
   "execution_count": null,
   "id": "b5d19692",
   "metadata": {
    "ExecuteTime": {
     "end_time": "2022-05-04T15:35:55.637818Z",
     "start_time": "2022-05-04T15:35:55.604920Z"
    }
   },
   "outputs": [],
   "source": []
  },
  {
   "cell_type": "markdown",
   "id": "6c6d60f9",
   "metadata": {},
   "source": [
    "### Ex3  \n",
    "##### Mostra'm la teva creativitat, Sorprèn-me fes un pas més enllà amb l'anàlisi anterior."
   ]
  },
  {
   "cell_type": "code",
   "execution_count": null,
   "id": "15c201b3",
   "metadata": {},
   "outputs": [],
   "source": []
  }
 ],
 "metadata": {
  "interpreter": {
   "hash": "c347c8f9a7ef94e4c9e03b4513be7835ed18f45b99a2a817fb579f408b867b16"
  },
  "kernelspec": {
   "display_name": "Python 3.9.5 64-bit",
   "language": "python",
   "name": "python3"
  },
  "language_info": {
   "codemirror_mode": {
    "name": "ipython",
    "version": 3
   },
   "file_extension": ".py",
   "mimetype": "text/x-python",
   "name": "python",
   "nbconvert_exporter": "python",
   "pygments_lexer": "ipython3",
   "version": "3.9.5"
  }
 },
 "nbformat": 4,
 "nbformat_minor": 5
}

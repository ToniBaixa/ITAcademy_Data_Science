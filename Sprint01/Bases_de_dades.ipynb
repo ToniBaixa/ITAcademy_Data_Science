{
 "cells": [
  {
   "cell_type": "markdown",
   "id": "2056e70e",
   "metadata": {},
   "source": [
    "# Tasca M1 T01"
   ]
  },
  {
   "cell_type": "code",
   "execution_count": 8,
   "id": "3d24cd69",
   "metadata": {
    "ExecuteTime": {
     "end_time": "2022-05-04T15:35:55.570459Z",
     "start_time": "2022-05-04T15:35:55.497935Z"
    }
   },
   "outputs": [],
   "source": [
    "%matplotlib inline\n",
    "# pip install mysql-connector-python\n",
    "import mysql.connector\n",
    "from mysql.connector import errorcode"
   ]
  },
  {
   "cell_type": "markdown",
   "id": "2020da50",
   "metadata": {},
   "source": [
    "connect to mysql"
   ]
  },
  {
   "cell_type": "code",
   "execution_count": 9,
   "id": "da88c257",
   "metadata": {},
   "outputs": [
    {
     "name": "stdout",
     "output_type": "stream",
     "text": [
      "<mysql.connector.connection_cext.CMySQLConnection object at 0x00000270DCDC6E50>\n"
     ]
    }
   ],
   "source": [
    "try:\n",
    "  mydb = mysql.connector.connect(\n",
    "    host=\"localhost\",\n",
    "    user=\"Toni\",\n",
    "    password=\"mysql\")\n",
    "except mysql.connector.Error as err:\n",
    "  if err.errno == errorcode.ER_ACCESS_DENIED_ERROR:\n",
    "    print(\"Something is wrong with your user name or password\")\n",
    "  elif err.errno == errorcode.ER_BAD_DB_ERROR:\n",
    "    print(\"Database does not exist\")\n",
    "  else:\n",
    "    print(err)\n",
    "print(mydb)"
   ]
  },
  {
   "cell_type": "markdown",
   "id": "c6c285c3",
   "metadata": {},
   "source": [
    "create db"
   ]
  },
  {
   "cell_type": "code",
   "execution_count": 10,
   "id": "6758b312",
   "metadata": {},
   "outputs": [],
   "source": [
    "mycursor = mydb.cursor()\n",
    "mycursor.execute(\"DROP database IF EXISTS movies\")\n",
    "#mycursor.execute(\"CREATE DATABASE SGAE_Practica\")\n",
    "mycursor.execute(\"CREATE DATABASE movies\")"
   ]
  },
  {
   "cell_type": "code",
   "execution_count": 11,
   "id": "214096b2",
   "metadata": {},
   "outputs": [],
   "source": [
    "mydb = mysql.connector.connect(\n",
    "  host=\"localhost\",\n",
    "  user=\"Toni\",\n",
    "  password=\"mysql\",\n",
    "  database = \"movies\"\n",
    ")\n",
    "mycursor = mydb.cursor()"
   ]
  },
  {
   "cell_type": "markdown",
   "id": "bc36e262",
   "metadata": {},
   "source": [
    "create tables"
   ]
  },
  {
   "cell_type": "code",
   "execution_count": 12,
   "id": "4d571a95",
   "metadata": {},
   "outputs": [],
   "source": [
    "mycursor.execute(\"DROP TABLE IF EXISTS genre\")\n",
    "mycursor.execute(\n",
    "    \"CREATE TABLE genre (\"\n",
    "        \" genre_id INT NOT NULL,\"\n",
    "        \" genre_name VARCHAR(40) NOT NULL,\"\n",
    "        \" created_by_user VARCHAR(40) NOT NULL DEFAULT 'OS_SGAD',\"\n",
    "        \" created_date DATE,\"\n",
    "        \" updated_date DATE,\"\n",
    "        \" CONSTRAINT pk_genre PRIMARY KEY (genre_id)\"\n",
    "    \")\"\n",
    "    )"
   ]
  },
  {
   "cell_type": "code",
   "execution_count": 13,
   "id": "3016e539",
   "metadata": {},
   "outputs": [],
   "source": [
    "\n",
    "mycursor.execute(\"DROP TABLE IF EXISTS movies\")\n",
    "mycursor.execute(\n",
    "    \"CREATE TABLE movies (\"\n",
    "        \" movie_id         INTEGER NOT NULL,\"\n",
    "        \" movie_title      CHARACTER VARYING(100) NOT NULL,\"\n",
    "        \" movie_date       DATE,\"\n",
    "        \" movie_format     CHARACTER VARYING(50) ,\"\n",
    "        \" movie_genre_id   INTEGER ,\"\n",
    "        \" created_by_user  CHARACTER VARYING(10) NOT NULL DEFAULT 'OS_SGAD' ,\"\n",
    "        \" created_date     DATE ,\"\n",
    "        \" updated_date     DATE ,\"\n",
    "        \" CONSTRAINT pk_movie PRIMARY KEY (movie_id) ,\"\n",
    "        \" CONSTRAINT fk_movie_genre FOREIGN KEY (movie_genre_id) REFERENCES genre (genre_id)\"\n",
    "    \")\"\n",
    "    )"
   ]
  },
  {
   "cell_type": "code",
   "execution_count": 14,
   "id": "1c96a512",
   "metadata": {},
   "outputs": [],
   "source": [
    "mycursor.execute(\"DROP TABLE IF EXISTS role\")\n",
    "mycursor.execute(\n",
    "    \"CREATE TABLE role (\"\n",
    "        \" role_id          INTEGER NOT NULL ,\"\n",
    "        \" role_name        CHARACTER VARYING(60) NOT NULL ,\"\n",
    "        \" created_by_user  CHARACTER VARYING(10) NOT NULL DEFAULT 'OS_SGAD' ,\"\n",
    "        \" created_date     DATE ,\"\n",
    "        \" updated_date     DATE ,\"\n",
    "        \" CONSTRAINT pk_role PRIMARY KEY (role_id)\"\n",
    "    \")\"\n",
    "    )"
   ]
  },
  {
   "cell_type": "code",
   "execution_count": 15,
   "id": "6d397bfc",
   "metadata": {},
   "outputs": [],
   "source": [
    "mycursor.execute(\"DROP TABLE IF EXISTS person\")\n",
    "mycursor.execute(\n",
    "    \"CREATE TABLE person (\"\n",
    "         \" person_id        INTEGER NOT NULL ,\"\n",
    "         \" person_name      CHARACTER VARYING(100) NOT NULL  ,\"\n",
    "         \" person_country   CHARACTER VARYING(40) ,\"\n",
    "         \" person_dob       DATE NOT NULL  ,\"\n",
    "         \" person_dod       DATE  ,\"\n",
    "         \" person_parent_id INTEGER  ,\"\n",
    "         \" created_by_user  CHARACTER VARYING(10) NOT NULL DEFAULT 'OS_SGAD' ,\"\n",
    "         \" created_date     DATE ,\"\n",
    "         \" updated_date     DATE ,\"\n",
    "         \" CONSTRAINT pk_person PRIMARY KEY (person_id) ,\"\n",
    "         \" CONSTRAINT fk_person_parent FOREIGN KEY (person_parent_id) REFERENCES person (person_id)\"\n",
    "    \")\"\n",
    "    )"
   ]
  },
  {
   "cell_type": "code",
   "execution_count": 16,
   "id": "894ee78e",
   "metadata": {},
   "outputs": [],
   "source": [
    "mycursor.execute(\"DROP TABLE IF EXISTS movie_person\")\n",
    "mycursor.execute(\n",
    "    \"CREATE TABLE movie_person (\"\n",
    "        \"  movie_id         INTEGER NOT NULL ,\"\n",
    "        \"  person_id        INTEGER NOT NULL ,\"\n",
    "        \"  role_id          INTEGER NOT NULL ,\"\n",
    "        \"  movie_award_ind  CHAR(1) NOT NULL ,\"\n",
    "        \"  created_by_user  CHARACTER VARYING(10) NOT NULL DEFAULT 'OS_SGAD' ,\"\n",
    "        \"  created_date     DATE ,\"\n",
    "        \"  updated_date     DATE ,\"\n",
    "        \"  CONSTRAINT pk_movper PRIMARY KEY (movie_id, person_id, role_id) ,\"\n",
    "        \"  CONSTRAINT fk_movper_movie FOREIGN KEY (movie_id) REFERENCES movies (movie_id) ,\"\n",
    "        \"  CONSTRAINT fk_movper_person FOREIGN KEY (person_id) REFERENCES person (person_id) ,\"\n",
    "        \"  CONSTRAINT fk_movper_role FOREIGN KEY (role_id) REFERENCES role (role_id)\"\n",
    "    \")\"\n",
    "    )"
   ]
  },
  {
   "cell_type": "code",
   "execution_count": 17,
   "id": "56ea1f6a",
   "metadata": {},
   "outputs": [
    {
     "data": {
      "text/plain": [
       "True"
      ]
     },
     "execution_count": 17,
     "metadata": {},
     "output_type": "execute_result"
    }
   ],
   "source": [
    "mycursor.close()"
   ]
  },
  {
   "cell_type": "markdown",
   "id": "36c00c05",
   "metadata": {},
   "source": [
    "insert data"
   ]
  },
  {
   "cell_type": "code",
   "execution_count": 18,
   "id": "31281a67",
   "metadata": {},
   "outputs": [],
   "source": [
    "mydb = mysql.connector.connect(\n",
    "  host=\"localhost\",\n",
    "  user=\"Toni\",\n",
    "  password=\"mysql\",\n",
    "  database = \"movies\"\n",
    ")\n",
    "mycursor = mydb.cursor()\n",
    "\n",
    "sql= \"INSERT INTO genre (genre_id, genre_name, created_by_user) VALUES ( %s, %s, %s)\"\n",
    "val = [\n",
    "( 1, 'Acción',''),\n",
    "( 2, 'Ciencia Ficción',''),\n",
    "( 3, 'Comedia',''),\n",
    "( 4, 'Drama',''),\n",
    "( 5, 'Fantasía', 'apermag'),\n",
    "( 7, 'Musical',''),\n",
    "( 8, 'Romance',''),\n",
    "( 9, 'Suspense',''),\n",
    "(10, 'Terror',''),\n",
    "(11, 'Bélico','')\n",
    "]\n",
    "sql2= \"INSERT INTO genre (genre_id, genre_name, created_by_user, created_date, updated_date) VALUES ( %s, %s, %s, %s, %s)\"\n",
    "\n",
    "val2 = [\n",
    "( 6, 'Melodrama', 'apermag', '2018-09-01', '2018-09-27'),\n",
    "]\n",
    "#print (val)"
   ]
  },
  {
   "cell_type": "code",
   "execution_count": 19,
   "id": "27bc126f",
   "metadata": {},
   "outputs": [
    {
     "name": "stdout",
     "output_type": "stream",
     "text": [
      "10 was inserted.\n",
      "1 was inserted.\n"
     ]
    }
   ],
   "source": [
    "mycursor.executemany(sql, val)\n",
    "mydb.commit()\n",
    "print(mycursor.rowcount, \"was inserted.\")\n",
    "mycursor.executemany(sql2, val2)\n",
    "mydb.commit()\n",
    "print(mycursor.rowcount, \"was inserted.\")"
   ]
  },
  {
   "cell_type": "code",
   "execution_count": 20,
   "id": "af3d78e2",
   "metadata": {},
   "outputs": [],
   "source": [
    "sql= \"INSERT INTO movies (movie_id, movie_title, movie_date, movie_format, movie_genre_id) VALUES ( %s, %s, %s, %s, %s)\"\n",
    "val = [\n",
    "( 1, 'Apocalypse Now', '1979-05-10', 'Film', 11),\n",
    "( 2, 'Star Wars:Episode IV - A New Hope', '1977-05-25', 'Film', 2),\n",
    "( 3, 'Indiana Jones and the Temple of Doom', '1984-05-08', 'Film', 1),\n",
    "( 4, 'The Terminal', '2004-06-18', 'Digital', 3),\n",
    "( 5, 'Jaws', '1975-01-01', 'Film', 10),\n",
    "( 6, 'ET The Extraterrestrial', '1982-07-25', 'Film', 5),\n",
    "( 7, 'Psycho', '1960-05-06', 'Film', 9),\n",
    "( 8, 'Ocho Apellidos Vascos', '2014-03-14', 'Digital', 3),\n",
    "( 9, 'Ocho Apellidos Catalanes', '2016-06-09', 'Digital', 8),\n",
    "(10, 'El otro lado de la cama', '2002-09-04', 'Digital', 8),\n",
    "(11, 'La Gran Familia Española', '2012-10-15', 'Digital', 3),\n",
    "(12, 'El dia de la bestia', '1994-12-25', 'Film', 1),\n",
    "(13, 'Braveheart', '1995-08-08', 'Film', 4),\n",
    "(14, 'The Shawshank Redemption', '1992-01-07', 'Film', 4)\n",
    "]"
   ]
  },
  {
   "cell_type": "code",
   "execution_count": 21,
   "id": "0cc0b7f7",
   "metadata": {},
   "outputs": [
    {
     "name": "stdout",
     "output_type": "stream",
     "text": [
      "14 was inserted.\n"
     ]
    }
   ],
   "source": [
    "mycursor.executemany(sql, val)\n",
    "mydb.commit()\n",
    "print(mycursor.rowcount, \"was inserted.\")"
   ]
  },
  {
   "cell_type": "code",
   "execution_count": 22,
   "id": "851fac4e",
   "metadata": {},
   "outputs": [],
   "source": [
    "sql= \"INSERT INTO role (role_id, role_name) VALUES ( %s, %s)\"\n",
    "val = [\n",
    "    ( 1, 'Actor'),\n",
    "    ( 2, 'Director'),    \n",
    "    ( 3, 'Productor'),\n",
    "    ( 4, 'Guionista'),\n",
    "    ( 5, 'Música')\n",
    "    ]"
   ]
  },
  {
   "cell_type": "code",
   "execution_count": 23,
   "id": "e138ba98",
   "metadata": {},
   "outputs": [
    {
     "name": "stdout",
     "output_type": "stream",
     "text": [
      "5 was inserted.\n"
     ]
    }
   ],
   "source": [
    "mycursor.executemany(sql, val)\n",
    "mydb.commit()\n",
    "print(mycursor.rowcount, \"was inserted.\")"
   ]
  },
  {
   "cell_type": "code",
   "execution_count": 24,
   "id": "94c660cd",
   "metadata": {},
   "outputs": [],
   "source": [
    "sql= \"INSERT INTO person (person_id, person_name, person_country, person_dob, person_dod, person_parent_id) VALUES ( %s, %s, %s, %s, %s, %s)\"\n",
    "val = [\n",
    "    ( 1, 'Francis Ford Coppola', 'United States', '1939-04-07', None, None),\n",
    "    ( 2, 'Carmine Coppola', 'United States', '1945-07-08', None, None),\n",
    "    ( 3, 'Marlon Brando', 'United States', '1924-04-03', '2004-07-01', None),\n",
    "    ( 4, 'Robert Duvall', 'United States', '1931-01-05', None, None),\n",
    "    ( 5, 'Martin Sheen', 'United States', '1940-08-03', None, None),\n",
    "    ( 6, 'Harrison Ford', 'United States', '1942-07-13', None, None),\n",
    "    ( 7, 'George Lucas', 'United States', '1944-05-14', None, None),\n",
    "    ( 8, 'Gary Kurtz', 'United States', '1940-07-27', None, None),\n",
    "    ( 9, 'Steven Spielberg', 'United States', '1946-12-18', None, None),\n",
    "    (10, 'John Williams', 'United States', '1928-08-08', None, None),\n",
    "    (11, 'Tom Hanks', 'United States', '1956-07-09', None, None),\n",
    "    (12, 'Catherine Zeta-Jones', 'Wales', '1969-09-25', None, None),\n",
    "    (13, 'Alfred Joseph Hitchcock', 'United Kingdom', '1899-08-13', '1980-04-29', None),\n",
    "    (14, 'Anthony Perkins', 'United States', '1934-04-04', '1992-09-08', None),\n",
    "    (15, 'Vera Miles', 'United States', '1929-08-23', None, None),\n",
    "    (16, 'Emilio Martinez Lazaro', 'Spain', '1956-09-09', None, None),\n",
    "    (17, 'Dani Rovira', 'Spain', '1984-07-01', None, None),\n",
    "    (18, 'Clara Lago', 'Spain', '1986-04-17', None, None),\n",
    "    (19, 'Carmen Machi', 'Spain', '1964-08-09', None, None),\n",
    "    (20, 'Karra Elejalde', 'Spain', '1960-03-06', None, None),\n",
    "    (21, 'Daniel Sanchez Arevalo', 'Spain', '1970-06-08', None, None),\n",
    "    (22, 'Quim Gutierrez', 'Spain', '1981-03-27', None, None),\n",
    "    (23, 'Robert Alamo', 'Spain', '1970-05-06', None, None),\n",
    "    (24, 'Hector Colome', 'Spain', '1944-10-25', '2015-02-28', None),\n",
    "    (25, 'Veronica Echegui', 'Spain', '1983-03-14', None, None),\n",
    "    (26, 'Patrick Criado', 'Spain', '1995-09-23', None, None),\n",
    "    (27, 'Sean Connery', 'Scotland', '1930-07-08', None, None),\n",
    "    (28, 'Mel Gibson', 'Australia', '1950-08-09', None, None),\n",
    "    (29, 'Morgan Freeman', 'United States', '1935-10-01', None, None),\n",
    "    (30, 'Tim Robbins', 'United States', '1949-06-07', None, None),\n",
    "    (41, 'Charlie Sheen', 'United States', '1965-09-03', None, 5),\n",
    "    (42, 'Emilio Estevez', 'United States', '1962-05-12', None, 5),\n",
    "    (43, 'Ramón Estevez', 'United States', '1963-08-07', None, 5),\n",
    "    (44, 'Reneé Estevez', 'United States', '1967-04-02', None, 5),\n",
    "    (45, 'Paula Speert Sheen', 'United States', '1986-01-06', None,41),\n",
    "    (46, 'Bob Sheen', 'United States', '2009-05-01', None,41),\n",
    "    (47, 'Max Sheen', 'United States', '2009-05-01', None,41),\n",
    "    (48, 'Sam Sheen', 'United States', '2004-03-09', None,41),\n",
    "    (49, 'Lola Sheen', 'United States', '2005-06-01', None,41),\n",
    "    (50, 'Paula Jones-Sheen', 'United States', '2003-07-06', None,45),\n",
    "    (51, 'Paloma Rae Estevez', 'United States', '1986-02-15', None,42),\n",
    "    (52, 'Taylor Levi Estevez', 'United States', '1984-06-22', None,42)\n",
    "    ]"
   ]
  },
  {
   "cell_type": "code",
   "execution_count": 25,
   "id": "cad4cfc2",
   "metadata": {},
   "outputs": [
    {
     "name": "stdout",
     "output_type": "stream",
     "text": [
      "42 was inserted.\n"
     ]
    }
   ],
   "source": [
    "mycursor.executemany(sql, val)\n",
    "mydb.commit()\n",
    "print(mycursor.rowcount, \"was inserted.\")"
   ]
  },
  {
   "cell_type": "code",
   "execution_count": 26,
   "id": "21dc3fef",
   "metadata": {},
   "outputs": [],
   "source": [
    "sql= \"INSERT INTO movie_person (movie_id, person_id, role_id, movie_award_ind) VALUES ( %s, %s, %s, %s)\"\n",
    "val = [\n",
    "    ( 1, 1, 2, 'Y'),\n",
    "    ( 1, 1, 3, 'N'),\n",
    "    ( 1, 1, 5, 'N'),\n",
    "    ( 1, 2, 5, 'N'),\n",
    "    ( 1, 3, 1, 'N'),\n",
    "    ( 1, 4, 1, 'N'),\n",
    "    ( 1, 5, 1, 'Y'),\n",
    "    ( 1,41, 1, 'N'),\n",
    "    ( 1, 6, 1, 'N'),\n",
    "    ( 2, 6, 1, 'N'),\n",
    "    ( 2, 7, 2, 'Y'),\n",
    "    ( 2, 8, 3, 'N'),\n",
    "    ( 3, 6, 1, 'N'),\n",
    "    ( 3, 7, 4, 'N'),\n",
    "    ( 3, 9, 2, 'N'),\n",
    "    ( 3,10, 5, 'N'),\n",
    "    ( 4, 9, 2, 'N'),\n",
    "    ( 4, 9, 3, 'N'),\n",
    "    ( 4,11, 1, 'N'),\n",
    "    ( 4,12, 1, 'N'),\n",
    "    ( 5, 9, 2, 'N'),\n",
    "    ( 6, 9, 2, 'N'),\n",
    "    ( 7,13, 1, 'N'),\n",
    "    ( 7,13, 2, 'N'),\n",
    "    ( 7,13, 3, 'N'),\n",
    "    ( 7,14, 2, 'N'),\n",
    "    ( 7,15, 2, 'N'),\n",
    "    ( 3, 7, 1, 'N'),\n",
    "    ( 8,16, 2, 'N'),\n",
    "    ( 9,16, 2, 'N'),\n",
    "    ( 8,17, 1, 'N'),\n",
    "    ( 8,18, 1, 'N'),\n",
    "    ( 8,19, 1, 'N'),\n",
    "    ( 8,20, 1, 'N'),\n",
    "    ( 9,17, 1, 'N'),\n",
    "    ( 9,18, 1, 'N'),\n",
    "    ( 9,19, 1, 'N'),\n",
    "    ( 9,20, 1, 'N'),\n",
    "    (10,16, 2, 'N'),\n",
    "    (11,21, 2, 'N'),\n",
    "    (11,21, 4, 'N'),\n",
    "    (11,22, 1, 'N'),\n",
    "    (11,23, 1, 'N'),\n",
    "    (11,24, 1, 'N'),\n",
    "    (11,25, 1, 'N'),\n",
    "    (11,26, 1, 'N'),\n",
    "    (13,28, 1, 'Y'),\n",
    "    (13,28, 2, 'N'),\n",
    "    (14,29, 1, 'N'),\n",
    "    (14,30, 1, 'N')\n",
    "]"
   ]
  },
  {
   "cell_type": "code",
   "execution_count": 27,
   "id": "819f971f",
   "metadata": {},
   "outputs": [
    {
     "name": "stdout",
     "output_type": "stream",
     "text": [
      "50 was inserted.\n"
     ]
    }
   ],
   "source": [
    "mycursor.executemany(sql, val)\n",
    "mydb.commit()\n",
    "print(mycursor.rowcount, \"was inserted.\")"
   ]
  },
  {
   "cell_type": "markdown",
   "id": "cd199929",
   "metadata": {},
   "source": [
    "### Ex2\n",
    "##### Realitza la següent consulta sobre la base de dades acabada de crear: \n",
    "\n",
    "Has d'obtenir el nom, el país i la data de naixement d'aquelles persones per les quals no consti una data de mort i ordenar les dades de la persona més vella a la persona més jove."
   ]
  },
  {
   "cell_type": "code",
   "execution_count": 28,
   "id": "a70fc66a",
   "metadata": {},
   "outputs": [
    {
     "name": "stdout",
     "output_type": "stream",
     "text": [
      "[('Max Sheen', 'United States', datetime.date(2009, 5, 1)), ('Bob Sheen', 'United States', datetime.date(2009, 5, 1)), ('Lola Sheen', 'United States', datetime.date(2005, 6, 1)), ('Sam Sheen', 'United States', datetime.date(2004, 3, 9)), ('Paula Jones-Sheen', 'United States', datetime.date(2003, 7, 6)), ('Patrick Criado', 'Spain', datetime.date(1995, 9, 23)), ('Clara Lago', 'Spain', datetime.date(1986, 4, 17)), ('Paloma Rae Estevez', 'United States', datetime.date(1986, 2, 15)), ('Paula Speert Sheen', 'United States', datetime.date(1986, 1, 6)), ('Dani Rovira', 'Spain', datetime.date(1984, 7, 1)), ('Taylor Levi Estevez', 'United States', datetime.date(1984, 6, 22)), ('Veronica Echegui', 'Spain', datetime.date(1983, 3, 14)), ('Quim Gutierrez', 'Spain', datetime.date(1981, 3, 27)), ('Daniel Sanchez Arevalo', 'Spain', datetime.date(1970, 6, 8)), ('Robert Alamo', 'Spain', datetime.date(1970, 5, 6)), ('Catherine Zeta-Jones', 'Wales', datetime.date(1969, 9, 25)), ('Reneé Estevez', 'United States', datetime.date(1967, 4, 2)), ('Charlie Sheen', 'United States', datetime.date(1965, 9, 3)), ('Carmen Machi', 'Spain', datetime.date(1964, 8, 9)), ('Ramón Estevez', 'United States', datetime.date(1963, 8, 7)), ('Emilio Estevez', 'United States', datetime.date(1962, 5, 12)), ('Karra Elejalde', 'Spain', datetime.date(1960, 3, 6)), ('Emilio Martinez Lazaro', 'Spain', datetime.date(1956, 9, 9)), ('Tom Hanks', 'United States', datetime.date(1956, 7, 9)), ('Mel Gibson', 'Australia', datetime.date(1950, 8, 9)), ('Tim Robbins', 'United States', datetime.date(1949, 6, 7)), ('Steven Spielberg', 'United States', datetime.date(1946, 12, 18)), ('Carmine Coppola', 'United States', datetime.date(1945, 7, 8)), ('George Lucas', 'United States', datetime.date(1944, 5, 14)), ('Harrison Ford', 'United States', datetime.date(1942, 7, 13)), ('Martin Sheen', 'United States', datetime.date(1940, 8, 3)), ('Gary Kurtz', 'United States', datetime.date(1940, 7, 27)), ('Francis Ford Coppola', 'United States', datetime.date(1939, 4, 7)), ('Morgan Freeman', 'United States', datetime.date(1935, 10, 1)), ('Robert Duvall', 'United States', datetime.date(1931, 1, 5)), ('Sean Connery', 'Scotland', datetime.date(1930, 7, 8)), ('Vera Miles', 'United States', datetime.date(1929, 8, 23)), ('John Williams', 'United States', datetime.date(1928, 8, 8))]\n"
     ]
    }
   ],
   "source": [
    "mycursor = mydb.cursor()\n",
    "\n",
    "sql = \"SELECT person_name, person_country, person_dob FROM person WHERE person_dod IS NULL ORDER BY person_dob DESC\"\n",
    "mycursor.execute(sql)\n",
    "myresult = mycursor.fetchall()\n",
    "\n",
    "print (myresult)"
   ]
  },
  {
   "cell_type": "markdown",
   "id": "6c6d60f9",
   "metadata": {},
   "source": [
    "### Ex3  \n",
    "##### Realitza la següent consulta sobre la base de dades acabada de crear: \n",
    "\n",
    "Has d'obtenir el nom del gènere i el nombre total de pel·lícules d'aquest gènere i ordenar-ho per ordre descendent de nombre total de pel·lícules. "
   ]
  },
  {
   "cell_type": "code",
   "execution_count": 29,
   "id": "69dda5d3",
   "metadata": {},
   "outputs": [
    {
     "name": "stdout",
     "output_type": "stream",
     "text": [
      "[('Comedia', 3), ('Acción', 2), ('Drama', 2), ('Romance', 2), ('Ciencia Ficción', 1), ('Fantasía', 1), ('Suspense', 1), ('Terror', 1), ('Bélico', 1)]\n"
     ]
    }
   ],
   "source": [
    "mycursor = mydb.cursor()\n",
    "\n",
    "sql = \"SELECT \\\n",
    "  g.genre_name AS genre, \\\n",
    "  count(m.movie_id) AS total\\\n",
    "  FROM genre g \\\n",
    "  INNER JOIN movies m ON m.movie_genre_id = g.genre_id\\\n",
    "  GROUP BY g.genre_name\\\n",
    "  ORDER BY total DESC\"\n",
    "\n",
    "mycursor.execute(sql)\n",
    "\n",
    "myresult = mycursor.fetchall()\n",
    "print (myresult)"
   ]
  },
  {
   "attachments": {},
   "cell_type": "markdown",
   "id": "fe1cd520",
   "metadata": {},
   "source": [
    "### Ex4  \n",
    "##### Realitza la següent consulta sobre la base de dades acabada de crear: \n",
    "\n",
    "Has d'obtenir, per a cada persona, el seu nom i el nombre màxim de rols diferents que ha tingut en una mateixa pel·lícula. "
   ]
  },
  {
   "cell_type": "code",
   "execution_count": 30,
   "id": "3f0073f8",
   "metadata": {},
   "outputs": [
    {
     "name": "stdout",
     "output_type": "stream",
     "text": [
      "[('Steven Spielberg', 5), ('Harrison Ford', 3), ('George Lucas', 3), ('Alfred Joseph Hitchcock', 3), ('Francis Ford Coppola', 3), ('Emilio Martinez Lazaro', 3), ('Dani Rovira', 2), ('Clara Lago', 2), ('Carmen Machi', 2), ('Karra Elejalde', 2), ('Mel Gibson', 2), ('Daniel Sanchez Arevalo', 2), ('Marlon Brando', 1), ('Robert Duvall', 1), ('Martin Sheen', 1), ('Charlie Sheen', 1), ('Tom Hanks', 1), ('Catherine Zeta-Jones', 1), ('Quim Gutierrez', 1), ('Robert Alamo', 1), ('Hector Colome', 1), ('Veronica Echegui', 1), ('Patrick Criado', 1), ('Morgan Freeman', 1), ('Tim Robbins', 1), ('Anthony Perkins', 1), ('Vera Miles', 1), ('Gary Kurtz', 1), ('Carmine Coppola', 1), ('John Williams', 1)]\n"
     ]
    }
   ],
   "source": [
    "mycursor = mydb.cursor()\n",
    "\n",
    "sql = \"SELECT \\\n",
    "  p.person_name, \\\n",
    "  count(r.role_id) AS Roles\\\n",
    "  FROM person p \\\n",
    "  INNER JOIN movie_person m ON m.person_id = p.person_id\\\n",
    "  INNER JOIN role r ON r.role_id = m.role_id\\\n",
    "  GROUP BY p.person_name\\\n",
    "  ORDER BY Roles DESC \\\n",
    "  \"\n",
    "\n",
    "mycursor.execute(sql)\n",
    "\n",
    "myresult = mycursor.fetchall()\n",
    "print (myresult)"
   ]
  },
  {
   "cell_type": "markdown",
   "id": "e8244a82",
   "metadata": {},
   "source": [
    "### Ex5  \n",
    "##### Realitza la següent operació sobre la base de dades acabada de crear: \n",
    "\n",
    "Has de crear un nou gènere anomenat \"Documental\" el qual tingui com a identificador el nombre 69."
   ]
  },
  {
   "cell_type": "code",
   "execution_count": 31,
   "id": "9f802872",
   "metadata": {},
   "outputs": [
    {
     "name": "stdout",
     "output_type": "stream",
     "text": [
      "1 was inserted.\n"
     ]
    }
   ],
   "source": [
    "mycursor = mydb.cursor()\n",
    "sql= \"INSERT INTO genre (genre_id, genre_name, created_by_user) VALUES ( 69, 'Documental','')\"\n",
    "mycursor.execute(sql)\n",
    "mydb.commit()\n",
    "print(mycursor.rowcount, \"was inserted.\")"
   ]
  },
  {
   "cell_type": "code",
   "execution_count": 32,
   "id": "08563bc4",
   "metadata": {},
   "outputs": [
    {
     "name": "stdout",
     "output_type": "stream",
     "text": [
      "[(1, 'Acción', '', None, None), (2, 'Ciencia Ficción', '', None, None), (3, 'Comedia', '', None, None), (4, 'Drama', '', None, None), (5, 'Fantasía', 'apermag', None, None), (6, 'Melodrama', 'apermag', datetime.date(2018, 9, 1), datetime.date(2018, 9, 27)), (7, 'Musical', '', None, None), (8, 'Romance', '', None, None), (9, 'Suspense', '', None, None), (10, 'Terror', '', None, None), (11, 'Bélico', '', None, None), (69, 'Documental', '', None, None)]\n"
     ]
    }
   ],
   "source": [
    "mycursor.execute(\"SELECT * FROM genre\")\n",
    "myresult = mycursor.fetchall()\n",
    "\n",
    "print (myresult)"
   ]
  },
  {
   "cell_type": "markdown",
   "id": "48ae95d5",
   "metadata": {},
   "source": [
    "### Ex6  \n",
    "##### Fes la següent operació sobre la base de dades acabada de crear:  \n",
    "\n",
    "Elimina la pel·lícula \"La Gran Familia Española\" de la base de dades."
   ]
  },
  {
   "cell_type": "code",
   "execution_count": 33,
   "id": "1e0eeda8",
   "metadata": {},
   "outputs": [
    {
     "ename": "IntegrityError",
     "evalue": "1451 (23000): Cannot delete or update a parent row: a foreign key constraint fails (`movies`.`movie_person`, CONSTRAINT `fk_movper_movie` FOREIGN KEY (`movie_id`) REFERENCES `movies` (`movie_id`))",
     "output_type": "error",
     "traceback": [
      "\u001b[1;31m---------------------------------------------------------------------------\u001b[0m",
      "\u001b[1;31mMySQLInterfaceError\u001b[0m                       Traceback (most recent call last)",
      "File \u001b[1;32mc:\\Program Files (x86)\\Microsoft Visual Studio\\Shared\\Python39_64\\lib\\site-packages\\mysql\\connector\\connection_cext.py:523\u001b[0m, in \u001b[0;36mCMySQLConnection.cmd_query\u001b[1;34m(self, query, raw, buffered, raw_as_string)\u001b[0m\n\u001b[0;32m    522\u001b[0m         query \u001b[39m=\u001b[39m query\u001b[39m.\u001b[39mencode(\u001b[39m'\u001b[39m\u001b[39mutf-8\u001b[39m\u001b[39m'\u001b[39m)\n\u001b[1;32m--> 523\u001b[0m     \u001b[39mself\u001b[39;49m\u001b[39m.\u001b[39;49m_cmysql\u001b[39m.\u001b[39;49mquery(query,\n\u001b[0;32m    524\u001b[0m                        raw\u001b[39m=\u001b[39;49mraw, buffered\u001b[39m=\u001b[39;49mbuffered,\n\u001b[0;32m    525\u001b[0m                        raw_as_string\u001b[39m=\u001b[39;49mraw_as_string,\n\u001b[0;32m    526\u001b[0m                        query_attrs\u001b[39m=\u001b[39;49m\u001b[39mself\u001b[39;49m\u001b[39m.\u001b[39;49m_query_attrs)\n\u001b[0;32m    527\u001b[0m \u001b[39mexcept\u001b[39;00m MySQLInterfaceError \u001b[39mas\u001b[39;00m exc:\n",
      "\u001b[1;31mMySQLInterfaceError\u001b[0m: Cannot delete or update a parent row: a foreign key constraint fails (`movies`.`movie_person`, CONSTRAINT `fk_movper_movie` FOREIGN KEY (`movie_id`) REFERENCES `movies` (`movie_id`))",
      "\nDuring handling of the above exception, another exception occurred:\n",
      "\u001b[1;31mIntegrityError\u001b[0m                            Traceback (most recent call last)",
      "\u001b[1;32mt:\\_BarcelonaActiva\\CIENCIA_DE_DADES\\1- Bases_dades_relacionals\\Sprint01\\Bases_de_dades.ipynb Cell 36\u001b[0m in \u001b[0;36m<module>\u001b[1;34m\u001b[0m\n\u001b[0;32m      <a href='vscode-notebook-cell:/t%3A/_BarcelonaActiva/CIENCIA_DE_DADES/1-%20Bases_dades_relacionals/Sprint01/Bases_de_dades.ipynb#X51sZmlsZQ%3D%3D?line=2'>3</a>\u001b[0m sql\u001b[39m=\u001b[39m \u001b[39m\"\u001b[39m\u001b[39mDELETE FROM movies WHERE movie_title = \u001b[39m\u001b[39m%s\u001b[39;00m\u001b[39m\"\u001b[39m\n\u001b[0;32m      <a href='vscode-notebook-cell:/t%3A/_BarcelonaActiva/CIENCIA_DE_DADES/1-%20Bases_dades_relacionals/Sprint01/Bases_de_dades.ipynb#X51sZmlsZQ%3D%3D?line=3'>4</a>\u001b[0m adr\u001b[39m=\u001b[39m (\u001b[39m'\u001b[39m\u001b[39mLa Gran Familia Española\u001b[39m\u001b[39m'\u001b[39m,)\n\u001b[1;32m----> <a href='vscode-notebook-cell:/t%3A/_BarcelonaActiva/CIENCIA_DE_DADES/1-%20Bases_dades_relacionals/Sprint01/Bases_de_dades.ipynb#X51sZmlsZQ%3D%3D?line=4'>5</a>\u001b[0m mycursor\u001b[39m.\u001b[39;49mexecute(sql, adr)\n\u001b[0;32m      <a href='vscode-notebook-cell:/t%3A/_BarcelonaActiva/CIENCIA_DE_DADES/1-%20Bases_dades_relacionals/Sprint01/Bases_de_dades.ipynb#X51sZmlsZQ%3D%3D?line=6'>7</a>\u001b[0m mydb\u001b[39m.\u001b[39mcommit()\n\u001b[0;32m      <a href='vscode-notebook-cell:/t%3A/_BarcelonaActiva/CIENCIA_DE_DADES/1-%20Bases_dades_relacionals/Sprint01/Bases_de_dades.ipynb#X51sZmlsZQ%3D%3D?line=8'>9</a>\u001b[0m \u001b[39mprint\u001b[39m(mycursor\u001b[39m.\u001b[39mrowcount, \u001b[39m\"\u001b[39m\u001b[39mrecord(s) deleted\u001b[39m\u001b[39m\"\u001b[39m)\n",
      "File \u001b[1;32mc:\\Program Files (x86)\\Microsoft Visual Studio\\Shared\\Python39_64\\lib\\site-packages\\mysql\\connector\\cursor_cext.py:269\u001b[0m, in \u001b[0;36mCMySQLCursor.execute\u001b[1;34m(self, operation, params, multi)\u001b[0m\n\u001b[0;32m    265\u001b[0m             \u001b[39mraise\u001b[39;00m errors\u001b[39m.\u001b[39mProgrammingError(\n\u001b[0;32m    266\u001b[0m                 \u001b[39m\"\u001b[39m\u001b[39mNot all parameters were used in the SQL statement\u001b[39m\u001b[39m\"\u001b[39m)\n\u001b[0;32m    268\u001b[0m \u001b[39mtry\u001b[39;00m:\n\u001b[1;32m--> 269\u001b[0m     result \u001b[39m=\u001b[39m \u001b[39mself\u001b[39;49m\u001b[39m.\u001b[39;49m_cnx\u001b[39m.\u001b[39;49mcmd_query(stmt, raw\u001b[39m=\u001b[39;49m\u001b[39mself\u001b[39;49m\u001b[39m.\u001b[39;49m_raw,\n\u001b[0;32m    270\u001b[0m                                  buffered\u001b[39m=\u001b[39;49m\u001b[39mself\u001b[39;49m\u001b[39m.\u001b[39;49m_buffered,\n\u001b[0;32m    271\u001b[0m                                  raw_as_string\u001b[39m=\u001b[39;49m\u001b[39mself\u001b[39;49m\u001b[39m.\u001b[39;49m_raw_as_string)\n\u001b[0;32m    272\u001b[0m \u001b[39mexcept\u001b[39;00m MySQLInterfaceError \u001b[39mas\u001b[39;00m exc:\n\u001b[0;32m    273\u001b[0m     \u001b[39mraise\u001b[39;00m errors\u001b[39m.\u001b[39mget_mysql_exception(msg\u001b[39m=\u001b[39mexc\u001b[39m.\u001b[39mmsg, errno\u001b[39m=\u001b[39mexc\u001b[39m.\u001b[39merrno,\n\u001b[0;32m    274\u001b[0m                                      sqlstate\u001b[39m=\u001b[39mexc\u001b[39m.\u001b[39msqlstate)\n",
      "File \u001b[1;32mc:\\Program Files (x86)\\Microsoft Visual Studio\\Shared\\Python39_64\\lib\\site-packages\\mysql\\connector\\connection_cext.py:528\u001b[0m, in \u001b[0;36mCMySQLConnection.cmd_query\u001b[1;34m(self, query, raw, buffered, raw_as_string)\u001b[0m\n\u001b[0;32m    523\u001b[0m     \u001b[39mself\u001b[39m\u001b[39m.\u001b[39m_cmysql\u001b[39m.\u001b[39mquery(query,\n\u001b[0;32m    524\u001b[0m                        raw\u001b[39m=\u001b[39mraw, buffered\u001b[39m=\u001b[39mbuffered,\n\u001b[0;32m    525\u001b[0m                        raw_as_string\u001b[39m=\u001b[39mraw_as_string,\n\u001b[0;32m    526\u001b[0m                        query_attrs\u001b[39m=\u001b[39m\u001b[39mself\u001b[39m\u001b[39m.\u001b[39m_query_attrs)\n\u001b[0;32m    527\u001b[0m \u001b[39mexcept\u001b[39;00m MySQLInterfaceError \u001b[39mas\u001b[39;00m exc:\n\u001b[1;32m--> 528\u001b[0m     \u001b[39mraise\u001b[39;00m errors\u001b[39m.\u001b[39mget_mysql_exception(exc\u001b[39m.\u001b[39merrno, msg\u001b[39m=\u001b[39mexc\u001b[39m.\u001b[39mmsg,\n\u001b[0;32m    529\u001b[0m                                      sqlstate\u001b[39m=\u001b[39mexc\u001b[39m.\u001b[39msqlstate)\n\u001b[0;32m    530\u001b[0m \u001b[39mexcept\u001b[39;00m \u001b[39mAttributeError\u001b[39;00m:\n\u001b[0;32m    531\u001b[0m     \u001b[39mif\u001b[39;00m \u001b[39mself\u001b[39m\u001b[39m.\u001b[39m_unix_socket:\n",
      "\u001b[1;31mIntegrityError\u001b[0m: 1451 (23000): Cannot delete or update a parent row: a foreign key constraint fails (`movies`.`movie_person`, CONSTRAINT `fk_movper_movie` FOREIGN KEY (`movie_id`) REFERENCES `movies` (`movie_id`))"
     ]
    }
   ],
   "source": [
    "mycursor = mydb.cursor()\n",
    "\n",
    "sql= \"DELETE FROM movies WHERE movie_title = %s\"\n",
    "adr= ('La Gran Familia Española',)\n",
    "mycursor.execute(sql, adr)\n",
    "\n",
    "mydb.commit()\n",
    "\n",
    "print(mycursor.rowcount, \"record(s) deleted\")"
   ]
  },
  {
   "cell_type": "markdown",
   "id": "82539114",
   "metadata": {},
   "source": [
    "### Ex7  \n",
    "##### Realitza la següent operació sobre la base de dades acabada de crear: \n",
    "\n",
    "Canvia el gènere de la pel·lícula \"Ocho apellidos catalanes\" perquè consti com a comèdia i no com a romàntica."
   ]
  },
  {
   "cell_type": "code",
   "execution_count": 34,
   "id": "5e2b3d65",
   "metadata": {},
   "outputs": [
    {
     "name": "stdout",
     "output_type": "stream",
     "text": [
      "1 record(s) affected\n"
     ]
    }
   ],
   "source": [
    "mycursor = mydb.cursor()\n",
    "\n",
    "sql = \"UPDATE movies SET movie_genre_id = %s WHERE movie_title = %s\"\n",
    "val = (\"3\", \"Ocho Apellidos Catalanes\")\n",
    "\n",
    "mycursor.execute(sql, val)\n",
    "\n",
    "mydb.commit()\n",
    "\n",
    "print(mycursor.rowcount, \"record(s) affected\")"
   ]
  },
  {
   "cell_type": "code",
   "execution_count": 35,
   "id": "cbe109ba",
   "metadata": {},
   "outputs": [
    {
     "name": "stdout",
     "output_type": "stream",
     "text": [
      "[(1, 'Apocalypse Now', datetime.date(1979, 5, 10), 'Film', 11, 'OS_SGAD', None, None), (2, 'Star Wars:Episode IV - A New Hope', datetime.date(1977, 5, 25), 'Film', 2, 'OS_SGAD', None, None), (3, 'Indiana Jones and the Temple of Doom', datetime.date(1984, 5, 8), 'Film', 1, 'OS_SGAD', None, None), (4, 'The Terminal', datetime.date(2004, 6, 18), 'Digital', 3, 'OS_SGAD', None, None), (5, 'Jaws', datetime.date(1975, 1, 1), 'Film', 10, 'OS_SGAD', None, None), (6, 'ET The Extraterrestrial', datetime.date(1982, 7, 25), 'Film', 5, 'OS_SGAD', None, None), (7, 'Psycho', datetime.date(1960, 5, 6), 'Film', 9, 'OS_SGAD', None, None), (8, 'Ocho Apellidos Vascos', datetime.date(2014, 3, 14), 'Digital', 3, 'OS_SGAD', None, None), (9, 'Ocho Apellidos Catalanes', datetime.date(2016, 6, 9), 'Digital', 3, 'OS_SGAD', None, None), (10, 'El otro lado de la cama', datetime.date(2002, 9, 4), 'Digital', 8, 'OS_SGAD', None, None), (11, 'La Gran Familia Española', datetime.date(2012, 10, 15), 'Digital', 3, 'OS_SGAD', None, None), (12, 'El dia de la bestia', datetime.date(1994, 12, 25), 'Film', 1, 'OS_SGAD', None, None), (13, 'Braveheart', datetime.date(1995, 8, 8), 'Film', 4, 'OS_SGAD', None, None), (14, 'The Shawshank Redemption', datetime.date(1992, 1, 7), 'Film', 4, 'OS_SGAD', None, None)]\n"
     ]
    }
   ],
   "source": [
    "mycursor.execute(\"SELECT * FROM movies\")\n",
    "myresult = mycursor.fetchall()\n",
    "\n",
    "print (myresult)"
   ]
  },
  {
   "cell_type": "code",
   "execution_count": 36,
   "id": "b4db46f9",
   "metadata": {},
   "outputs": [
    {
     "data": {
      "text/plain": [
       "True"
      ]
     },
     "execution_count": 36,
     "metadata": {},
     "output_type": "execute_result"
    }
   ],
   "source": [
    "mycursor.close()"
   ]
  }
 ],
 "metadata": {
  "kernelspec": {
   "display_name": "Python 3.9.5 64-bit",
   "language": "python",
   "name": "python3"
  },
  "language_info": {
   "codemirror_mode": {
    "name": "ipython",
    "version": 3
   },
   "file_extension": ".py",
   "mimetype": "text/x-python",
   "name": "python",
   "nbconvert_exporter": "python",
   "pygments_lexer": "ipython3",
   "version": "3.9.5"
  },
  "vscode": {
   "interpreter": {
    "hash": "c347c8f9a7ef94e4c9e03b4513be7835ed18f45b99a2a817fb579f408b867b16"
   }
  }
 },
 "nbformat": 4,
 "nbformat_minor": 5
}

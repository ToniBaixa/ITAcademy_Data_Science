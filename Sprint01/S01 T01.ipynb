{
 "cells": [
  {
   "cell_type": "markdown",
   "id": "2056e70e",
   "metadata": {},
   "source": [
    "#S01 T01 Practice: Jupyter Notebook and Markdown"
   ]
  },
  {
   "cell_type": "markdown",
   "id": "2279cd19",
   "metadata": {},
   "source": [
    "###Variable Assignment"
   ]
  },
  {
   "cell_type": "code",
   "execution_count": 31,
   "id": "3d24cd69",
   "metadata": {
    "ExecuteTime": {
     "end_time": "2022-05-04T15:35:55.570459Z",
     "start_time": "2022-05-04T15:35:55.497935Z"
    }
   },
   "outputs": [
    {
     "name": "stdout",
     "output_type": "stream",
     "text": [
      "x = 1\n",
      "y = 2\n",
      "z = 3\n"
     ]
    }
   ],
   "source": [
    "x,y,z = 1,2,3\n",
    "print ( \"x = {}\".format(x))\n",
    "print ( \"y = {}\".format(y))\n",
    "print ( \"z = {}\".format(z))"
   ]
  },
  {
   "cell_type": "markdown",
   "id": "cd199929",
   "metadata": {},
   "source": [
    "###Maths operations"
   ]
  },
  {
   "cell_type": "code",
   "execution_count": 32,
   "id": "b5d19692",
   "metadata": {
    "ExecuteTime": {
     "end_time": "2022-05-04T15:35:55.637818Z",
     "start_time": "2022-05-04T15:35:55.604920Z"
    }
   },
   "outputs": [
    {
     "name": "stdout",
     "output_type": "stream",
     "text": [
      "suma = 3\n",
      "resta = -1\n",
      "multiplicació = 2\n",
      "divisió = 0.5\n"
     ]
    }
   ],
   "source": [
    "sum = x+y\n",
    "print ( \"suma = {}\".format(sum))\n",
    "sub = x-y\n",
    "print ( \"resta = {}\".format(sub))\n",
    "mult = x*y\n",
    "print ( \"multiplicació = {}\".format(mult))\n",
    "div = x/y\n",
    "print ( \"divisió = {}\".format(div))"
   ]
  },
  {
   "cell_type": "markdown",
   "id": "6c6d60f9",
   "metadata": {},
   "source": [
    "###Casting exemples"
   ]
  },
  {
   "cell_type": "code",
   "execution_count": 33,
   "id": "82c9be53",
   "metadata": {
    "ExecuteTime": {
     "end_time": "2022-05-04T15:35:55.725804Z",
     "start_time": "2022-05-04T15:35:55.659299Z"
    },
    "scrolled": true
   },
   "outputs": [
    {
     "name": "stdout",
     "output_type": "stream",
     "text": [
      "Int_cast = 0\n",
      "<class 'int'>\n",
      "Str_cast = 0.5\n",
      "<class 'str'>\n",
      "Int_cast = 2.0\n",
      "<class 'float'>\n",
      "Bool_cast = True\n",
      "<class 'float'>\n"
     ]
    }
   ],
   "source": [
    "# float to int\n",
    "a = int (div)\n",
    "print ( \"Int_cast = {}\".format(a))\n",
    "print (type(a))\n",
    "# float to string\n",
    "b = str (div)\n",
    "print ( \"Str_cast = {}\".format(b))\n",
    "print (type(b))\n",
    "# int to float\n",
    "c = float (mult)\n",
    "print ( \"Int_cast = {}\".format(c))\n",
    "print (type(c))\n",
    "# int to bool\n",
    "d = bool (mult)\n",
    "print ( \"Bool_cast = {}\".format(d))\n",
    "print (type(c))"
   ]
  },
  {
   "cell_type": "markdown",
   "id": "65bddac0",
   "metadata": {},
   "source": [
    "###Some string techniques"
   ]
  },
  {
   "cell_type": "code",
   "execution_count": 34,
   "id": "d1e3415e",
   "metadata": {
    "ExecuteTime": {
     "end_time": "2022-05-04T15:35:55.827978Z",
     "start_time": "2022-05-04T15:35:55.748331Z"
    }
   },
   "outputs": [
    {
     "name": "stdout",
     "output_type": "stream",
     "text": [
      "Això és una frase d'exemple i aqui la modifico, afegint més text\n",
      "Això\n",
      "AIXÒ ÉS UNA FRASE D'EXEMPLE\n",
      "Quants 'é' tenim ? 1\n",
      "Replacing 'e' per 'W' Això és una frasW d'WxWmplW\n"
     ]
    }
   ],
   "source": [
    "my_string = \"Això és una frase d'exemple\"\n",
    "#string operation\n",
    "m2 = my_string + \" i aqui la modifico, afegint més text\"\n",
    "print (m2)\n",
    "#slicing\n",
    "m3 = my_string[:4]\n",
    "print (m3)\n",
    "#some methods\n",
    "m4 = my_string.upper()\n",
    "print (m4)\n",
    "m5 = my_string.count('é')\n",
    "print ( \"Quants 'é' tenim ? {}\".format(m5))\n",
    "# replace\n",
    "m6 = my_string.replace ('e', 'W')\n",
    "print ( \"Replacing 'e' per 'W' {}\".format(m6))\n"
   ]
  },
  {
   "cell_type": "markdown",
   "id": "ca3a7572",
   "metadata": {},
   "source": [
    "###Working with booleans <span title=\"Working\" style=\"color: darkgreen \"> </span>"
   ]
  },
  {
   "cell_type": "code",
   "execution_count": 35,
   "id": "f3b336ee",
   "metadata": {
    "ExecuteTime": {
     "end_time": "2022-05-04T15:35:55.909435Z",
     "start_time": "2022-05-04T15:35:55.860724Z"
    }
   },
   "outputs": [
    {
     "name": "stdout",
     "output_type": "stream",
     "text": [
      "Is 0.5 an integer? False\n",
      "És el mateix? False\n",
      "És major? False\n",
      "És cumpleix? True\n",
      "És cumpleixen ambdues condicions? True\n",
      "És cumpleixen almenys una condició? True\n"
     ]
    }
   ],
   "source": [
    "# integer?\n",
    "print ( \"Is {} an integer? {}\".format(b, isinstance(b,int)))\n",
    "#comparasion between 2 values\n",
    "b2= \"hi\"== \"hello\"\n",
    "print ( \"És el mateix? {}\".format(b2))\n",
    "#True/false between 2 values\n",
    "b3= 5>45\n",
    "print ( \"És major? {}\".format(b3))\n",
    "#True/false between 2 values\n",
    "b6= 5\n",
    "b7= b6 >=0 and b6<10\n",
    "print ( \"És cumpleix? {}\".format(b7))\n",
    "\n",
    "#True/false with 2 conditions\n",
    "b4= 345>45 and 5 == 3+2\n",
    "print ( \"És cumpleixen ambdues condicions? {}\".format(b4))\n",
    "#True/false with 2 conditions on es cumpleix almenys una\n",
    "b5= 1>45 or 5== 3+2\n",
    "print ( \"És cumpleixen almenys una condició? {}\".format(b5))"
   ]
  },
  {
   "cell_type": "markdown",
   "id": "b1cdf9b5",
   "metadata": {
    "ExecuteTime": {
     "end_time": "2022-05-04T15:35:55.983068Z",
     "start_time": "2022-05-04T15:35:55.929596Z"
    }
   },
   "source": [
    "###Nbextensions Screenshot"
   ]
  },
  {
   "cell_type": "markdown",
   "id": "e823475d",
   "metadata": {
    "ExecuteTime": {
     "end_time": "2022-05-04T15:35:56.037837Z",
     "start_time": "2022-05-04T15:35:56.037739Z"
    }
   },
   "source": [
    "<img src=\"Captura_nbextensions.png\" width=400 height=400 />"
   ]
  }
 ],
 "metadata": {
  "kernelspec": {
   "display_name": "Python 3 (ipykernel)",
   "language": "python",
   "name": "python3"
  },
  "language_info": {
   "codemirror_mode": {
    "name": "ipython",
    "version": 3
   },
   "file_extension": ".py",
   "mimetype": "text/x-python",
   "name": "python",
   "nbconvert_exporter": "python",
   "pygments_lexer": "ipython3",
   "version": "3.9.5"
  }
 },
 "nbformat": 4,
 "nbformat_minor": 5
}

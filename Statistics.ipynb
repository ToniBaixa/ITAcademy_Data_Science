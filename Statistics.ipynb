{
 "cells": [
  {
   "cell_type": "markdown",
   "id": "2056e70e",
   "metadata": {},
   "source": [
    "## S06 T01: Tasca dades, probabilitats i estadístiques"
   ]
  },
  {
   "cell_type": "markdown",
   "id": "df34950c",
   "metadata": {},
   "source": [
    "### NIVELL 1"
   ]
  },
  {
   "cell_type": "markdown",
   "id": "2279cd19",
   "metadata": {},
   "source": [
    "### Ex1\n",
    "##### Agafa un conjunt de dades de tema esportiu que t'agradi i selecciona un atribut del conjunt de dades. Calcula la moda, la mediana, la desviació estàndard i la mitjana aritmètica. "
   ]
  },
  {
   "cell_type": "code",
   "execution_count": 118,
   "id": "3d24cd69",
   "metadata": {
    "ExecuteTime": {
     "end_time": "2022-05-04T15:35:55.570459Z",
     "start_time": "2022-05-04T15:35:55.497935Z"
    }
   },
   "outputs": [
    {
     "data": {
      "text/html": [
       "<div>\n",
       "<style scoped>\n",
       "    .dataframe tbody tr th:only-of-type {\n",
       "        vertical-align: middle;\n",
       "    }\n",
       "\n",
       "    .dataframe tbody tr th {\n",
       "        vertical-align: top;\n",
       "    }\n",
       "\n",
       "    .dataframe thead th {\n",
       "        text-align: right;\n",
       "    }\n",
       "</style>\n",
       "<table border=\"1\" class=\"dataframe\">\n",
       "  <thead>\n",
       "    <tr style=\"text-align: right;\">\n",
       "      <th></th>\n",
       "      <th>match_id</th>\n",
       "      <th>round</th>\n",
       "      <th>date</th>\n",
       "      <th>avg_minutes_game</th>\n",
       "      <th>avg_seconds_point</th>\n",
       "      <th>avg_minutes_set</th>\n",
       "      <th>tournament</th>\n",
       "      <th>year</th>\n",
       "      <th>match_minutes</th>\n",
       "    </tr>\n",
       "  </thead>\n",
       "  <tbody>\n",
       "    <tr>\n",
       "      <th>0</th>\n",
       "      <td>m_2019_A_0</td>\n",
       "      <td>1st Round</td>\n",
       "      <td>2019-01-14</td>\n",
       "      <td>4.81</td>\n",
       "      <td>46.8</td>\n",
       "      <td>43.3</td>\n",
       "      <td>Australian Open</td>\n",
       "      <td>2019</td>\n",
       "      <td>173.0</td>\n",
       "    </tr>\n",
       "    <tr>\n",
       "      <th>1</th>\n",
       "      <td>m_2019_A_1</td>\n",
       "      <td>1st Round</td>\n",
       "      <td>2019-01-14</td>\n",
       "      <td>3.95</td>\n",
       "      <td>35.7</td>\n",
       "      <td>40.5</td>\n",
       "      <td>Australian Open</td>\n",
       "      <td>2019</td>\n",
       "      <td>162.0</td>\n",
       "    </tr>\n",
       "    <tr>\n",
       "      <th>2</th>\n",
       "      <td>m_2019_A_2</td>\n",
       "      <td>1st Round</td>\n",
       "      <td>2019-01-14</td>\n",
       "      <td>4.86</td>\n",
       "      <td>42.3</td>\n",
       "      <td>43.8</td>\n",
       "      <td>Australian Open</td>\n",
       "      <td>2019</td>\n",
       "      <td>175.0</td>\n",
       "    </tr>\n",
       "    <tr>\n",
       "      <th>3</th>\n",
       "      <td>m_2019_A_3</td>\n",
       "      <td>1st Round</td>\n",
       "      <td>2019-01-14</td>\n",
       "      <td>4.43</td>\n",
       "      <td>43.3</td>\n",
       "      <td>41.0</td>\n",
       "      <td>Australian Open</td>\n",
       "      <td>2019</td>\n",
       "      <td>164.0</td>\n",
       "    </tr>\n",
       "    <tr>\n",
       "      <th>4</th>\n",
       "      <td>m_2019_A_4</td>\n",
       "      <td>1st Round</td>\n",
       "      <td>2019-01-14</td>\n",
       "      <td>4.37</td>\n",
       "      <td>39.7</td>\n",
       "      <td>43.7</td>\n",
       "      <td>Australian Open</td>\n",
       "      <td>2019</td>\n",
       "      <td>131.0</td>\n",
       "    </tr>\n",
       "  </tbody>\n",
       "</table>\n",
       "</div>"
      ],
      "text/plain": [
       "     match_id      round        date  avg_minutes_game  avg_seconds_point  \\\n",
       "0  m_2019_A_0  1st Round  2019-01-14              4.81               46.8   \n",
       "1  m_2019_A_1  1st Round  2019-01-14              3.95               35.7   \n",
       "2  m_2019_A_2  1st Round  2019-01-14              4.86               42.3   \n",
       "3  m_2019_A_3  1st Round  2019-01-14              4.43               43.3   \n",
       "4  m_2019_A_4  1st Round  2019-01-14              4.37               39.7   \n",
       "\n",
       "   avg_minutes_set       tournament  year  match_minutes  \n",
       "0             43.3  Australian Open  2019          173.0  \n",
       "1             40.5  Australian Open  2019          162.0  \n",
       "2             43.8  Australian Open  2019          175.0  \n",
       "3             41.0  Australian Open  2019          164.0  \n",
       "4             43.7  Australian Open  2019          131.0  "
      ]
     },
     "execution_count": 118,
     "metadata": {},
     "output_type": "execute_result"
    }
   ],
   "source": [
    "%matplotlib inline\n",
    "import numpy as np\n",
    "import pandas as pd\n",
    "import random\n",
    "\n",
    "\n",
    "df = pd.read_csv(\"Match.csv\")\n",
    "\n",
    "df.head()"
   ]
  },
  {
   "cell_type": "markdown",
   "id": "79d556db",
   "metadata": {},
   "source": [
    "#### Agafem avg_seconds_point"
   ]
  },
  {
   "cell_type": "code",
   "execution_count": 119,
   "id": "1e932c71",
   "metadata": {},
   "outputs": [
    {
     "name": "stdout",
     "output_type": "stream",
     "text": [
      "Total 10160\n",
      "<class 'pandas.core.frame.DataFrame'>\n",
      "RangeIndex: 10160 entries, 0 to 10159\n",
      "Data columns (total 9 columns):\n",
      " #   Column             Non-Null Count  Dtype  \n",
      "---  ------             --------------  -----  \n",
      " 0   match_id           10160 non-null  object \n",
      " 1   round              10160 non-null  object \n",
      " 2   date               10160 non-null  object \n",
      " 3   avg_minutes_game   10114 non-null  float64\n",
      " 4   avg_seconds_point  10115 non-null  float64\n",
      " 5   avg_minutes_set    10078 non-null  float64\n",
      " 6   tournament         10160 non-null  object \n",
      " 7   year               10160 non-null  int64  \n",
      " 8   match_minutes      10117 non-null  float64\n",
      "dtypes: float64(4), int64(1), object(4)\n",
      "memory usage: 714.5+ KB\n"
     ]
    }
   ],
   "source": [
    "df.dtypes\n",
    "print ( r'Total {}'.format (len(df)))\n",
    "df.info()"
   ]
  },
  {
   "cell_type": "code",
   "execution_count": 120,
   "id": "c9a73c98",
   "metadata": {},
   "outputs": [
    {
     "name": "stdout",
     "output_type": "stream",
     "text": [
      "<class 'pandas.core.frame.DataFrame'>\n",
      "Int64Index: 10078 entries, 0 to 10159\n",
      "Data columns (total 9 columns):\n",
      " #   Column             Non-Null Count  Dtype  \n",
      "---  ------             --------------  -----  \n",
      " 0   match_id           10078 non-null  object \n",
      " 1   round              10078 non-null  object \n",
      " 2   date               10078 non-null  object \n",
      " 3   avg_minutes_game   10078 non-null  float64\n",
      " 4   avg_seconds_point  10078 non-null  float64\n",
      " 5   avg_minutes_set    10078 non-null  float64\n",
      " 6   tournament         10078 non-null  object \n",
      " 7   year               10078 non-null  int64  \n",
      " 8   match_minutes      10078 non-null  float64\n",
      "dtypes: float64(4), int64(1), object(4)\n",
      "memory usage: 787.3+ KB\n"
     ]
    },
    {
     "data": {
      "text/plain": [
       "0.0     255\n",
       "38.8    113\n",
       "37.9    110\n",
       "40.1    110\n",
       "37.5    108\n",
       "       ... \n",
       "54.1      1\n",
       "69.1      1\n",
       "79.7      1\n",
       "53.1      1\n",
       "27.6      1\n",
       "Name: avg_seconds_point, Length: 288, dtype: int64"
      ]
     },
     "execution_count": 120,
     "metadata": {},
     "output_type": "execute_result"
    }
   ],
   "source": [
    "#### There are 45 null records. The % is so low from all records, let's remove all of  them!\n",
    "df1 = df.dropna()\n",
    "df1.info()\n",
    "df1['avg_seconds_point'].value_counts()"
   ]
  },
  {
   "cell_type": "code",
   "execution_count": 121,
   "id": "b3b49a07",
   "metadata": {},
   "outputs": [
    {
     "name": "stderr",
     "output_type": "stream",
     "text": [
      "C:\\Users\\Toni Andreu\\AppData\\Local\\Temp\\ipykernel_21496\\2577396024.py:2: SettingWithCopyWarning: \n",
      "A value is trying to be set on a copy of a slice from a DataFrame.\n",
      "Try using .loc[row_indexer,col_indexer] = value instead\n",
      "\n",
      "See the caveats in the documentation: https://pandas.pydata.org/pandas-docs/stable/user_guide/indexing.html#returning-a-view-versus-a-copy\n",
      "  df1['avg_seconds_point']= df1['avg_seconds_point'].replace(0,df1['avg_seconds_point'].mean())\n"
     ]
    },
    {
     "data": {
      "text/plain": [
       "38.224658    255\n",
       "38.800000    113\n",
       "37.900000    110\n",
       "40.100000    110\n",
       "37.500000    108\n",
       "            ... \n",
       "54.100000      1\n",
       "69.100000      1\n",
       "79.700000      1\n",
       "53.100000      1\n",
       "27.600000      1\n",
       "Name: avg_seconds_point, Length: 288, dtype: int64"
      ]
     },
     "execution_count": 121,
     "metadata": {},
     "output_type": "execute_result"
    }
   ],
   "source": [
    "# still there is 255 records with 0.00 value; let's change it's value for the mean one.\n",
    "df1['avg_seconds_point']= df1['avg_seconds_point'].replace(0,df1['avg_seconds_point'].mean())\n",
    "df1['avg_seconds_point'].value_counts()"
   ]
  },
  {
   "cell_type": "code",
   "execution_count": 122,
   "id": "3175ab3e",
   "metadata": {},
   "outputs": [
    {
     "name": "stdout",
     "output_type": "stream",
     "text": [
      "Mean = 39.19184239987041\n",
      "Median = 38.8\n",
      "Mode = 0    38.224658\n",
      "dtype: float64\n"
     ]
    }
   ],
   "source": [
    "mean_points = df1['avg_seconds_point'].sum()/len(df1['avg_seconds_point'])\n",
    "print (r'Mean = {}'.format(mean_points))\n",
    "\n",
    "median_points = df1['avg_seconds_point'].median()\n",
    "print (r'Median = {}'.format(median_points))\n",
    "\n",
    "mode_points = df1['avg_seconds_point'].mode()\n",
    "print (r'Mode = {}'.format(mode_points))"
   ]
  },
  {
   "cell_type": "code",
   "execution_count": 123,
   "id": "90cc9cf1",
   "metadata": {},
   "outputs": [
    {
     "name": "stdout",
     "output_type": "stream",
     "text": [
      "Std.,Deviation = 5.72558260934816\n"
     ]
    }
   ],
   "source": [
    "\n",
    "std_deviation_points = df1['avg_seconds_point'].std()\n",
    "print (r'Std.,Deviation = {}'.format(std_deviation_points))\n",
    "\n"
   ]
  },
  {
   "cell_type": "code",
   "execution_count": 124,
   "id": "6481e186",
   "metadata": {},
   "outputs": [
    {
     "data": {
      "text/html": [
       "<div>\n",
       "<style scoped>\n",
       "    .dataframe tbody tr th:only-of-type {\n",
       "        vertical-align: middle;\n",
       "    }\n",
       "\n",
       "    .dataframe tbody tr th {\n",
       "        vertical-align: top;\n",
       "    }\n",
       "\n",
       "    .dataframe thead th {\n",
       "        text-align: right;\n",
       "    }\n",
       "</style>\n",
       "<table border=\"1\" class=\"dataframe\">\n",
       "  <thead>\n",
       "    <tr style=\"text-align: right;\">\n",
       "      <th></th>\n",
       "      <th>avg_minutes_game</th>\n",
       "      <th>avg_seconds_point</th>\n",
       "      <th>avg_minutes_set</th>\n",
       "      <th>year</th>\n",
       "      <th>match_minutes</th>\n",
       "    </tr>\n",
       "  </thead>\n",
       "  <tbody>\n",
       "    <tr>\n",
       "      <th>count</th>\n",
       "      <td>10078.000000</td>\n",
       "      <td>10078.000000</td>\n",
       "      <td>10078.000000</td>\n",
       "      <td>10078.000000</td>\n",
       "      <td>10078.000000</td>\n",
       "    </tr>\n",
       "    <tr>\n",
       "      <th>mean</th>\n",
       "      <td>4.055539</td>\n",
       "      <td>39.191842</td>\n",
       "      <td>39.223477</td>\n",
       "      <td>2009.482635</td>\n",
       "      <td>142.781802</td>\n",
       "    </tr>\n",
       "    <tr>\n",
       "      <th>std</th>\n",
       "      <td>0.870338</td>\n",
       "      <td>5.725583</td>\n",
       "      <td>10.129553</td>\n",
       "      <td>5.766765</td>\n",
       "      <td>51.990544</td>\n",
       "    </tr>\n",
       "    <tr>\n",
       "      <th>min</th>\n",
       "      <td>0.000000</td>\n",
       "      <td>7.100000</td>\n",
       "      <td>0.000000</td>\n",
       "      <td>2000.000000</td>\n",
       "      <td>0.000000</td>\n",
       "    </tr>\n",
       "    <tr>\n",
       "      <th>25%</th>\n",
       "      <td>3.730000</td>\n",
       "      <td>36.300000</td>\n",
       "      <td>34.400000</td>\n",
       "      <td>2004.000000</td>\n",
       "      <td>109.000000</td>\n",
       "    </tr>\n",
       "    <tr>\n",
       "      <th>50%</th>\n",
       "      <td>4.110000</td>\n",
       "      <td>38.800000</td>\n",
       "      <td>39.300000</td>\n",
       "      <td>2009.000000</td>\n",
       "      <td>138.000000</td>\n",
       "    </tr>\n",
       "    <tr>\n",
       "      <th>75%</th>\n",
       "      <td>4.500000</td>\n",
       "      <td>41.600000</td>\n",
       "      <td>44.700000</td>\n",
       "      <td>2014.000000</td>\n",
       "      <td>176.000000</td>\n",
       "    </tr>\n",
       "    <tr>\n",
       "      <th>max</th>\n",
       "      <td>9.700000</td>\n",
       "      <td>390.000000</td>\n",
       "      <td>133.000000</td>\n",
       "      <td>2019.000000</td>\n",
       "      <td>665.000000</td>\n",
       "    </tr>\n",
       "  </tbody>\n",
       "</table>\n",
       "</div>"
      ],
      "text/plain": [
       "       avg_minutes_game  avg_seconds_point  avg_minutes_set          year  \\\n",
       "count      10078.000000       10078.000000     10078.000000  10078.000000   \n",
       "mean           4.055539          39.191842        39.223477   2009.482635   \n",
       "std            0.870338           5.725583        10.129553      5.766765   \n",
       "min            0.000000           7.100000         0.000000   2000.000000   \n",
       "25%            3.730000          36.300000        34.400000   2004.000000   \n",
       "50%            4.110000          38.800000        39.300000   2009.000000   \n",
       "75%            4.500000          41.600000        44.700000   2014.000000   \n",
       "max            9.700000         390.000000       133.000000   2019.000000   \n",
       "\n",
       "       match_minutes  \n",
       "count   10078.000000  \n",
       "mean      142.781802  \n",
       "std        51.990544  \n",
       "min         0.000000  \n",
       "25%       109.000000  \n",
       "50%       138.000000  \n",
       "75%       176.000000  \n",
       "max       665.000000  "
      ]
     },
     "execution_count": 124,
     "metadata": {},
     "output_type": "execute_result"
    }
   ],
   "source": [
    "df1.describe()"
   ]
  },
  {
   "cell_type": "markdown",
   "id": "564a0dde",
   "metadata": {},
   "source": [
    "['avg_minuts_points'].median()\n",
    "print (r'Mean = {}'.format(mean_points))\n",
    "print (r'Median = {}'.format(median_points))"
   ]
  },
  {
   "cell_type": "markdown",
   "id": "cd199929",
   "metadata": {},
   "source": [
    "### Ex2\n",
    "##### Continuant amb les dades de tema esportiu, selecciona dos atributs i calcula'n la seva correlació. \n",
    "###### anem a donar un cop d'ull a avg_seconds_point & avg_minuts_game"
   ]
  },
  {
   "cell_type": "code",
   "execution_count": 125,
   "id": "b5d19692",
   "metadata": {
    "ExecuteTime": {
     "end_time": "2022-05-04T15:35:55.637818Z",
     "start_time": "2022-05-04T15:35:55.604920Z"
    }
   },
   "outputs": [
    {
     "name": "stdout",
     "output_type": "stream",
     "text": [
      "0.44552221488960986\n"
     ]
    }
   ],
   "source": [
    "# correlation between avg_minutes_game and avg_seconds_point\n",
    "print( df1['avg_minutes_game'].corr( df1['avg_seconds_point']))"
   ]
  },
  {
   "cell_type": "markdown",
   "id": "8b865d97",
   "metadata": {},
   "source": [
    "##### There is a HIGHLY correlation between them!! \n",
    "##### Make sense! More seconds by point means more game minuts!!!"
   ]
  },
  {
   "cell_type": "markdown",
   "id": "891f7100",
   "metadata": {},
   "source": [
    "### NIVELL 2"
   ]
  },
  {
   "cell_type": "markdown",
   "id": "6c6d60f9",
   "metadata": {},
   "source": [
    "### Ex3  \n",
    "##### Continuant amb les dades de tema esportiu, calcula la correlació de tots els atributs entre sí i representa'ls en una matriu amb diferents colors d'intensitat."
   ]
  },
  {
   "cell_type": "code",
   "execution_count": 126,
   "id": "82c9be53",
   "metadata": {
    "ExecuteTime": {
     "end_time": "2022-05-04T15:35:55.725804Z",
     "start_time": "2022-05-04T15:35:55.659299Z"
    },
    "scrolled": true
   },
   "outputs": [
    {
     "data": {
      "text/html": [
       "<div>\n",
       "<style scoped>\n",
       "    .dataframe tbody tr th:only-of-type {\n",
       "        vertical-align: middle;\n",
       "    }\n",
       "\n",
       "    .dataframe tbody tr th {\n",
       "        vertical-align: top;\n",
       "    }\n",
       "\n",
       "    .dataframe thead th {\n",
       "        text-align: right;\n",
       "    }\n",
       "</style>\n",
       "<table border=\"1\" class=\"dataframe\">\n",
       "  <thead>\n",
       "    <tr style=\"text-align: right;\">\n",
       "      <th></th>\n",
       "      <th>avg_minutes_game</th>\n",
       "      <th>avg_seconds_point</th>\n",
       "      <th>avg_minutes_set</th>\n",
       "      <th>year</th>\n",
       "      <th>match_minutes</th>\n",
       "    </tr>\n",
       "  </thead>\n",
       "  <tbody>\n",
       "    <tr>\n",
       "      <th>avg_minutes_game</th>\n",
       "      <td>1.000000</td>\n",
       "      <td>0.445522</td>\n",
       "      <td>0.867337</td>\n",
       "      <td>-0.008512</td>\n",
       "      <td>0.645560</td>\n",
       "    </tr>\n",
       "    <tr>\n",
       "      <th>avg_seconds_point</th>\n",
       "      <td>0.445522</td>\n",
       "      <td>1.000000</td>\n",
       "      <td>0.378057</td>\n",
       "      <td>0.171157</td>\n",
       "      <td>0.299316</td>\n",
       "    </tr>\n",
       "    <tr>\n",
       "      <th>avg_minutes_set</th>\n",
       "      <td>0.867337</td>\n",
       "      <td>0.378057</td>\n",
       "      <td>1.000000</td>\n",
       "      <td>0.006155</td>\n",
       "      <td>0.710076</td>\n",
       "    </tr>\n",
       "    <tr>\n",
       "      <th>year</th>\n",
       "      <td>-0.008512</td>\n",
       "      <td>0.171157</td>\n",
       "      <td>0.006155</td>\n",
       "      <td>1.000000</td>\n",
       "      <td>-0.004004</td>\n",
       "    </tr>\n",
       "    <tr>\n",
       "      <th>match_minutes</th>\n",
       "      <td>0.645560</td>\n",
       "      <td>0.299316</td>\n",
       "      <td>0.710076</td>\n",
       "      <td>-0.004004</td>\n",
       "      <td>1.000000</td>\n",
       "    </tr>\n",
       "  </tbody>\n",
       "</table>\n",
       "</div>"
      ],
      "text/plain": [
       "                   avg_minutes_game  avg_seconds_point  avg_minutes_set  \\\n",
       "avg_minutes_game           1.000000           0.445522         0.867337   \n",
       "avg_seconds_point          0.445522           1.000000         0.378057   \n",
       "avg_minutes_set            0.867337           0.378057         1.000000   \n",
       "year                      -0.008512           0.171157         0.006155   \n",
       "match_minutes              0.645560           0.299316         0.710076   \n",
       "\n",
       "                       year  match_minutes  \n",
       "avg_minutes_game  -0.008512       0.645560  \n",
       "avg_seconds_point  0.171157       0.299316  \n",
       "avg_minutes_set    0.006155       0.710076  \n",
       "year               1.000000      -0.004004  \n",
       "match_minutes     -0.004004       1.000000  "
      ]
     },
     "execution_count": 126,
     "metadata": {},
     "output_type": "execute_result"
    }
   ],
   "source": [
    "df1.corr()"
   ]
  },
  {
   "cell_type": "code",
   "execution_count": 127,
   "id": "df61c2cd",
   "metadata": {},
   "outputs": [
    {
     "data": {
      "text/plain": [
       "<AxesSubplot:>"
      ]
     },
     "execution_count": 127,
     "metadata": {},
     "output_type": "execute_result"
    },
    {
     "data": {
      "image/png": "[encoded data removed]",
      "text/plain": [
       "<Figure size 432x288 with 2 Axes>"
      ]
     },
     "metadata": {
      "needs_background": "light"
     },
     "output_type": "display_data"
    }
   ],
   "source": [
    "import matplotlib.pyplot as plt\n",
    "import seaborn as sns\n",
    "sns.heatmap(df1.corr(), vmin = -1, vmax = +1, annot = True, cmap = 'coolwarm')"
   ]
  },
  {
   "cell_type": "markdown",
   "id": "979fb4fe",
   "metadata": {},
   "source": [
    "### NIVELL 3"
   ]
  },
  {
   "cell_type": "markdown",
   "id": "65bddac0",
   "metadata": {},
   "source": [
    "### Ex4\n",
    "##### Continuant amb les dades de tema esportiu, selecciona un atribut i calcula la mitjana geomètrica i la mitjana harmònica.\n",
    "##### df1['avg_minutes_game']"
   ]
  },
  {
   "cell_type": "code",
   "execution_count": 128,
   "id": "15c201b3",
   "metadata": {},
   "outputs": [
    {
     "name": "stdout",
     "output_type": "stream",
     "text": [
      "Mitjana geomètrica = 0.0\n"
     ]
    },
    {
     "name": "stderr",
     "output_type": "stream",
     "text": [
      "C:\\Users\\Toni Andreu\\AppData\\Roaming\\Python\\Python39\\site-packages\\pandas\\core\\arraylike.py:364: RuntimeWarning: divide by zero encountered in log\n",
      "  result = getattr(ufunc, method)(*inputs, **kwargs)\n"
     ]
    }
   ],
   "source": [
    "def g_mean(x):\n",
    "    a = np.log(x)\n",
    "    return np.exp(a.mean())\n",
    "\n",
    "geometrical_mean = g_mean(df1['avg_minutes_game'])\n",
    "print (r'Mitjana geomètrica = {}'.format(geometrical_mean))"
   ]
  },
  {
   "cell_type": "code",
   "execution_count": 129,
   "metadata": {},
   "outputs": [
    {
     "name": "stdout",
     "output_type": "stream",
     "text": [
      "Mitjana geomètrica = 0.0\n"
     ]
    },
    {
     "name": "stderr",
     "output_type": "stream",
     "text": [
      "C:\\Users\\Toni Andreu\\AppData\\Roaming\\Python\\Python39\\site-packages\\scipy\\stats\\stats.py:275: RuntimeWarning: divide by zero encountered in log\n",
      "  log_a = np.log(np.array(a, dtype=dtype))\n"
     ]
    }
   ],
   "source": [
    "from scipy.stats.mstats import gmean\n",
    "gm = gmean(df1['avg_minutes_game'])\n",
    "print (r'Mitjana geomètrica = {}'.format(gm))"
   ]
  }
 ],
 "metadata": {
  "kernelspec": {
   "display_name": "Python 3.9.5 64-bit",
   "language": "python",
   "name": "python3"
  },
  "language_info": {
   "codemirror_mode": {
    "name": "ipython",
    "version": 3
   },
   "file_extension": ".py",
   "mimetype": "text/x-python",
   "name": "python",
   "nbconvert_exporter": "python",
   "pygments_lexer": "ipython3",
   "version": "3.9.5"
  },
  "vscode": {
   "interpreter": {
    "hash": "c347c8f9a7ef94e4c9e03b4513be7835ed18f45b99a2a817fb579f408b867b16"
   }
  }
 },
 "nbformat": 4,
 "nbformat_minor": 5
}
